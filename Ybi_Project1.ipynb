{
  "nbformat": 4,
  "nbformat_minor": 0,
  "metadata": {
    "colab": {
      "provenance": [],
      "authorship_tag": "ABX9TyN3uyTvCe/4OLJcTcbi/dDr",
      "include_colab_link": true
    },
    "kernelspec": {
      "name": "python3",
      "display_name": "Python 3"
    },
    "language_info": {
      "name": "python"
    }
  },
  "cells": [
    {
      "cell_type": "markdown",
      "metadata": {
        "id": "view-in-github",
        "colab_type": "text"
      },
      "source": [
        "<a href=\"https://colab.research.google.com/github/Shiwani9693/Ybi_Project1/blob/main/Ybi_Project1.ipynb\" target=\"_parent\"><img src=\"https://colab.research.google.com/assets/colab-badge.svg\" alt=\"Open In Colab\"/></a>"
      ]
    },
    {
      "cell_type": "markdown",
      "source": [
        "**Bank Customer Churn Model**"
      ],
      "metadata": {
        "id": "k2UTu8WyDT31"
      }
    },
    {
      "cell_type": "markdown",
      "source": [
        "**OBJECTIVE**"
      ],
      "metadata": {
        "id": "2-3bDUiTDXb6"
      }
    },
    {
      "cell_type": "markdown",
      "source": [
        "**DATA SOURCE**"
      ],
      "metadata": {
        "id": "ttnyZWSuDaSR"
      }
    },
    {
      "cell_type": "markdown",
      "source": [
        "**IMPORT LIBRARIES**"
      ],
      "metadata": {
        "id": "xuO0xYNkDgSe"
      }
    },
    {
      "cell_type": "code",
      "source": [
        "import pandas as pd\n",
        "import numpy as np\n",
        "import matplotlib.pyplot as plt\n",
        "import seaborn as sns"
      ],
      "metadata": {
        "id": "71aRx7YvDjpv"
      },
      "execution_count": 1,
      "outputs": []
    },
    {
      "cell_type": "markdown",
      "source": [
        "**IMPORT DATASET**"
      ],
      "metadata": {
        "id": "MJmm8rQKDqMA"
      }
    },
    {
      "cell_type": "code",
      "source": [
        "#upload the dataset from local device\n",
        "from google.colab import files\n",
        "uploaded = files.upload()"
      ],
      "metadata": {
        "colab": {
          "base_uri": "https://localhost:8080/",
          "height": 73
        },
        "id": "Jmrmg3ugDtY6",
        "outputId": "60ea15b0-44e9-48c6-c321-01a06c175567"
      },
      "execution_count": 2,
      "outputs": [
        {
          "output_type": "display_data",
          "data": {
            "text/plain": [
              "<IPython.core.display.HTML object>"
            ],
            "text/html": [
              "\n",
              "     <input type=\"file\" id=\"files-7630cecd-1e77-40f2-bf9a-76e0baed32ff\" name=\"files[]\" multiple disabled\n",
              "        style=\"border:none\" />\n",
              "     <output id=\"result-7630cecd-1e77-40f2-bf9a-76e0baed32ff\">\n",
              "      Upload widget is only available when the cell has been executed in the\n",
              "      current browser session. Please rerun this cell to enable.\n",
              "      </output>\n",
              "      <script>// Copyright 2017 Google LLC\n",
              "//\n",
              "// Licensed under the Apache License, Version 2.0 (the \"License\");\n",
              "// you may not use this file except in compliance with the License.\n",
              "// You may obtain a copy of the License at\n",
              "//\n",
              "//      http://www.apache.org/licenses/LICENSE-2.0\n",
              "//\n",
              "// Unless required by applicable law or agreed to in writing, software\n",
              "// distributed under the License is distributed on an \"AS IS\" BASIS,\n",
              "// WITHOUT WARRANTIES OR CONDITIONS OF ANY KIND, either express or implied.\n",
              "// See the License for the specific language governing permissions and\n",
              "// limitations under the License.\n",
              "\n",
              "/**\n",
              " * @fileoverview Helpers for google.colab Python module.\n",
              " */\n",
              "(function(scope) {\n",
              "function span(text, styleAttributes = {}) {\n",
              "  const element = document.createElement('span');\n",
              "  element.textContent = text;\n",
              "  for (const key of Object.keys(styleAttributes)) {\n",
              "    element.style[key] = styleAttributes[key];\n",
              "  }\n",
              "  return element;\n",
              "}\n",
              "\n",
              "// Max number of bytes which will be uploaded at a time.\n",
              "const MAX_PAYLOAD_SIZE = 100 * 1024;\n",
              "\n",
              "function _uploadFiles(inputId, outputId) {\n",
              "  const steps = uploadFilesStep(inputId, outputId);\n",
              "  const outputElement = document.getElementById(outputId);\n",
              "  // Cache steps on the outputElement to make it available for the next call\n",
              "  // to uploadFilesContinue from Python.\n",
              "  outputElement.steps = steps;\n",
              "\n",
              "  return _uploadFilesContinue(outputId);\n",
              "}\n",
              "\n",
              "// This is roughly an async generator (not supported in the browser yet),\n",
              "// where there are multiple asynchronous steps and the Python side is going\n",
              "// to poll for completion of each step.\n",
              "// This uses a Promise to block the python side on completion of each step,\n",
              "// then passes the result of the previous step as the input to the next step.\n",
              "function _uploadFilesContinue(outputId) {\n",
              "  const outputElement = document.getElementById(outputId);\n",
              "  const steps = outputElement.steps;\n",
              "\n",
              "  const next = steps.next(outputElement.lastPromiseValue);\n",
              "  return Promise.resolve(next.value.promise).then((value) => {\n",
              "    // Cache the last promise value to make it available to the next\n",
              "    // step of the generator.\n",
              "    outputElement.lastPromiseValue = value;\n",
              "    return next.value.response;\n",
              "  });\n",
              "}\n",
              "\n",
              "/**\n",
              " * Generator function which is called between each async step of the upload\n",
              " * process.\n",
              " * @param {string} inputId Element ID of the input file picker element.\n",
              " * @param {string} outputId Element ID of the output display.\n",
              " * @return {!Iterable<!Object>} Iterable of next steps.\n",
              " */\n",
              "function* uploadFilesStep(inputId, outputId) {\n",
              "  const inputElement = document.getElementById(inputId);\n",
              "  inputElement.disabled = false;\n",
              "\n",
              "  const outputElement = document.getElementById(outputId);\n",
              "  outputElement.innerHTML = '';\n",
              "\n",
              "  const pickedPromise = new Promise((resolve) => {\n",
              "    inputElement.addEventListener('change', (e) => {\n",
              "      resolve(e.target.files);\n",
              "    });\n",
              "  });\n",
              "\n",
              "  const cancel = document.createElement('button');\n",
              "  inputElement.parentElement.appendChild(cancel);\n",
              "  cancel.textContent = 'Cancel upload';\n",
              "  const cancelPromise = new Promise((resolve) => {\n",
              "    cancel.onclick = () => {\n",
              "      resolve(null);\n",
              "    };\n",
              "  });\n",
              "\n",
              "  // Wait for the user to pick the files.\n",
              "  const files = yield {\n",
              "    promise: Promise.race([pickedPromise, cancelPromise]),\n",
              "    response: {\n",
              "      action: 'starting',\n",
              "    }\n",
              "  };\n",
              "\n",
              "  cancel.remove();\n",
              "\n",
              "  // Disable the input element since further picks are not allowed.\n",
              "  inputElement.disabled = true;\n",
              "\n",
              "  if (!files) {\n",
              "    return {\n",
              "      response: {\n",
              "        action: 'complete',\n",
              "      }\n",
              "    };\n",
              "  }\n",
              "\n",
              "  for (const file of files) {\n",
              "    const li = document.createElement('li');\n",
              "    li.append(span(file.name, {fontWeight: 'bold'}));\n",
              "    li.append(span(\n",
              "        `(${file.type || 'n/a'}) - ${file.size} bytes, ` +\n",
              "        `last modified: ${\n",
              "            file.lastModifiedDate ? file.lastModifiedDate.toLocaleDateString() :\n",
              "                                    'n/a'} - `));\n",
              "    const percent = span('0% done');\n",
              "    li.appendChild(percent);\n",
              "\n",
              "    outputElement.appendChild(li);\n",
              "\n",
              "    const fileDataPromise = new Promise((resolve) => {\n",
              "      const reader = new FileReader();\n",
              "      reader.onload = (e) => {\n",
              "        resolve(e.target.result);\n",
              "      };\n",
              "      reader.readAsArrayBuffer(file);\n",
              "    });\n",
              "    // Wait for the data to be ready.\n",
              "    let fileData = yield {\n",
              "      promise: fileDataPromise,\n",
              "      response: {\n",
              "        action: 'continue',\n",
              "      }\n",
              "    };\n",
              "\n",
              "    // Use a chunked sending to avoid message size limits. See b/62115660.\n",
              "    let position = 0;\n",
              "    do {\n",
              "      const length = Math.min(fileData.byteLength - position, MAX_PAYLOAD_SIZE);\n",
              "      const chunk = new Uint8Array(fileData, position, length);\n",
              "      position += length;\n",
              "\n",
              "      const base64 = btoa(String.fromCharCode.apply(null, chunk));\n",
              "      yield {\n",
              "        response: {\n",
              "          action: 'append',\n",
              "          file: file.name,\n",
              "          data: base64,\n",
              "        },\n",
              "      };\n",
              "\n",
              "      let percentDone = fileData.byteLength === 0 ?\n",
              "          100 :\n",
              "          Math.round((position / fileData.byteLength) * 100);\n",
              "      percent.textContent = `${percentDone}% done`;\n",
              "\n",
              "    } while (position < fileData.byteLength);\n",
              "  }\n",
              "\n",
              "  // All done.\n",
              "  yield {\n",
              "    response: {\n",
              "      action: 'complete',\n",
              "    }\n",
              "  };\n",
              "}\n",
              "\n",
              "scope.google = scope.google || {};\n",
              "scope.google.colab = scope.google.colab || {};\n",
              "scope.google.colab._files = {\n",
              "  _uploadFiles,\n",
              "  _uploadFilesContinue,\n",
              "};\n",
              "})(self);\n",
              "</script> "
            ]
          },
          "metadata": {}
        },
        {
          "output_type": "stream",
          "name": "stdout",
          "text": [
            "Saving Bank Churn Modelling (1).csv to Bank Churn Modelling (1).csv\n"
          ]
        }
      ]
    },
    {
      "cell_type": "code",
      "source": [
        "#load the dataset\n",
        "df = pd.read_csv('Bank Churn Modelling (1).csv')"
      ],
      "metadata": {
        "id": "eQgezKvID4BD"
      },
      "execution_count": 3,
      "outputs": []
    },
    {
      "cell_type": "code",
      "source": [
        "df.head()"
      ],
      "metadata": {
        "colab": {
          "base_uri": "https://localhost:8080/",
          "height": 223
        },
        "id": "aYrCnifgD8EV",
        "outputId": "143c1ec0-f34e-46ff-c55b-38c10af90d66"
      },
      "execution_count": 4,
      "outputs": [
        {
          "output_type": "execute_result",
          "data": {
            "text/plain": [
              "   CustomerId   Surname  CreditScore Geography  Gender  Age  Tenure  \\\n",
              "0    15634602  Hargrave          619    France  Female   42       2   \n",
              "1    15647311      Hill          608     Spain  Female   41       1   \n",
              "2    15619304      Onio          502    France  Female   42       8   \n",
              "3    15701354      Boni          699    France  Female   39       1   \n",
              "4    15737888  Mitchell          850     Spain  Female   43       2   \n",
              "\n",
              "     Balance  Num Of Products  Has Credit Card  Is Active Member  \\\n",
              "0       0.00                1                1                 1   \n",
              "1   83807.86                1                0                 1   \n",
              "2  159660.80                3                1                 0   \n",
              "3       0.00                2                0                 0   \n",
              "4  125510.82                1                1                 1   \n",
              "\n",
              "   Estimated Salary  Churn  \n",
              "0         101348.88      1  \n",
              "1         112542.58      0  \n",
              "2         113931.57      1  \n",
              "3          93826.63      0  \n",
              "4          79084.10      0  "
            ],
            "text/html": [
              "\n",
              "  <div id=\"df-be1fb32b-279a-4288-8b6d-155711787595\" class=\"colab-df-container\">\n",
              "    <div>\n",
              "<style scoped>\n",
              "    .dataframe tbody tr th:only-of-type {\n",
              "        vertical-align: middle;\n",
              "    }\n",
              "\n",
              "    .dataframe tbody tr th {\n",
              "        vertical-align: top;\n",
              "    }\n",
              "\n",
              "    .dataframe thead th {\n",
              "        text-align: right;\n",
              "    }\n",
              "</style>\n",
              "<table border=\"1\" class=\"dataframe\">\n",
              "  <thead>\n",
              "    <tr style=\"text-align: right;\">\n",
              "      <th></th>\n",
              "      <th>CustomerId</th>\n",
              "      <th>Surname</th>\n",
              "      <th>CreditScore</th>\n",
              "      <th>Geography</th>\n",
              "      <th>Gender</th>\n",
              "      <th>Age</th>\n",
              "      <th>Tenure</th>\n",
              "      <th>Balance</th>\n",
              "      <th>Num Of Products</th>\n",
              "      <th>Has Credit Card</th>\n",
              "      <th>Is Active Member</th>\n",
              "      <th>Estimated Salary</th>\n",
              "      <th>Churn</th>\n",
              "    </tr>\n",
              "  </thead>\n",
              "  <tbody>\n",
              "    <tr>\n",
              "      <th>0</th>\n",
              "      <td>15634602</td>\n",
              "      <td>Hargrave</td>\n",
              "      <td>619</td>\n",
              "      <td>France</td>\n",
              "      <td>Female</td>\n",
              "      <td>42</td>\n",
              "      <td>2</td>\n",
              "      <td>0.00</td>\n",
              "      <td>1</td>\n",
              "      <td>1</td>\n",
              "      <td>1</td>\n",
              "      <td>101348.88</td>\n",
              "      <td>1</td>\n",
              "    </tr>\n",
              "    <tr>\n",
              "      <th>1</th>\n",
              "      <td>15647311</td>\n",
              "      <td>Hill</td>\n",
              "      <td>608</td>\n",
              "      <td>Spain</td>\n",
              "      <td>Female</td>\n",
              "      <td>41</td>\n",
              "      <td>1</td>\n",
              "      <td>83807.86</td>\n",
              "      <td>1</td>\n",
              "      <td>0</td>\n",
              "      <td>1</td>\n",
              "      <td>112542.58</td>\n",
              "      <td>0</td>\n",
              "    </tr>\n",
              "    <tr>\n",
              "      <th>2</th>\n",
              "      <td>15619304</td>\n",
              "      <td>Onio</td>\n",
              "      <td>502</td>\n",
              "      <td>France</td>\n",
              "      <td>Female</td>\n",
              "      <td>42</td>\n",
              "      <td>8</td>\n",
              "      <td>159660.80</td>\n",
              "      <td>3</td>\n",
              "      <td>1</td>\n",
              "      <td>0</td>\n",
              "      <td>113931.57</td>\n",
              "      <td>1</td>\n",
              "    </tr>\n",
              "    <tr>\n",
              "      <th>3</th>\n",
              "      <td>15701354</td>\n",
              "      <td>Boni</td>\n",
              "      <td>699</td>\n",
              "      <td>France</td>\n",
              "      <td>Female</td>\n",
              "      <td>39</td>\n",
              "      <td>1</td>\n",
              "      <td>0.00</td>\n",
              "      <td>2</td>\n",
              "      <td>0</td>\n",
              "      <td>0</td>\n",
              "      <td>93826.63</td>\n",
              "      <td>0</td>\n",
              "    </tr>\n",
              "    <tr>\n",
              "      <th>4</th>\n",
              "      <td>15737888</td>\n",
              "      <td>Mitchell</td>\n",
              "      <td>850</td>\n",
              "      <td>Spain</td>\n",
              "      <td>Female</td>\n",
              "      <td>43</td>\n",
              "      <td>2</td>\n",
              "      <td>125510.82</td>\n",
              "      <td>1</td>\n",
              "      <td>1</td>\n",
              "      <td>1</td>\n",
              "      <td>79084.10</td>\n",
              "      <td>0</td>\n",
              "    </tr>\n",
              "  </tbody>\n",
              "</table>\n",
              "</div>\n",
              "    <div class=\"colab-df-buttons\">\n",
              "\n",
              "  <div class=\"colab-df-container\">\n",
              "    <button class=\"colab-df-convert\" onclick=\"convertToInteractive('df-be1fb32b-279a-4288-8b6d-155711787595')\"\n",
              "            title=\"Convert this dataframe to an interactive table.\"\n",
              "            style=\"display:none;\">\n",
              "\n",
              "  <svg xmlns=\"http://www.w3.org/2000/svg\" height=\"24px\" viewBox=\"0 -960 960 960\">\n",
              "    <path d=\"M120-120v-720h720v720H120Zm60-500h600v-160H180v160Zm220 220h160v-160H400v160Zm0 220h160v-160H400v160ZM180-400h160v-160H180v160Zm440 0h160v-160H620v160ZM180-180h160v-160H180v160Zm440 0h160v-160H620v160Z\"/>\n",
              "  </svg>\n",
              "    </button>\n",
              "\n",
              "  <style>\n",
              "    .colab-df-container {\n",
              "      display:flex;\n",
              "      gap: 12px;\n",
              "    }\n",
              "\n",
              "    .colab-df-convert {\n",
              "      background-color: #E8F0FE;\n",
              "      border: none;\n",
              "      border-radius: 50%;\n",
              "      cursor: pointer;\n",
              "      display: none;\n",
              "      fill: #1967D2;\n",
              "      height: 32px;\n",
              "      padding: 0 0 0 0;\n",
              "      width: 32px;\n",
              "    }\n",
              "\n",
              "    .colab-df-convert:hover {\n",
              "      background-color: #E2EBFA;\n",
              "      box-shadow: 0px 1px 2px rgba(60, 64, 67, 0.3), 0px 1px 3px 1px rgba(60, 64, 67, 0.15);\n",
              "      fill: #174EA6;\n",
              "    }\n",
              "\n",
              "    .colab-df-buttons div {\n",
              "      margin-bottom: 4px;\n",
              "    }\n",
              "\n",
              "    [theme=dark] .colab-df-convert {\n",
              "      background-color: #3B4455;\n",
              "      fill: #D2E3FC;\n",
              "    }\n",
              "\n",
              "    [theme=dark] .colab-df-convert:hover {\n",
              "      background-color: #434B5C;\n",
              "      box-shadow: 0px 1px 3px 1px rgba(0, 0, 0, 0.15);\n",
              "      filter: drop-shadow(0px 1px 2px rgba(0, 0, 0, 0.3));\n",
              "      fill: #FFFFFF;\n",
              "    }\n",
              "  </style>\n",
              "\n",
              "    <script>\n",
              "      const buttonEl =\n",
              "        document.querySelector('#df-be1fb32b-279a-4288-8b6d-155711787595 button.colab-df-convert');\n",
              "      buttonEl.style.display =\n",
              "        google.colab.kernel.accessAllowed ? 'block' : 'none';\n",
              "\n",
              "      async function convertToInteractive(key) {\n",
              "        const element = document.querySelector('#df-be1fb32b-279a-4288-8b6d-155711787595');\n",
              "        const dataTable =\n",
              "          await google.colab.kernel.invokeFunction('convertToInteractive',\n",
              "                                                    [key], {});\n",
              "        if (!dataTable) return;\n",
              "\n",
              "        const docLinkHtml = 'Like what you see? Visit the ' +\n",
              "          '<a target=\"_blank\" href=https://colab.research.google.com/notebooks/data_table.ipynb>data table notebook</a>'\n",
              "          + ' to learn more about interactive tables.';\n",
              "        element.innerHTML = '';\n",
              "        dataTable['output_type'] = 'display_data';\n",
              "        await google.colab.output.renderOutput(dataTable, element);\n",
              "        const docLink = document.createElement('div');\n",
              "        docLink.innerHTML = docLinkHtml;\n",
              "        element.appendChild(docLink);\n",
              "      }\n",
              "    </script>\n",
              "  </div>\n",
              "\n",
              "\n",
              "<div id=\"df-bc2acdc8-db44-4a65-9ef9-0ed452ddc74a\">\n",
              "  <button class=\"colab-df-quickchart\" onclick=\"quickchart('df-bc2acdc8-db44-4a65-9ef9-0ed452ddc74a')\"\n",
              "            title=\"Suggest charts\"\n",
              "            style=\"display:none;\">\n",
              "\n",
              "<svg xmlns=\"http://www.w3.org/2000/svg\" height=\"24px\"viewBox=\"0 0 24 24\"\n",
              "     width=\"24px\">\n",
              "    <g>\n",
              "        <path d=\"M19 3H5c-1.1 0-2 .9-2 2v14c0 1.1.9 2 2 2h14c1.1 0 2-.9 2-2V5c0-1.1-.9-2-2-2zM9 17H7v-7h2v7zm4 0h-2V7h2v10zm4 0h-2v-4h2v4z\"/>\n",
              "    </g>\n",
              "</svg>\n",
              "  </button>\n",
              "\n",
              "<style>\n",
              "  .colab-df-quickchart {\n",
              "      --bg-color: #E8F0FE;\n",
              "      --fill-color: #1967D2;\n",
              "      --hover-bg-color: #E2EBFA;\n",
              "      --hover-fill-color: #174EA6;\n",
              "      --disabled-fill-color: #AAA;\n",
              "      --disabled-bg-color: #DDD;\n",
              "  }\n",
              "\n",
              "  [theme=dark] .colab-df-quickchart {\n",
              "      --bg-color: #3B4455;\n",
              "      --fill-color: #D2E3FC;\n",
              "      --hover-bg-color: #434B5C;\n",
              "      --hover-fill-color: #FFFFFF;\n",
              "      --disabled-bg-color: #3B4455;\n",
              "      --disabled-fill-color: #666;\n",
              "  }\n",
              "\n",
              "  .colab-df-quickchart {\n",
              "    background-color: var(--bg-color);\n",
              "    border: none;\n",
              "    border-radius: 50%;\n",
              "    cursor: pointer;\n",
              "    display: none;\n",
              "    fill: var(--fill-color);\n",
              "    height: 32px;\n",
              "    padding: 0;\n",
              "    width: 32px;\n",
              "  }\n",
              "\n",
              "  .colab-df-quickchart:hover {\n",
              "    background-color: var(--hover-bg-color);\n",
              "    box-shadow: 0 1px 2px rgba(60, 64, 67, 0.3), 0 1px 3px 1px rgba(60, 64, 67, 0.15);\n",
              "    fill: var(--button-hover-fill-color);\n",
              "  }\n",
              "\n",
              "  .colab-df-quickchart-complete:disabled,\n",
              "  .colab-df-quickchart-complete:disabled:hover {\n",
              "    background-color: var(--disabled-bg-color);\n",
              "    fill: var(--disabled-fill-color);\n",
              "    box-shadow: none;\n",
              "  }\n",
              "\n",
              "  .colab-df-spinner {\n",
              "    border: 2px solid var(--fill-color);\n",
              "    border-color: transparent;\n",
              "    border-bottom-color: var(--fill-color);\n",
              "    animation:\n",
              "      spin 1s steps(1) infinite;\n",
              "  }\n",
              "\n",
              "  @keyframes spin {\n",
              "    0% {\n",
              "      border-color: transparent;\n",
              "      border-bottom-color: var(--fill-color);\n",
              "      border-left-color: var(--fill-color);\n",
              "    }\n",
              "    20% {\n",
              "      border-color: transparent;\n",
              "      border-left-color: var(--fill-color);\n",
              "      border-top-color: var(--fill-color);\n",
              "    }\n",
              "    30% {\n",
              "      border-color: transparent;\n",
              "      border-left-color: var(--fill-color);\n",
              "      border-top-color: var(--fill-color);\n",
              "      border-right-color: var(--fill-color);\n",
              "    }\n",
              "    40% {\n",
              "      border-color: transparent;\n",
              "      border-right-color: var(--fill-color);\n",
              "      border-top-color: var(--fill-color);\n",
              "    }\n",
              "    60% {\n",
              "      border-color: transparent;\n",
              "      border-right-color: var(--fill-color);\n",
              "    }\n",
              "    80% {\n",
              "      border-color: transparent;\n",
              "      border-right-color: var(--fill-color);\n",
              "      border-bottom-color: var(--fill-color);\n",
              "    }\n",
              "    90% {\n",
              "      border-color: transparent;\n",
              "      border-bottom-color: var(--fill-color);\n",
              "    }\n",
              "  }\n",
              "</style>\n",
              "\n",
              "  <script>\n",
              "    async function quickchart(key) {\n",
              "      const quickchartButtonEl =\n",
              "        document.querySelector('#' + key + ' button');\n",
              "      quickchartButtonEl.disabled = true;  // To prevent multiple clicks.\n",
              "      quickchartButtonEl.classList.add('colab-df-spinner');\n",
              "      try {\n",
              "        const charts = await google.colab.kernel.invokeFunction(\n",
              "            'suggestCharts', [key], {});\n",
              "      } catch (error) {\n",
              "        console.error('Error during call to suggestCharts:', error);\n",
              "      }\n",
              "      quickchartButtonEl.classList.remove('colab-df-spinner');\n",
              "      quickchartButtonEl.classList.add('colab-df-quickchart-complete');\n",
              "    }\n",
              "    (() => {\n",
              "      let quickchartButtonEl =\n",
              "        document.querySelector('#df-bc2acdc8-db44-4a65-9ef9-0ed452ddc74a button');\n",
              "      quickchartButtonEl.style.display =\n",
              "        google.colab.kernel.accessAllowed ? 'block' : 'none';\n",
              "    })();\n",
              "  </script>\n",
              "</div>\n",
              "\n",
              "    </div>\n",
              "  </div>\n"
            ],
            "application/vnd.google.colaboratory.intrinsic+json": {
              "type": "dataframe",
              "variable_name": "df",
              "summary": "{\n  \"name\": \"df\",\n  \"rows\": 10000,\n  \"fields\": [\n    {\n      \"column\": \"CustomerId\",\n      \"properties\": {\n        \"dtype\": \"number\",\n        \"std\": 71936,\n        \"min\": 15565701,\n        \"max\": 15815690,\n        \"num_unique_values\": 10000,\n        \"samples\": [\n          15687492,\n          15736963,\n          15721730\n        ],\n        \"semantic_type\": \"\",\n        \"description\": \"\"\n      }\n    },\n    {\n      \"column\": \"Surname\",\n      \"properties\": {\n        \"dtype\": \"category\",\n        \"num_unique_values\": 2932,\n        \"samples\": [\n          \"McGuirk\",\n          \"Torkelson\",\n          \"Rapuluchukwu\"\n        ],\n        \"semantic_type\": \"\",\n        \"description\": \"\"\n      }\n    },\n    {\n      \"column\": \"CreditScore\",\n      \"properties\": {\n        \"dtype\": \"number\",\n        \"std\": 96,\n        \"min\": 350,\n        \"max\": 850,\n        \"num_unique_values\": 460,\n        \"samples\": [\n          754,\n          533,\n          744\n        ],\n        \"semantic_type\": \"\",\n        \"description\": \"\"\n      }\n    },\n    {\n      \"column\": \"Geography\",\n      \"properties\": {\n        \"dtype\": \"category\",\n        \"num_unique_values\": 3,\n        \"samples\": [\n          \"France\",\n          \"Spain\",\n          \"Germany\"\n        ],\n        \"semantic_type\": \"\",\n        \"description\": \"\"\n      }\n    },\n    {\n      \"column\": \"Gender\",\n      \"properties\": {\n        \"dtype\": \"category\",\n        \"num_unique_values\": 2,\n        \"samples\": [\n          \"Male\",\n          \"Female\"\n        ],\n        \"semantic_type\": \"\",\n        \"description\": \"\"\n      }\n    },\n    {\n      \"column\": \"Age\",\n      \"properties\": {\n        \"dtype\": \"number\",\n        \"std\": 10,\n        \"min\": 18,\n        \"max\": 92,\n        \"num_unique_values\": 70,\n        \"samples\": [\n          61,\n          42\n        ],\n        \"semantic_type\": \"\",\n        \"description\": \"\"\n      }\n    },\n    {\n      \"column\": \"Tenure\",\n      \"properties\": {\n        \"dtype\": \"number\",\n        \"std\": 2,\n        \"min\": 0,\n        \"max\": 10,\n        \"num_unique_values\": 11,\n        \"samples\": [\n          6,\n          2\n        ],\n        \"semantic_type\": \"\",\n        \"description\": \"\"\n      }\n    },\n    {\n      \"column\": \"Balance\",\n      \"properties\": {\n        \"dtype\": \"number\",\n        \"std\": 62397.40520238623,\n        \"min\": 0.0,\n        \"max\": 250898.09,\n        \"num_unique_values\": 6382,\n        \"samples\": [\n          117707.18,\n          133050.97\n        ],\n        \"semantic_type\": \"\",\n        \"description\": \"\"\n      }\n    },\n    {\n      \"column\": \"Num Of Products\",\n      \"properties\": {\n        \"dtype\": \"number\",\n        \"std\": 0,\n        \"min\": 1,\n        \"max\": 4,\n        \"num_unique_values\": 4,\n        \"samples\": [\n          3,\n          4\n        ],\n        \"semantic_type\": \"\",\n        \"description\": \"\"\n      }\n    },\n    {\n      \"column\": \"Has Credit Card\",\n      \"properties\": {\n        \"dtype\": \"number\",\n        \"std\": 0,\n        \"min\": 0,\n        \"max\": 1,\n        \"num_unique_values\": 2,\n        \"samples\": [\n          0,\n          1\n        ],\n        \"semantic_type\": \"\",\n        \"description\": \"\"\n      }\n    },\n    {\n      \"column\": \"Is Active Member\",\n      \"properties\": {\n        \"dtype\": \"number\",\n        \"std\": 0,\n        \"min\": 0,\n        \"max\": 1,\n        \"num_unique_values\": 2,\n        \"samples\": [\n          0,\n          1\n        ],\n        \"semantic_type\": \"\",\n        \"description\": \"\"\n      }\n    },\n    {\n      \"column\": \"Estimated Salary\",\n      \"properties\": {\n        \"dtype\": \"number\",\n        \"std\": 57510.49281769822,\n        \"min\": 11.58,\n        \"max\": 199992.48,\n        \"num_unique_values\": 9999,\n        \"samples\": [\n          100809.99,\n          95273.73\n        ],\n        \"semantic_type\": \"\",\n        \"description\": \"\"\n      }\n    },\n    {\n      \"column\": \"Churn\",\n      \"properties\": {\n        \"dtype\": \"number\",\n        \"std\": 0,\n        \"min\": 0,\n        \"max\": 1,\n        \"num_unique_values\": 2,\n        \"samples\": [\n          0,\n          1\n        ],\n        \"semantic_type\": \"\",\n        \"description\": \"\"\n      }\n    }\n  ]\n}"
            }
          },
          "metadata": {},
          "execution_count": 4
        }
      ]
    },
    {
      "cell_type": "code",
      "source": [
        "df.info()"
      ],
      "metadata": {
        "colab": {
          "base_uri": "https://localhost:8080/"
        },
        "id": "eM85oKzoD-bZ",
        "outputId": "9221308f-53b2-4e80-8506-0844de82eec5"
      },
      "execution_count": 5,
      "outputs": [
        {
          "output_type": "stream",
          "name": "stdout",
          "text": [
            "<class 'pandas.core.frame.DataFrame'>\n",
            "RangeIndex: 10000 entries, 0 to 9999\n",
            "Data columns (total 13 columns):\n",
            " #   Column            Non-Null Count  Dtype  \n",
            "---  ------            --------------  -----  \n",
            " 0   CustomerId        10000 non-null  int64  \n",
            " 1   Surname           10000 non-null  object \n",
            " 2   CreditScore       10000 non-null  int64  \n",
            " 3   Geography         10000 non-null  object \n",
            " 4   Gender            10000 non-null  object \n",
            " 5   Age               10000 non-null  int64  \n",
            " 6   Tenure            10000 non-null  int64  \n",
            " 7   Balance           10000 non-null  float64\n",
            " 8   Num Of Products   10000 non-null  int64  \n",
            " 9   Has Credit Card   10000 non-null  int64  \n",
            " 10  Is Active Member  10000 non-null  int64  \n",
            " 11  Estimated Salary  10000 non-null  float64\n",
            " 12  Churn             10000 non-null  int64  \n",
            "dtypes: float64(2), int64(8), object(3)\n",
            "memory usage: 1015.8+ KB\n"
          ]
        }
      ]
    },
    {
      "cell_type": "code",
      "source": [
        "df.duplicated('CustomerId').sum()"
      ],
      "metadata": {
        "colab": {
          "base_uri": "https://localhost:8080/"
        },
        "id": "5JCq_zCyEDiZ",
        "outputId": "43d5c6bf-6c34-415e-b007-cbc541fa7f03"
      },
      "execution_count": 6,
      "outputs": [
        {
          "output_type": "execute_result",
          "data": {
            "text/plain": [
              "0"
            ]
          },
          "metadata": {},
          "execution_count": 6
        }
      ]
    },
    {
      "cell_type": "code",
      "source": [
        "df=df.set_index('CustomerId')"
      ],
      "metadata": {
        "id": "bea4qmiXEGtY"
      },
      "execution_count": 7,
      "outputs": []
    },
    {
      "cell_type": "code",
      "source": [
        "df.info()"
      ],
      "metadata": {
        "colab": {
          "base_uri": "https://localhost:8080/"
        },
        "id": "1AMeFoepEJGd",
        "outputId": "6f0d9796-de16-4995-b493-21dadabe1136"
      },
      "execution_count": 8,
      "outputs": [
        {
          "output_type": "stream",
          "name": "stdout",
          "text": [
            "<class 'pandas.core.frame.DataFrame'>\n",
            "Index: 10000 entries, 15634602 to 15628319\n",
            "Data columns (total 12 columns):\n",
            " #   Column            Non-Null Count  Dtype  \n",
            "---  ------            --------------  -----  \n",
            " 0   Surname           10000 non-null  object \n",
            " 1   CreditScore       10000 non-null  int64  \n",
            " 2   Geography         10000 non-null  object \n",
            " 3   Gender            10000 non-null  object \n",
            " 4   Age               10000 non-null  int64  \n",
            " 5   Tenure            10000 non-null  int64  \n",
            " 6   Balance           10000 non-null  float64\n",
            " 7   Num Of Products   10000 non-null  int64  \n",
            " 8   Has Credit Card   10000 non-null  int64  \n",
            " 9   Is Active Member  10000 non-null  int64  \n",
            " 10  Estimated Salary  10000 non-null  float64\n",
            " 11  Churn             10000 non-null  int64  \n",
            "dtypes: float64(2), int64(7), object(3)\n",
            "memory usage: 1015.6+ KB\n"
          ]
        }
      ]
    },
    {
      "cell_type": "markdown",
      "source": [
        "**Encoding**"
      ],
      "metadata": {
        "id": "QexVE8B3ELax"
      }
    },
    {
      "cell_type": "code",
      "source": [
        "df['Geography'].value_counts()"
      ],
      "metadata": {
        "colab": {
          "base_uri": "https://localhost:8080/",
          "height": 209
        },
        "id": "j25q23wvEOqZ",
        "outputId": "e74cc963-f5ac-4dea-df3a-bade80a79eff"
      },
      "execution_count": 9,
      "outputs": [
        {
          "output_type": "execute_result",
          "data": {
            "text/plain": [
              "Geography\n",
              "France     5014\n",
              "Germany    2509\n",
              "Spain      2477\n",
              "Name: count, dtype: int64"
            ],
            "text/html": [
              "<div>\n",
              "<style scoped>\n",
              "    .dataframe tbody tr th:only-of-type {\n",
              "        vertical-align: middle;\n",
              "    }\n",
              "\n",
              "    .dataframe tbody tr th {\n",
              "        vertical-align: top;\n",
              "    }\n",
              "\n",
              "    .dataframe thead th {\n",
              "        text-align: right;\n",
              "    }\n",
              "</style>\n",
              "<table border=\"1\" class=\"dataframe\">\n",
              "  <thead>\n",
              "    <tr style=\"text-align: right;\">\n",
              "      <th></th>\n",
              "      <th>count</th>\n",
              "    </tr>\n",
              "    <tr>\n",
              "      <th>Geography</th>\n",
              "      <th></th>\n",
              "    </tr>\n",
              "  </thead>\n",
              "  <tbody>\n",
              "    <tr>\n",
              "      <th>France</th>\n",
              "      <td>5014</td>\n",
              "    </tr>\n",
              "    <tr>\n",
              "      <th>Germany</th>\n",
              "      <td>2509</td>\n",
              "    </tr>\n",
              "    <tr>\n",
              "      <th>Spain</th>\n",
              "      <td>2477</td>\n",
              "    </tr>\n",
              "  </tbody>\n",
              "</table>\n",
              "</div><br><label><b>dtype:</b> int64</label>"
            ]
          },
          "metadata": {},
          "execution_count": 9
        }
      ]
    },
    {
      "cell_type": "code",
      "source": [
        "df.replace({'Geography':{'France':0,'Germany':1,'Spain':2}},inplace=True)"
      ],
      "metadata": {
        "colab": {
          "base_uri": "https://localhost:8080/"
        },
        "id": "4C3Hf_WMETj7",
        "outputId": "5402b456-c0de-4932-dfe2-71b94927e459"
      },
      "execution_count": 10,
      "outputs": [
        {
          "output_type": "stream",
          "name": "stderr",
          "text": [
            "<ipython-input-10-97155f130144>:1: FutureWarning: Downcasting behavior in `replace` is deprecated and will be removed in a future version. To retain the old behavior, explicitly call `result.infer_objects(copy=False)`. To opt-in to the future behavior, set `pd.set_option('future.no_silent_downcasting', True)`\n",
            "  df.replace({'Geography':{'France':0,'Germany':1,'Spain':2}},inplace=True)\n"
          ]
        }
      ]
    },
    {
      "cell_type": "code",
      "source": [
        "df['Gender'].value_counts()"
      ],
      "metadata": {
        "colab": {
          "base_uri": "https://localhost:8080/",
          "height": 178
        },
        "id": "fqqU_LfCEVSe",
        "outputId": "16d6f6db-452c-4155-af58-ea3ff7803c15"
      },
      "execution_count": 11,
      "outputs": [
        {
          "output_type": "execute_result",
          "data": {
            "text/plain": [
              "Gender\n",
              "Male      5457\n",
              "Female    4543\n",
              "Name: count, dtype: int64"
            ],
            "text/html": [
              "<div>\n",
              "<style scoped>\n",
              "    .dataframe tbody tr th:only-of-type {\n",
              "        vertical-align: middle;\n",
              "    }\n",
              "\n",
              "    .dataframe tbody tr th {\n",
              "        vertical-align: top;\n",
              "    }\n",
              "\n",
              "    .dataframe thead th {\n",
              "        text-align: right;\n",
              "    }\n",
              "</style>\n",
              "<table border=\"1\" class=\"dataframe\">\n",
              "  <thead>\n",
              "    <tr style=\"text-align: right;\">\n",
              "      <th></th>\n",
              "      <th>count</th>\n",
              "    </tr>\n",
              "    <tr>\n",
              "      <th>Gender</th>\n",
              "      <th></th>\n",
              "    </tr>\n",
              "  </thead>\n",
              "  <tbody>\n",
              "    <tr>\n",
              "      <th>Male</th>\n",
              "      <td>5457</td>\n",
              "    </tr>\n",
              "    <tr>\n",
              "      <th>Female</th>\n",
              "      <td>4543</td>\n",
              "    </tr>\n",
              "  </tbody>\n",
              "</table>\n",
              "</div><br><label><b>dtype:</b> int64</label>"
            ]
          },
          "metadata": {},
          "execution_count": 11
        }
      ]
    },
    {
      "cell_type": "code",
      "source": [
        "df.replace({'Gender':{'Female':0,'Male':1}},inplace=True)"
      ],
      "metadata": {
        "colab": {
          "base_uri": "https://localhost:8080/"
        },
        "id": "Wk3Yi8dPEaBK",
        "outputId": "11770475-397d-4cd8-e22e-ae8f97ca8f52"
      },
      "execution_count": 12,
      "outputs": [
        {
          "output_type": "stream",
          "name": "stderr",
          "text": [
            "<ipython-input-12-5f8e7ce431e1>:1: FutureWarning: Downcasting behavior in `replace` is deprecated and will be removed in a future version. To retain the old behavior, explicitly call `result.infer_objects(copy=False)`. To opt-in to the future behavior, set `pd.set_option('future.no_silent_downcasting', True)`\n",
            "  df.replace({'Gender':{'Female':0,'Male':1}},inplace=True)\n"
          ]
        }
      ]
    },
    {
      "cell_type": "code",
      "source": [
        "df['Num Of Products'].value_counts()"
      ],
      "metadata": {
        "colab": {
          "base_uri": "https://localhost:8080/",
          "height": 241
        },
        "id": "MURKc-beEc33",
        "outputId": "eea8d3ae-c17c-4007-d93f-e75f2bdc4428"
      },
      "execution_count": 13,
      "outputs": [
        {
          "output_type": "execute_result",
          "data": {
            "text/plain": [
              "Num Of Products\n",
              "1    5084\n",
              "2    4590\n",
              "3     266\n",
              "4      60\n",
              "Name: count, dtype: int64"
            ],
            "text/html": [
              "<div>\n",
              "<style scoped>\n",
              "    .dataframe tbody tr th:only-of-type {\n",
              "        vertical-align: middle;\n",
              "    }\n",
              "\n",
              "    .dataframe tbody tr th {\n",
              "        vertical-align: top;\n",
              "    }\n",
              "\n",
              "    .dataframe thead th {\n",
              "        text-align: right;\n",
              "    }\n",
              "</style>\n",
              "<table border=\"1\" class=\"dataframe\">\n",
              "  <thead>\n",
              "    <tr style=\"text-align: right;\">\n",
              "      <th></th>\n",
              "      <th>count</th>\n",
              "    </tr>\n",
              "    <tr>\n",
              "      <th>Num Of Products</th>\n",
              "      <th></th>\n",
              "    </tr>\n",
              "  </thead>\n",
              "  <tbody>\n",
              "    <tr>\n",
              "      <th>1</th>\n",
              "      <td>5084</td>\n",
              "    </tr>\n",
              "    <tr>\n",
              "      <th>2</th>\n",
              "      <td>4590</td>\n",
              "    </tr>\n",
              "    <tr>\n",
              "      <th>3</th>\n",
              "      <td>266</td>\n",
              "    </tr>\n",
              "    <tr>\n",
              "      <th>4</th>\n",
              "      <td>60</td>\n",
              "    </tr>\n",
              "  </tbody>\n",
              "</table>\n",
              "</div><br><label><b>dtype:</b> int64</label>"
            ]
          },
          "metadata": {},
          "execution_count": 13
        }
      ]
    },
    {
      "cell_type": "code",
      "source": [
        "df.replace({'Num Of Products':{1:0,2:1,3:2,4:3}},inplace=True)"
      ],
      "metadata": {
        "id": "BMKC8K6lEgOM"
      },
      "execution_count": 14,
      "outputs": []
    },
    {
      "cell_type": "code",
      "source": [
        "df['Has Credit Card'].value_counts()"
      ],
      "metadata": {
        "colab": {
          "base_uri": "https://localhost:8080/",
          "height": 178
        },
        "id": "hPAzB-q5EiZU",
        "outputId": "05a20ef6-e26d-43d5-8b3d-746ffd282e28"
      },
      "execution_count": 15,
      "outputs": [
        {
          "output_type": "execute_result",
          "data": {
            "text/plain": [
              "Has Credit Card\n",
              "1    7055\n",
              "0    2945\n",
              "Name: count, dtype: int64"
            ],
            "text/html": [
              "<div>\n",
              "<style scoped>\n",
              "    .dataframe tbody tr th:only-of-type {\n",
              "        vertical-align: middle;\n",
              "    }\n",
              "\n",
              "    .dataframe tbody tr th {\n",
              "        vertical-align: top;\n",
              "    }\n",
              "\n",
              "    .dataframe thead th {\n",
              "        text-align: right;\n",
              "    }\n",
              "</style>\n",
              "<table border=\"1\" class=\"dataframe\">\n",
              "  <thead>\n",
              "    <tr style=\"text-align: right;\">\n",
              "      <th></th>\n",
              "      <th>count</th>\n",
              "    </tr>\n",
              "    <tr>\n",
              "      <th>Has Credit Card</th>\n",
              "      <th></th>\n",
              "    </tr>\n",
              "  </thead>\n",
              "  <tbody>\n",
              "    <tr>\n",
              "      <th>1</th>\n",
              "      <td>7055</td>\n",
              "    </tr>\n",
              "    <tr>\n",
              "      <th>0</th>\n",
              "      <td>2945</td>\n",
              "    </tr>\n",
              "  </tbody>\n",
              "</table>\n",
              "</div><br><label><b>dtype:</b> int64</label>"
            ]
          },
          "metadata": {},
          "execution_count": 15
        }
      ]
    },
    {
      "cell_type": "code",
      "source": [
        "df['Is Active Member'].value_counts()"
      ],
      "metadata": {
        "colab": {
          "base_uri": "https://localhost:8080/",
          "height": 178
        },
        "id": "RZ9g6bSMEmkq",
        "outputId": "3a34c9b8-bdf6-4f94-cd18-0fadd3990613"
      },
      "execution_count": 16,
      "outputs": [
        {
          "output_type": "execute_result",
          "data": {
            "text/plain": [
              "Is Active Member\n",
              "1    5151\n",
              "0    4849\n",
              "Name: count, dtype: int64"
            ],
            "text/html": [
              "<div>\n",
              "<style scoped>\n",
              "    .dataframe tbody tr th:only-of-type {\n",
              "        vertical-align: middle;\n",
              "    }\n",
              "\n",
              "    .dataframe tbody tr th {\n",
              "        vertical-align: top;\n",
              "    }\n",
              "\n",
              "    .dataframe thead th {\n",
              "        text-align: right;\n",
              "    }\n",
              "</style>\n",
              "<table border=\"1\" class=\"dataframe\">\n",
              "  <thead>\n",
              "    <tr style=\"text-align: right;\">\n",
              "      <th></th>\n",
              "      <th>count</th>\n",
              "    </tr>\n",
              "    <tr>\n",
              "      <th>Is Active Member</th>\n",
              "      <th></th>\n",
              "    </tr>\n",
              "  </thead>\n",
              "  <tbody>\n",
              "    <tr>\n",
              "      <th>1</th>\n",
              "      <td>5151</td>\n",
              "    </tr>\n",
              "    <tr>\n",
              "      <th>0</th>\n",
              "      <td>4849</td>\n",
              "    </tr>\n",
              "  </tbody>\n",
              "</table>\n",
              "</div><br><label><b>dtype:</b> int64</label>"
            ]
          },
          "metadata": {},
          "execution_count": 16
        }
      ]
    },
    {
      "cell_type": "code",
      "source": [
        "df.loc[(df['Balance']==0), 'Churn'].value_counts()"
      ],
      "metadata": {
        "colab": {
          "base_uri": "https://localhost:8080/",
          "height": 178
        },
        "id": "ONQTgqcZEpnJ",
        "outputId": "91053f58-dcff-4c1c-d223-f6cd926cda13"
      },
      "execution_count": 17,
      "outputs": [
        {
          "output_type": "execute_result",
          "data": {
            "text/plain": [
              "Churn\n",
              "0    3117\n",
              "1     500\n",
              "Name: count, dtype: int64"
            ],
            "text/html": [
              "<div>\n",
              "<style scoped>\n",
              "    .dataframe tbody tr th:only-of-type {\n",
              "        vertical-align: middle;\n",
              "    }\n",
              "\n",
              "    .dataframe tbody tr th {\n",
              "        vertical-align: top;\n",
              "    }\n",
              "\n",
              "    .dataframe thead th {\n",
              "        text-align: right;\n",
              "    }\n",
              "</style>\n",
              "<table border=\"1\" class=\"dataframe\">\n",
              "  <thead>\n",
              "    <tr style=\"text-align: right;\">\n",
              "      <th></th>\n",
              "      <th>count</th>\n",
              "    </tr>\n",
              "    <tr>\n",
              "      <th>Churn</th>\n",
              "      <th></th>\n",
              "    </tr>\n",
              "  </thead>\n",
              "  <tbody>\n",
              "    <tr>\n",
              "      <th>0</th>\n",
              "      <td>3117</td>\n",
              "    </tr>\n",
              "    <tr>\n",
              "      <th>1</th>\n",
              "      <td>500</td>\n",
              "    </tr>\n",
              "  </tbody>\n",
              "</table>\n",
              "</div><br><label><b>dtype:</b> int64</label>"
            ]
          },
          "metadata": {},
          "execution_count": 17
        }
      ]
    },
    {
      "cell_type": "code",
      "source": [
        "df['Zero Balance']=np.where(df['Balance']==0,1,0)"
      ],
      "metadata": {
        "id": "VS1YvSZ9Eshi"
      },
      "execution_count": 18,
      "outputs": []
    },
    {
      "cell_type": "code",
      "source": [
        "df['Zero Balance'].hist()"
      ],
      "metadata": {
        "colab": {
          "base_uri": "https://localhost:8080/",
          "height": 447
        },
        "id": "9N8bG9--Euzr",
        "outputId": "8046fe84-e52e-4af2-89b0-1d755ddafd29"
      },
      "execution_count": 19,
      "outputs": [
        {
          "output_type": "execute_result",
          "data": {
            "text/plain": [
              "<Axes: >"
            ]
          },
          "metadata": {},
          "execution_count": 19
        },
        {
          "output_type": "display_data",
          "data": {
            "text/plain": [
              "<Figure size 640x480 with 1 Axes>"
            ],
            "image/png": "[encoded data removed]"
          },
          "metadata": {}
        }
      ]
    },
    {
      "cell_type": "code",
      "source": [
        "df.groupby('Churn')['Geography'].value_counts()"
      ],
      "metadata": {
        "colab": {
          "base_uri": "https://localhost:8080/",
          "height": 303
        },
        "id": "z2YB_cSjEw44",
        "outputId": "95617dc9-0f09-4ce1-d5d4-cf56dc318ca0"
      },
      "execution_count": 20,
      "outputs": [
        {
          "output_type": "execute_result",
          "data": {
            "text/plain": [
              "Churn  Geography\n",
              "0      0            4204\n",
              "       2            2064\n",
              "       1            1695\n",
              "1      1             814\n",
              "       0             810\n",
              "       2             413\n",
              "Name: count, dtype: int64"
            ],
            "text/html": [
              "<div>\n",
              "<style scoped>\n",
              "    .dataframe tbody tr th:only-of-type {\n",
              "        vertical-align: middle;\n",
              "    }\n",
              "\n",
              "    .dataframe tbody tr th {\n",
              "        vertical-align: top;\n",
              "    }\n",
              "\n",
              "    .dataframe thead th {\n",
              "        text-align: right;\n",
              "    }\n",
              "</style>\n",
              "<table border=\"1\" class=\"dataframe\">\n",
              "  <thead>\n",
              "    <tr style=\"text-align: right;\">\n",
              "      <th></th>\n",
              "      <th></th>\n",
              "      <th>count</th>\n",
              "    </tr>\n",
              "    <tr>\n",
              "      <th>Churn</th>\n",
              "      <th>Geography</th>\n",
              "      <th></th>\n",
              "    </tr>\n",
              "  </thead>\n",
              "  <tbody>\n",
              "    <tr>\n",
              "      <th rowspan=\"3\" valign=\"top\">0</th>\n",
              "      <th>0</th>\n",
              "      <td>4204</td>\n",
              "    </tr>\n",
              "    <tr>\n",
              "      <th>2</th>\n",
              "      <td>2064</td>\n",
              "    </tr>\n",
              "    <tr>\n",
              "      <th>1</th>\n",
              "      <td>1695</td>\n",
              "    </tr>\n",
              "    <tr>\n",
              "      <th rowspan=\"3\" valign=\"top\">1</th>\n",
              "      <th>1</th>\n",
              "      <td>814</td>\n",
              "    </tr>\n",
              "    <tr>\n",
              "      <th>0</th>\n",
              "      <td>810</td>\n",
              "    </tr>\n",
              "    <tr>\n",
              "      <th>2</th>\n",
              "      <td>413</td>\n",
              "    </tr>\n",
              "  </tbody>\n",
              "</table>\n",
              "</div><br><label><b>dtype:</b> int64</label>"
            ]
          },
          "metadata": {},
          "execution_count": 20
        }
      ]
    },
    {
      "cell_type": "markdown",
      "source": [
        "**Define Label and Features**"
      ],
      "metadata": {
        "id": "siKKpjdvE1Jz"
      }
    },
    {
      "cell_type": "code",
      "source": [
        "df.columns"
      ],
      "metadata": {
        "colab": {
          "base_uri": "https://localhost:8080/"
        },
        "id": "qkHziocTE57c",
        "outputId": "f998e774-4d31-4ecd-9386-ee22ed926504"
      },
      "execution_count": 21,
      "outputs": [
        {
          "output_type": "execute_result",
          "data": {
            "text/plain": [
              "Index(['Surname', 'CreditScore', 'Geography', 'Gender', 'Age', 'Tenure',\n",
              "       'Balance', 'Num Of Products', 'Has Credit Card', 'Is Active Member',\n",
              "       'Estimated Salary', 'Churn', 'Zero Balance'],\n",
              "      dtype='object')"
            ]
          },
          "metadata": {},
          "execution_count": 21
        }
      ]
    },
    {
      "cell_type": "code",
      "source": [
        "X = df.drop(['Surname','Churn'], axis=1)"
      ],
      "metadata": {
        "id": "6mRbWigsE88a"
      },
      "execution_count": 22,
      "outputs": []
    },
    {
      "cell_type": "code",
      "source": [
        "y = df['Churn']"
      ],
      "metadata": {
        "id": "IYRrHdVzFAwl"
      },
      "execution_count": 23,
      "outputs": []
    },
    {
      "cell_type": "code",
      "source": [
        "X.shape,y.shape"
      ],
      "metadata": {
        "colab": {
          "base_uri": "https://localhost:8080/"
        },
        "id": "c8wN8jo-FC4L",
        "outputId": "7e00231e-4db0-49c0-c6f7-3cc15f5d2f67"
      },
      "execution_count": 24,
      "outputs": [
        {
          "output_type": "execute_result",
          "data": {
            "text/plain": [
              "((10000, 11), (10000,))"
            ]
          },
          "metadata": {},
          "execution_count": 24
        }
      ]
    },
    {
      "cell_type": "markdown",
      "source": [
        "**Handling Imbalance Data**"
      ],
      "metadata": {
        "id": "DhmhGPZmFE6L"
      }
    },
    {
      "cell_type": "markdown",
      "source": [
        "Imbalanced data occurs when the distribution of classes in a dataset is not uniform, i.e., one class significantly outnumbers the others. This\n",
        "imbalance can lead to biased models that perform well on the majority class but poorly on the minority class."
      ],
      "metadata": {
        "id": "9OFN8lDOFIge"
      }
    },
    {
      "cell_type": "markdown",
      "source": [
        "Strategies to Handle Imbalanced Data: Resampling Techniques:"
      ],
      "metadata": {
        "id": "PZn0ASLmFMJj"
      }
    },
    {
      "cell_type": "markdown",
      "source": [
        "Oversampling: Increasing the instances of the minority class (e.g., using SMOTE - Synthetic Minority Oversampling Technique). Undersampling:\n",
        "Reducing the instances of the majority class. Using Appropriate Evaluation Metrics: Metrics like precision, recall, F1-score, AUC-ROC, and\n",
        "confusion matrix are better suited than accuracy for imbalanced datasets"
      ],
      "metadata": {
        "id": "XipTcHh3FPSq"
      }
    },
    {
      "cell_type": "markdown",
      "source": [
        "Cost-Sensitive Learning: Assign higher penalties for misclassifying the minority class to make the model more sensitive to it.\n",
        "Ensemble Methods: Techniques like Random Forests and Gradient Boosting can handle imbalanced data better due to their internal\n",
        "mechanisms"
      ],
      "metadata": {
        "id": "5uXwLP7tFS82"
      }
    },
    {
      "cell_type": "markdown",
      "source": [
        "Class Weights: Many machine learning algorithms allow specifying class weights to give more importance to the minority class.\n"
      ],
      "metadata": {
        "id": "BZcmgwaPFXCB"
      }
    },
    {
      "cell_type": "markdown",
      "source": [
        "Example: Suppose we have a dataset for credit card fraud detection, where 99% of transactions are legitimate (non-fraud) and only 1% are\n",
        "fraudulent. If we train a classifier on this dataset without handling the imbalance, it might predict all transactions as legitimate, achieving high\n",
        "accuracy but failing to detect fraud."
      ],
      "metadata": {
        "id": "8TTGVTtuFaGn"
      }
    },
    {
      "cell_type": "markdown",
      "source": [
        "**Oversampling**"
      ],
      "metadata": {
        "id": "fo_RoFdjFeyB"
      }
    },
    {
      "cell_type": "markdown",
      "source": [
        "![Screenshot_8-2-2025_0429_.jpeg](data:image/jpeg;base64,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)"
      ],
      "metadata": {
        "id": "GNCsGMXfFifF"
      }
    },
    {
      "cell_type": "markdown",
      "source": [
        "Example: Use SMOTE to synthetically create samples of the fraudulent class. Evaluation Metric Example: Use AUC-ROC to evaluate the model\n",
        "instead of accuracy. Class Weights: In an SVM model, set class_weight='balanced' to adjust weights automatically based on class frequencies.\n",
        "By applying these techniques, the model becomes more effective at detecting fraudulent transactions, ensuring balanced performance across\n",
        "all classes.\n"
      ],
      "metadata": {
        "id": "57ESiWaXFmD9"
      }
    },
    {
      "cell_type": "markdown",
      "source": [
        "**Undersampling:** Undersampling involves reducing the number of samples in the majority class to balance the dataset. By discarding some\n",
        "majority class samples, it equalizes the class distribution but risks losing valuable information."
      ],
      "metadata": {
        "id": "3_L9BR2WFp34"
      }
    },
    {
      "cell_type": "markdown",
      "source": [
        "Advantage: Simpler and faster as it reduces dataset size. Disadvantage: Can result in loss of significant data, potentially leading to underfitting.\n",
        "Oversampling: Oversampling increases the number of samples in the minority class to match the majority class. This can be done by\n",
        "duplicating existing samples or creating synthetic samples using techniques like SMOTE (Synthetic Minority Oversampling Technique).\n"
      ],
      "metadata": {
        "id": "ASxaxoYlFt6p"
      }
    },
    {
      "cell_type": "markdown",
      "source": [
        "Advantage: Preserves all data from the majority class. Disadvantage: Can lead to overfitting if the minority class is simply duplicated without\n",
        "generating diverse synthetic samples"
      ],
      "metadata": {
        "id": "eAstzii_Fx2b"
      }
    },
    {
      "cell_type": "code",
      "source": [
        "df['Churn'].value_counts()"
      ],
      "metadata": {
        "colab": {
          "base_uri": "https://localhost:8080/",
          "height": 178
        },
        "id": "2osgXtSTF068",
        "outputId": "e9cffe6d-f061-4cd8-c12d-bbc793318487"
      },
      "execution_count": 25,
      "outputs": [
        {
          "output_type": "execute_result",
          "data": {
            "text/plain": [
              "Churn\n",
              "0    7963\n",
              "1    2037\n",
              "Name: count, dtype: int64"
            ],
            "text/html": [
              "<div>\n",
              "<style scoped>\n",
              "    .dataframe tbody tr th:only-of-type {\n",
              "        vertical-align: middle;\n",
              "    }\n",
              "\n",
              "    .dataframe tbody tr th {\n",
              "        vertical-align: top;\n",
              "    }\n",
              "\n",
              "    .dataframe thead th {\n",
              "        text-align: right;\n",
              "    }\n",
              "</style>\n",
              "<table border=\"1\" class=\"dataframe\">\n",
              "  <thead>\n",
              "    <tr style=\"text-align: right;\">\n",
              "      <th></th>\n",
              "      <th>count</th>\n",
              "    </tr>\n",
              "    <tr>\n",
              "      <th>Churn</th>\n",
              "      <th></th>\n",
              "    </tr>\n",
              "  </thead>\n",
              "  <tbody>\n",
              "    <tr>\n",
              "      <th>0</th>\n",
              "      <td>7963</td>\n",
              "    </tr>\n",
              "    <tr>\n",
              "      <th>1</th>\n",
              "      <td>2037</td>\n",
              "    </tr>\n",
              "  </tbody>\n",
              "</table>\n",
              "</div><br><label><b>dtype:</b> int64</label>"
            ]
          },
          "metadata": {},
          "execution_count": 25
        }
      ]
    },
    {
      "cell_type": "code",
      "source": [
        "sns.countplot(x='Churn',data=df)"
      ],
      "metadata": {
        "colab": {
          "base_uri": "https://localhost:8080/",
          "height": 466
        },
        "id": "XLpX6Bl0F4hr",
        "outputId": "b4561629-ce5e-47aa-c541-e36beada8d85"
      },
      "execution_count": 26,
      "outputs": [
        {
          "output_type": "execute_result",
          "data": {
            "text/plain": [
              "<Axes: xlabel='Churn', ylabel='count'>"
            ]
          },
          "metadata": {},
          "execution_count": 26
        },
        {
          "output_type": "display_data",
          "data": {
            "text/plain": [
              "<Figure size 640x480 with 1 Axes>"
            ],
            "image/png": "[encoded data removed]"
          },
          "metadata": {}
        }
      ]
    },
    {
      "cell_type": "code",
      "source": [
        "X.shape,y.shape"
      ],
      "metadata": {
        "colab": {
          "base_uri": "https://localhost:8080/"
        },
        "id": "vTpdvJQFF83m",
        "outputId": "6e9406e5-2100-420e-ea85-bee7e43ccf12"
      },
      "execution_count": 27,
      "outputs": [
        {
          "output_type": "execute_result",
          "data": {
            "text/plain": [
              "((10000, 11), (10000,))"
            ]
          },
          "metadata": {},
          "execution_count": 27
        }
      ]
    },
    {
      "cell_type": "markdown",
      "source": [
        "**Random Undersampling**"
      ],
      "metadata": {
        "id": "23Dc4TvKF-QM"
      }
    },
    {
      "cell_type": "code",
      "source": [
        "from imblearn.under_sampling import RandomUnderSampler\n",
        "rus = RandomUnderSampler(random_state=2529)\n",
        "X_rus, y_rus = rus.fit_resample(X,y)"
      ],
      "metadata": {
        "id": "6w5zQmD9GBEy"
      },
      "execution_count": 29,
      "outputs": []
    },
    {
      "cell_type": "code",
      "source": [
        "X_rus.shape, y_rus.shape, X.shape,y.shape"
      ],
      "metadata": {
        "colab": {
          "base_uri": "https://localhost:8080/"
        },
        "id": "oSKBCsk_GLHn",
        "outputId": "0f6cbb61-b4cb-4125-8aab-1de28bc9964d"
      },
      "execution_count": 30,
      "outputs": [
        {
          "output_type": "execute_result",
          "data": {
            "text/plain": [
              "((4074, 11), (4074,), (10000, 11), (10000,))"
            ]
          },
          "metadata": {},
          "execution_count": 30
        }
      ]
    },
    {
      "cell_type": "code",
      "source": [
        "y.value_counts()"
      ],
      "metadata": {
        "colab": {
          "base_uri": "https://localhost:8080/",
          "height": 178
        },
        "id": "keUervfSGPFj",
        "outputId": "5a1178a9-4d8e-404e-ecbf-48e4d4976087"
      },
      "execution_count": 31,
      "outputs": [
        {
          "output_type": "execute_result",
          "data": {
            "text/plain": [
              "Churn\n",
              "0    7963\n",
              "1    2037\n",
              "Name: count, dtype: int64"
            ],
            "text/html": [
              "<div>\n",
              "<style scoped>\n",
              "    .dataframe tbody tr th:only-of-type {\n",
              "        vertical-align: middle;\n",
              "    }\n",
              "\n",
              "    .dataframe tbody tr th {\n",
              "        vertical-align: top;\n",
              "    }\n",
              "\n",
              "    .dataframe thead th {\n",
              "        text-align: right;\n",
              "    }\n",
              "</style>\n",
              "<table border=\"1\" class=\"dataframe\">\n",
              "  <thead>\n",
              "    <tr style=\"text-align: right;\">\n",
              "      <th></th>\n",
              "      <th>count</th>\n",
              "    </tr>\n",
              "    <tr>\n",
              "      <th>Churn</th>\n",
              "      <th></th>\n",
              "    </tr>\n",
              "  </thead>\n",
              "  <tbody>\n",
              "    <tr>\n",
              "      <th>0</th>\n",
              "      <td>7963</td>\n",
              "    </tr>\n",
              "    <tr>\n",
              "      <th>1</th>\n",
              "      <td>2037</td>\n",
              "    </tr>\n",
              "  </tbody>\n",
              "</table>\n",
              "</div><br><label><b>dtype:</b> int64</label>"
            ]
          },
          "metadata": {},
          "execution_count": 31
        }
      ]
    },
    {
      "cell_type": "code",
      "source": [
        "y_rus.value_counts()"
      ],
      "metadata": {
        "colab": {
          "base_uri": "https://localhost:8080/",
          "height": 178
        },
        "id": "ucGzG-MaGRsP",
        "outputId": "f7537894-da90-46a4-9473-11be3fe1a57d"
      },
      "execution_count": 32,
      "outputs": [
        {
          "output_type": "execute_result",
          "data": {
            "text/plain": [
              "Churn\n",
              "0    2037\n",
              "1    2037\n",
              "Name: count, dtype: int64"
            ],
            "text/html": [
              "<div>\n",
              "<style scoped>\n",
              "    .dataframe tbody tr th:only-of-type {\n",
              "        vertical-align: middle;\n",
              "    }\n",
              "\n",
              "    .dataframe tbody tr th {\n",
              "        vertical-align: top;\n",
              "    }\n",
              "\n",
              "    .dataframe thead th {\n",
              "        text-align: right;\n",
              "    }\n",
              "</style>\n",
              "<table border=\"1\" class=\"dataframe\">\n",
              "  <thead>\n",
              "    <tr style=\"text-align: right;\">\n",
              "      <th></th>\n",
              "      <th>count</th>\n",
              "    </tr>\n",
              "    <tr>\n",
              "      <th>Churn</th>\n",
              "      <th></th>\n",
              "    </tr>\n",
              "  </thead>\n",
              "  <tbody>\n",
              "    <tr>\n",
              "      <th>0</th>\n",
              "      <td>2037</td>\n",
              "    </tr>\n",
              "    <tr>\n",
              "      <th>1</th>\n",
              "      <td>2037</td>\n",
              "    </tr>\n",
              "  </tbody>\n",
              "</table>\n",
              "</div><br><label><b>dtype:</b> int64</label>"
            ]
          },
          "metadata": {},
          "execution_count": 32
        }
      ]
    },
    {
      "cell_type": "code",
      "source": [
        "y_rus.plot(kind='hist')"
      ],
      "metadata": {
        "colab": {
          "base_uri": "https://localhost:8080/",
          "height": 447
        },
        "id": "fLzOOpzQGTu4",
        "outputId": "24b3d5e1-39d0-4ccd-af82-9784637de681"
      },
      "execution_count": 33,
      "outputs": [
        {
          "output_type": "execute_result",
          "data": {
            "text/plain": [
              "<Axes: ylabel='Frequency'>"
            ]
          },
          "metadata": {},
          "execution_count": 33
        },
        {
          "output_type": "display_data",
          "data": {
            "text/plain": [
              "<Figure size 640x480 with 1 Axes>"
            ],
            "image/png": "[encoded data removed]"
          },
          "metadata": {}
        }
      ]
    },
    {
      "cell_type": "markdown",
      "source": [
        "**Random Oversampling**"
      ],
      "metadata": {
        "id": "X3H9TzhgGXk9"
      }
    },
    {
      "cell_type": "code",
      "source": [
        "from imblearn.over_sampling import RandomOverSampler\n",
        "ros = RandomOverSampler(random_state=2529)\n",
        "X_ros, y_ros = rus.fit_resample(X,y)"
      ],
      "metadata": {
        "id": "hq6muAyiGad9"
      },
      "execution_count": 34,
      "outputs": []
    },
    {
      "cell_type": "code",
      "source": [
        "X_ros.shape, y_ros.shape, X.shape,y.shape"
      ],
      "metadata": {
        "colab": {
          "base_uri": "https://localhost:8080/"
        },
        "id": "7NBkRj6lGdUM",
        "outputId": "50f8da49-b934-4288-9e1f-d843032ec3aa"
      },
      "execution_count": 35,
      "outputs": [
        {
          "output_type": "execute_result",
          "data": {
            "text/plain": [
              "((4074, 11), (4074,), (10000, 11), (10000,))"
            ]
          },
          "metadata": {},
          "execution_count": 35
        }
      ]
    },
    {
      "cell_type": "code",
      "source": [
        "y.value_counts()"
      ],
      "metadata": {
        "colab": {
          "base_uri": "https://localhost:8080/",
          "height": 178
        },
        "id": "Bm7a9o8NGhUy",
        "outputId": "8f417523-ba9c-42cd-d290-48ad2af0d3f2"
      },
      "execution_count": 36,
      "outputs": [
        {
          "output_type": "execute_result",
          "data": {
            "text/plain": [
              "Churn\n",
              "0    7963\n",
              "1    2037\n",
              "Name: count, dtype: int64"
            ],
            "text/html": [
              "<div>\n",
              "<style scoped>\n",
              "    .dataframe tbody tr th:only-of-type {\n",
              "        vertical-align: middle;\n",
              "    }\n",
              "\n",
              "    .dataframe tbody tr th {\n",
              "        vertical-align: top;\n",
              "    }\n",
              "\n",
              "    .dataframe thead th {\n",
              "        text-align: right;\n",
              "    }\n",
              "</style>\n",
              "<table border=\"1\" class=\"dataframe\">\n",
              "  <thead>\n",
              "    <tr style=\"text-align: right;\">\n",
              "      <th></th>\n",
              "      <th>count</th>\n",
              "    </tr>\n",
              "    <tr>\n",
              "      <th>Churn</th>\n",
              "      <th></th>\n",
              "    </tr>\n",
              "  </thead>\n",
              "  <tbody>\n",
              "    <tr>\n",
              "      <th>0</th>\n",
              "      <td>7963</td>\n",
              "    </tr>\n",
              "    <tr>\n",
              "      <th>1</th>\n",
              "      <td>2037</td>\n",
              "    </tr>\n",
              "  </tbody>\n",
              "</table>\n",
              "</div><br><label><b>dtype:</b> int64</label>"
            ]
          },
          "metadata": {},
          "execution_count": 36
        }
      ]
    },
    {
      "cell_type": "code",
      "source": [
        "y_rus.value_counts()"
      ],
      "metadata": {
        "colab": {
          "base_uri": "https://localhost:8080/",
          "height": 178
        },
        "id": "eI7A4DFmGjJH",
        "outputId": "e9287d5a-9960-4bf6-86e9-99a87120405d"
      },
      "execution_count": 37,
      "outputs": [
        {
          "output_type": "execute_result",
          "data": {
            "text/plain": [
              "Churn\n",
              "0    2037\n",
              "1    2037\n",
              "Name: count, dtype: int64"
            ],
            "text/html": [
              "<div>\n",
              "<style scoped>\n",
              "    .dataframe tbody tr th:only-of-type {\n",
              "        vertical-align: middle;\n",
              "    }\n",
              "\n",
              "    .dataframe tbody tr th {\n",
              "        vertical-align: top;\n",
              "    }\n",
              "\n",
              "    .dataframe thead th {\n",
              "        text-align: right;\n",
              "    }\n",
              "</style>\n",
              "<table border=\"1\" class=\"dataframe\">\n",
              "  <thead>\n",
              "    <tr style=\"text-align: right;\">\n",
              "      <th></th>\n",
              "      <th>count</th>\n",
              "    </tr>\n",
              "    <tr>\n",
              "      <th>Churn</th>\n",
              "      <th></th>\n",
              "    </tr>\n",
              "  </thead>\n",
              "  <tbody>\n",
              "    <tr>\n",
              "      <th>0</th>\n",
              "      <td>2037</td>\n",
              "    </tr>\n",
              "    <tr>\n",
              "      <th>1</th>\n",
              "      <td>2037</td>\n",
              "    </tr>\n",
              "  </tbody>\n",
              "</table>\n",
              "</div><br><label><b>dtype:</b> int64</label>"
            ]
          },
          "metadata": {},
          "execution_count": 37
        }
      ]
    },
    {
      "cell_type": "code",
      "source": [
        "y_ros.plot(kind='hist')"
      ],
      "metadata": {
        "colab": {
          "base_uri": "https://localhost:8080/",
          "height": 447
        },
        "id": "r_T-ZYBzGmiC",
        "outputId": "9a0965b1-68ba-4b24-9f04-7c667e742f6d"
      },
      "execution_count": 38,
      "outputs": [
        {
          "output_type": "execute_result",
          "data": {
            "text/plain": [
              "<Axes: ylabel='Frequency'>"
            ]
          },
          "metadata": {},
          "execution_count": 38
        },
        {
          "output_type": "display_data",
          "data": {
            "text/plain": [
              "<Figure size 640x480 with 1 Axes>"
            ],
            "image/png": "[encoded data removed]"
          },
          "metadata": {}
        }
      ]
    },
    {
      "cell_type": "markdown",
      "source": [
        "**TrainTestSplit**"
      ],
      "metadata": {
        "id": "8V6EPVQPGq1k"
      }
    },
    {
      "cell_type": "code",
      "source": [
        "from sklearn.model_selection import train_test_split"
      ],
      "metadata": {
        "id": "Z4qU96pUGtia"
      },
      "execution_count": 39,
      "outputs": []
    },
    {
      "cell_type": "markdown",
      "source": [
        "**Split Original DataSet**"
      ],
      "metadata": {
        "id": "RhilJJJBGwsL"
      }
    },
    {
      "cell_type": "code",
      "source": [
        "X_train, X_test, y_train, y_test = train_test_split(X,y, test_size=0.3, random_state=2529)"
      ],
      "metadata": {
        "id": "U2udb8SzGzvh"
      },
      "execution_count": 40,
      "outputs": []
    },
    {
      "cell_type": "markdown",
      "source": [
        "**Split Random under Sample data**"
      ],
      "metadata": {
        "id": "_Hel2sQ-G3MW"
      }
    },
    {
      "cell_type": "code",
      "source": [
        "X_train_rus, X_test_rus, y_train_rus, y_test_rus = train_test_split(X_rus,y_rus, test_size=0.3, random_state=2529)"
      ],
      "metadata": {
        "id": "2bt-jNI6G9WJ"
      },
      "execution_count": 41,
      "outputs": []
    },
    {
      "cell_type": "markdown",
      "source": [
        "**Split Random Over Sample Data**"
      ],
      "metadata": {
        "id": "OnbfHJYAHAhv"
      }
    },
    {
      "cell_type": "code",
      "source": [
        "X_train_ros, X_test_ros, y_train_ros, y_test_ros = train_test_split(X_ros,y_ros, test_size=0.3, random_state=2529)"
      ],
      "metadata": {
        "id": "815qQTFCHDjw"
      },
      "execution_count": 42,
      "outputs": []
    },
    {
      "cell_type": "markdown",
      "source": [
        "**Standarize Feature**"
      ],
      "metadata": {
        "id": "iImC74ZiHHXP"
      }
    },
    {
      "cell_type": "code",
      "source": [
        "from sklearn.preprocessing import StandardScaler\n",
        "scaler = StandardScaler()"
      ],
      "metadata": {
        "id": "LM0yIM_OHKrT"
      },
      "execution_count": 43,
      "outputs": []
    },
    {
      "cell_type": "markdown",
      "source": [
        "**Standarize Original Data**"
      ],
      "metadata": {
        "id": "nI3fqQYlHNm3"
      }
    },
    {
      "cell_type": "code",
      "source": [
        "X_train[['CreditScore', 'Age', 'Tenure', 'Balance', 'Estimated Salary']] = scaler.fit_transform(X_train[['CreditScore', 'Age', 'Tenure', 'Balance', 'Estimated Salary']])\n",
        "X_test[['CreditScore', 'Age', 'Tenure', 'Balance', 'Estimated Salary']] = scaler.transform(X_test[['CreditScore', 'Age', 'Tenure', 'Balance', 'Estimated Salary']])"
      ],
      "metadata": {
        "id": "suKG_-AkHRKl"
      },
      "execution_count": 45,
      "outputs": []
    },
    {
      "cell_type": "markdown",
      "source": [
        "**Standarize the Random under Sampling**"
      ],
      "metadata": {
        "id": "pDrruJ8mHeh5"
      }
    },
    {
      "cell_type": "code",
      "source": [
        "X_train_rus[['CreditScore', 'Age', 'Tenure', 'Balance', 'Estimated Salary']] = scaler.fit_transform(X_train_rus[['CreditScore', 'Age', 'Tenure', 'Balance', 'Estimated Salary']])\n",
        "X_test_rus[['CreditScore', 'Age', 'Tenure', 'Balance', 'Estimated Salary']] = scaler.transform(X_test_rus[['CreditScore', 'Age', 'Tenure', 'Balance', 'Estimated Salary']])"
      ],
      "metadata": {
        "id": "i8gAJbywHhu5"
      },
      "execution_count": 47,
      "outputs": []
    },
    {
      "cell_type": "markdown",
      "source": [
        "**Standarize the Random Over Sampling**"
      ],
      "metadata": {
        "id": "4afIkDdMHrBL"
      }
    },
    {
      "cell_type": "code",
      "source": [
        "X_train_ros[['CreditScore','Age','Tenure','Balance','Estimated Salary']] = scaler.fit_transform(X_train_ros[['CreditScore','Age','Tenure','Balance','Estimated Salary']])\n",
        "X_test_ros[['CreditScore','Age','Tenure','Balance','Estimated Salary']] = scaler.transform(X_test_ros[['CreditScore','Age','Tenure','Balance','Estimated Salary']])"
      ],
      "metadata": {
        "id": "PUve5TJjHtE2"
      },
      "execution_count": 49,
      "outputs": []
    },
    {
      "cell_type": "markdown",
      "source": [
        "**Support Vector Machine Classifier**"
      ],
      "metadata": {
        "id": "McP-OqvsHz_n"
      }
    },
    {
      "cell_type": "code",
      "source": [
        "from sklearn.svm import SVC\n",
        "svc = SVC()\n",
        "svc.fit(X_train, y_train)"
      ],
      "metadata": {
        "colab": {
          "base_uri": "https://localhost:8080/",
          "height": 80
        },
        "id": "cnJu1eyFH3La",
        "outputId": "ddb390ec-e5cc-4953-bd86-0051405e1d11"
      },
      "execution_count": 50,
      "outputs": [
        {
          "output_type": "execute_result",
          "data": {
            "text/plain": [
              "SVC()"
            ],
            "text/html": [
              "<style>#sk-container-id-1 {\n",
              "  /* Definition of color scheme common for light and dark mode */\n",
              "  --sklearn-color-text: #000;\n",
              "  --sklearn-color-text-muted: #666;\n",
              "  --sklearn-color-line: gray;\n",
              "  /* Definition of color scheme for unfitted estimators */\n",
              "  --sklearn-color-unfitted-level-0: #fff5e6;\n",
              "  --sklearn-color-unfitted-level-1: #f6e4d2;\n",
              "  --sklearn-color-unfitted-level-2: #ffe0b3;\n",
              "  --sklearn-color-unfitted-level-3: chocolate;\n",
              "  /* Definition of color scheme for fitted estimators */\n",
              "  --sklearn-color-fitted-level-0: #f0f8ff;\n",
              "  --sklearn-color-fitted-level-1: #d4ebff;\n",
              "  --sklearn-color-fitted-level-2: #b3dbfd;\n",
              "  --sklearn-color-fitted-level-3: cornflowerblue;\n",
              "\n",
              "  /* Specific color for light theme */\n",
              "  --sklearn-color-text-on-default-background: var(--sg-text-color, var(--theme-code-foreground, var(--jp-content-font-color1, black)));\n",
              "  --sklearn-color-background: var(--sg-background-color, var(--theme-background, var(--jp-layout-color0, white)));\n",
              "  --sklearn-color-border-box: var(--sg-text-color, var(--theme-code-foreground, var(--jp-content-font-color1, black)));\n",
              "  --sklearn-color-icon: #696969;\n",
              "\n",
              "  @media (prefers-color-scheme: dark) {\n",
              "    /* Redefinition of color scheme for dark theme */\n",
              "    --sklearn-color-text-on-default-background: var(--sg-text-color, var(--theme-code-foreground, var(--jp-content-font-color1, white)));\n",
              "    --sklearn-color-background: var(--sg-background-color, var(--theme-background, var(--jp-layout-color0, #111)));\n",
              "    --sklearn-color-border-box: var(--sg-text-color, var(--theme-code-foreground, var(--jp-content-font-color1, white)));\n",
              "    --sklearn-color-icon: #878787;\n",
              "  }\n",
              "}\n",
              "\n",
              "#sk-container-id-1 {\n",
              "  color: var(--sklearn-color-text);\n",
              "}\n",
              "\n",
              "#sk-container-id-1 pre {\n",
              "  padding: 0;\n",
              "}\n",
              "\n",
              "#sk-container-id-1 input.sk-hidden--visually {\n",
              "  border: 0;\n",
              "  clip: rect(1px 1px 1px 1px);\n",
              "  clip: rect(1px, 1px, 1px, 1px);\n",
              "  height: 1px;\n",
              "  margin: -1px;\n",
              "  overflow: hidden;\n",
              "  padding: 0;\n",
              "  position: absolute;\n",
              "  width: 1px;\n",
              "}\n",
              "\n",
              "#sk-container-id-1 div.sk-dashed-wrapped {\n",
              "  border: 1px dashed var(--sklearn-color-line);\n",
              "  margin: 0 0.4em 0.5em 0.4em;\n",
              "  box-sizing: border-box;\n",
              "  padding-bottom: 0.4em;\n",
              "  background-color: var(--sklearn-color-background);\n",
              "}\n",
              "\n",
              "#sk-container-id-1 div.sk-container {\n",
              "  /* jupyter's `normalize.less` sets `[hidden] { display: none; }`\n",
              "     but bootstrap.min.css set `[hidden] { display: none !important; }`\n",
              "     so we also need the `!important` here to be able to override the\n",
              "     default hidden behavior on the sphinx rendered scikit-learn.org.\n",
              "     See: https://github.com/scikit-learn/scikit-learn/issues/21755 */\n",
              "  display: inline-block !important;\n",
              "  position: relative;\n",
              "}\n",
              "\n",
              "#sk-container-id-1 div.sk-text-repr-fallback {\n",
              "  display: none;\n",
              "}\n",
              "\n",
              "div.sk-parallel-item,\n",
              "div.sk-serial,\n",
              "div.sk-item {\n",
              "  /* draw centered vertical line to link estimators */\n",
              "  background-image: linear-gradient(var(--sklearn-color-text-on-default-background), var(--sklearn-color-text-on-default-background));\n",
              "  background-size: 2px 100%;\n",
              "  background-repeat: no-repeat;\n",
              "  background-position: center center;\n",
              "}\n",
              "\n",
              "/* Parallel-specific style estimator block */\n",
              "\n",
              "#sk-container-id-1 div.sk-parallel-item::after {\n",
              "  content: \"\";\n",
              "  width: 100%;\n",
              "  border-bottom: 2px solid var(--sklearn-color-text-on-default-background);\n",
              "  flex-grow: 1;\n",
              "}\n",
              "\n",
              "#sk-container-id-1 div.sk-parallel {\n",
              "  display: flex;\n",
              "  align-items: stretch;\n",
              "  justify-content: center;\n",
              "  background-color: var(--sklearn-color-background);\n",
              "  position: relative;\n",
              "}\n",
              "\n",
              "#sk-container-id-1 div.sk-parallel-item {\n",
              "  display: flex;\n",
              "  flex-direction: column;\n",
              "}\n",
              "\n",
              "#sk-container-id-1 div.sk-parallel-item:first-child::after {\n",
              "  align-self: flex-end;\n",
              "  width: 50%;\n",
              "}\n",
              "\n",
              "#sk-container-id-1 div.sk-parallel-item:last-child::after {\n",
              "  align-self: flex-start;\n",
              "  width: 50%;\n",
              "}\n",
              "\n",
              "#sk-container-id-1 div.sk-parallel-item:only-child::after {\n",
              "  width: 0;\n",
              "}\n",
              "\n",
              "/* Serial-specific style estimator block */\n",
              "\n",
              "#sk-container-id-1 div.sk-serial {\n",
              "  display: flex;\n",
              "  flex-direction: column;\n",
              "  align-items: center;\n",
              "  background-color: var(--sklearn-color-background);\n",
              "  padding-right: 1em;\n",
              "  padding-left: 1em;\n",
              "}\n",
              "\n",
              "\n",
              "/* Toggleable style: style used for estimator/Pipeline/ColumnTransformer box that is\n",
              "clickable and can be expanded/collapsed.\n",
              "- Pipeline and ColumnTransformer use this feature and define the default style\n",
              "- Estimators will overwrite some part of the style using the `sk-estimator` class\n",
              "*/\n",
              "\n",
              "/* Pipeline and ColumnTransformer style (default) */\n",
              "\n",
              "#sk-container-id-1 div.sk-toggleable {\n",
              "  /* Default theme specific background. It is overwritten whether we have a\n",
              "  specific estimator or a Pipeline/ColumnTransformer */\n",
              "  background-color: var(--sklearn-color-background);\n",
              "}\n",
              "\n",
              "/* Toggleable label */\n",
              "#sk-container-id-1 label.sk-toggleable__label {\n",
              "  cursor: pointer;\n",
              "  display: flex;\n",
              "  width: 100%;\n",
              "  margin-bottom: 0;\n",
              "  padding: 0.5em;\n",
              "  box-sizing: border-box;\n",
              "  text-align: center;\n",
              "  align-items: start;\n",
              "  justify-content: space-between;\n",
              "  gap: 0.5em;\n",
              "}\n",
              "\n",
              "#sk-container-id-1 label.sk-toggleable__label .caption {\n",
              "  font-size: 0.6rem;\n",
              "  font-weight: lighter;\n",
              "  color: var(--sklearn-color-text-muted);\n",
              "}\n",
              "\n",
              "#sk-container-id-1 label.sk-toggleable__label-arrow:before {\n",
              "  /* Arrow on the left of the label */\n",
              "  content: \"▸\";\n",
              "  float: left;\n",
              "  margin-right: 0.25em;\n",
              "  color: var(--sklearn-color-icon);\n",
              "}\n",
              "\n",
              "#sk-container-id-1 label.sk-toggleable__label-arrow:hover:before {\n",
              "  color: var(--sklearn-color-text);\n",
              "}\n",
              "\n",
              "/* Toggleable content - dropdown */\n",
              "\n",
              "#sk-container-id-1 div.sk-toggleable__content {\n",
              "  max-height: 0;\n",
              "  max-width: 0;\n",
              "  overflow: hidden;\n",
              "  text-align: left;\n",
              "  /* unfitted */\n",
              "  background-color: var(--sklearn-color-unfitted-level-0);\n",
              "}\n",
              "\n",
              "#sk-container-id-1 div.sk-toggleable__content.fitted {\n",
              "  /* fitted */\n",
              "  background-color: var(--sklearn-color-fitted-level-0);\n",
              "}\n",
              "\n",
              "#sk-container-id-1 div.sk-toggleable__content pre {\n",
              "  margin: 0.2em;\n",
              "  border-radius: 0.25em;\n",
              "  color: var(--sklearn-color-text);\n",
              "  /* unfitted */\n",
              "  background-color: var(--sklearn-color-unfitted-level-0);\n",
              "}\n",
              "\n",
              "#sk-container-id-1 div.sk-toggleable__content.fitted pre {\n",
              "  /* unfitted */\n",
              "  background-color: var(--sklearn-color-fitted-level-0);\n",
              "}\n",
              "\n",
              "#sk-container-id-1 input.sk-toggleable__control:checked~div.sk-toggleable__content {\n",
              "  /* Expand drop-down */\n",
              "  max-height: 200px;\n",
              "  max-width: 100%;\n",
              "  overflow: auto;\n",
              "}\n",
              "\n",
              "#sk-container-id-1 input.sk-toggleable__control:checked~label.sk-toggleable__label-arrow:before {\n",
              "  content: \"▾\";\n",
              "}\n",
              "\n",
              "/* Pipeline/ColumnTransformer-specific style */\n",
              "\n",
              "#sk-container-id-1 div.sk-label input.sk-toggleable__control:checked~label.sk-toggleable__label {\n",
              "  color: var(--sklearn-color-text);\n",
              "  background-color: var(--sklearn-color-unfitted-level-2);\n",
              "}\n",
              "\n",
              "#sk-container-id-1 div.sk-label.fitted input.sk-toggleable__control:checked~label.sk-toggleable__label {\n",
              "  background-color: var(--sklearn-color-fitted-level-2);\n",
              "}\n",
              "\n",
              "/* Estimator-specific style */\n",
              "\n",
              "/* Colorize estimator box */\n",
              "#sk-container-id-1 div.sk-estimator input.sk-toggleable__control:checked~label.sk-toggleable__label {\n",
              "  /* unfitted */\n",
              "  background-color: var(--sklearn-color-unfitted-level-2);\n",
              "}\n",
              "\n",
              "#sk-container-id-1 div.sk-estimator.fitted input.sk-toggleable__control:checked~label.sk-toggleable__label {\n",
              "  /* fitted */\n",
              "  background-color: var(--sklearn-color-fitted-level-2);\n",
              "}\n",
              "\n",
              "#sk-container-id-1 div.sk-label label.sk-toggleable__label,\n",
              "#sk-container-id-1 div.sk-label label {\n",
              "  /* The background is the default theme color */\n",
              "  color: var(--sklearn-color-text-on-default-background);\n",
              "}\n",
              "\n",
              "/* On hover, darken the color of the background */\n",
              "#sk-container-id-1 div.sk-label:hover label.sk-toggleable__label {\n",
              "  color: var(--sklearn-color-text);\n",
              "  background-color: var(--sklearn-color-unfitted-level-2);\n",
              "}\n",
              "\n",
              "/* Label box, darken color on hover, fitted */\n",
              "#sk-container-id-1 div.sk-label.fitted:hover label.sk-toggleable__label.fitted {\n",
              "  color: var(--sklearn-color-text);\n",
              "  background-color: var(--sklearn-color-fitted-level-2);\n",
              "}\n",
              "\n",
              "/* Estimator label */\n",
              "\n",
              "#sk-container-id-1 div.sk-label label {\n",
              "  font-family: monospace;\n",
              "  font-weight: bold;\n",
              "  display: inline-block;\n",
              "  line-height: 1.2em;\n",
              "}\n",
              "\n",
              "#sk-container-id-1 div.sk-label-container {\n",
              "  text-align: center;\n",
              "}\n",
              "\n",
              "/* Estimator-specific */\n",
              "#sk-container-id-1 div.sk-estimator {\n",
              "  font-family: monospace;\n",
              "  border: 1px dotted var(--sklearn-color-border-box);\n",
              "  border-radius: 0.25em;\n",
              "  box-sizing: border-box;\n",
              "  margin-bottom: 0.5em;\n",
              "  /* unfitted */\n",
              "  background-color: var(--sklearn-color-unfitted-level-0);\n",
              "}\n",
              "\n",
              "#sk-container-id-1 div.sk-estimator.fitted {\n",
              "  /* fitted */\n",
              "  background-color: var(--sklearn-color-fitted-level-0);\n",
              "}\n",
              "\n",
              "/* on hover */\n",
              "#sk-container-id-1 div.sk-estimator:hover {\n",
              "  /* unfitted */\n",
              "  background-color: var(--sklearn-color-unfitted-level-2);\n",
              "}\n",
              "\n",
              "#sk-container-id-1 div.sk-estimator.fitted:hover {\n",
              "  /* fitted */\n",
              "  background-color: var(--sklearn-color-fitted-level-2);\n",
              "}\n",
              "\n",
              "/* Specification for estimator info (e.g. \"i\" and \"?\") */\n",
              "\n",
              "/* Common style for \"i\" and \"?\" */\n",
              "\n",
              ".sk-estimator-doc-link,\n",
              "a:link.sk-estimator-doc-link,\n",
              "a:visited.sk-estimator-doc-link {\n",
              "  float: right;\n",
              "  font-size: smaller;\n",
              "  line-height: 1em;\n",
              "  font-family: monospace;\n",
              "  background-color: var(--sklearn-color-background);\n",
              "  border-radius: 1em;\n",
              "  height: 1em;\n",
              "  width: 1em;\n",
              "  text-decoration: none !important;\n",
              "  margin-left: 0.5em;\n",
              "  text-align: center;\n",
              "  /* unfitted */\n",
              "  border: var(--sklearn-color-unfitted-level-1) 1pt solid;\n",
              "  color: var(--sklearn-color-unfitted-level-1);\n",
              "}\n",
              "\n",
              ".sk-estimator-doc-link.fitted,\n",
              "a:link.sk-estimator-doc-link.fitted,\n",
              "a:visited.sk-estimator-doc-link.fitted {\n",
              "  /* fitted */\n",
              "  border: var(--sklearn-color-fitted-level-1) 1pt solid;\n",
              "  color: var(--sklearn-color-fitted-level-1);\n",
              "}\n",
              "\n",
              "/* On hover */\n",
              "div.sk-estimator:hover .sk-estimator-doc-link:hover,\n",
              ".sk-estimator-doc-link:hover,\n",
              "div.sk-label-container:hover .sk-estimator-doc-link:hover,\n",
              ".sk-estimator-doc-link:hover {\n",
              "  /* unfitted */\n",
              "  background-color: var(--sklearn-color-unfitted-level-3);\n",
              "  color: var(--sklearn-color-background);\n",
              "  text-decoration: none;\n",
              "}\n",
              "\n",
              "div.sk-estimator.fitted:hover .sk-estimator-doc-link.fitted:hover,\n",
              ".sk-estimator-doc-link.fitted:hover,\n",
              "div.sk-label-container:hover .sk-estimator-doc-link.fitted:hover,\n",
              ".sk-estimator-doc-link.fitted:hover {\n",
              "  /* fitted */\n",
              "  background-color: var(--sklearn-color-fitted-level-3);\n",
              "  color: var(--sklearn-color-background);\n",
              "  text-decoration: none;\n",
              "}\n",
              "\n",
              "/* Span, style for the box shown on hovering the info icon */\n",
              ".sk-estimator-doc-link span {\n",
              "  display: none;\n",
              "  z-index: 9999;\n",
              "  position: relative;\n",
              "  font-weight: normal;\n",
              "  right: .2ex;\n",
              "  padding: .5ex;\n",
              "  margin: .5ex;\n",
              "  width: min-content;\n",
              "  min-width: 20ex;\n",
              "  max-width: 50ex;\n",
              "  color: var(--sklearn-color-text);\n",
              "  box-shadow: 2pt 2pt 4pt #999;\n",
              "  /* unfitted */\n",
              "  background: var(--sklearn-color-unfitted-level-0);\n",
              "  border: .5pt solid var(--sklearn-color-unfitted-level-3);\n",
              "}\n",
              "\n",
              ".sk-estimator-doc-link.fitted span {\n",
              "  /* fitted */\n",
              "  background: var(--sklearn-color-fitted-level-0);\n",
              "  border: var(--sklearn-color-fitted-level-3);\n",
              "}\n",
              "\n",
              ".sk-estimator-doc-link:hover span {\n",
              "  display: block;\n",
              "}\n",
              "\n",
              "/* \"?\"-specific style due to the `<a>` HTML tag */\n",
              "\n",
              "#sk-container-id-1 a.estimator_doc_link {\n",
              "  float: right;\n",
              "  font-size: 1rem;\n",
              "  line-height: 1em;\n",
              "  font-family: monospace;\n",
              "  background-color: var(--sklearn-color-background);\n",
              "  border-radius: 1rem;\n",
              "  height: 1rem;\n",
              "  width: 1rem;\n",
              "  text-decoration: none;\n",
              "  /* unfitted */\n",
              "  color: var(--sklearn-color-unfitted-level-1);\n",
              "  border: var(--sklearn-color-unfitted-level-1) 1pt solid;\n",
              "}\n",
              "\n",
              "#sk-container-id-1 a.estimator_doc_link.fitted {\n",
              "  /* fitted */\n",
              "  border: var(--sklearn-color-fitted-level-1) 1pt solid;\n",
              "  color: var(--sklearn-color-fitted-level-1);\n",
              "}\n",
              "\n",
              "/* On hover */\n",
              "#sk-container-id-1 a.estimator_doc_link:hover {\n",
              "  /* unfitted */\n",
              "  background-color: var(--sklearn-color-unfitted-level-3);\n",
              "  color: var(--sklearn-color-background);\n",
              "  text-decoration: none;\n",
              "}\n",
              "\n",
              "#sk-container-id-1 a.estimator_doc_link.fitted:hover {\n",
              "  /* fitted */\n",
              "  background-color: var(--sklearn-color-fitted-level-3);\n",
              "}\n",
              "</style><div id=\"sk-container-id-1\" class=\"sk-top-container\"><div class=\"sk-text-repr-fallback\"><pre>SVC()</pre><b>In a Jupyter environment, please rerun this cell to show the HTML representation or trust the notebook. <br />On GitHub, the HTML representation is unable to render, please try loading this page with nbviewer.org.</b></div><div class=\"sk-container\" hidden><div class=\"sk-item\"><div class=\"sk-estimator fitted sk-toggleable\"><input class=\"sk-toggleable__control sk-hidden--visually\" id=\"sk-estimator-id-1\" type=\"checkbox\" checked><label for=\"sk-estimator-id-1\" class=\"sk-toggleable__label fitted sk-toggleable__label-arrow\"><div><div>SVC</div></div><div><a class=\"sk-estimator-doc-link fitted\" rel=\"noreferrer\" target=\"_blank\" href=\"https://scikit-learn.org/1.6/modules/generated/sklearn.svm.SVC.html\">?<span>Documentation for SVC</span></a><span class=\"sk-estimator-doc-link fitted\">i<span>Fitted</span></span></div></label><div class=\"sk-toggleable__content fitted\"><pre>SVC()</pre></div> </div></div></div></div>"
            ]
          },
          "metadata": {},
          "execution_count": 50
        }
      ]
    },
    {
      "cell_type": "code",
      "source": [
        "y_pred_svc = svc.predict(X_test)"
      ],
      "metadata": {
        "id": "TgqK-FgkIAyD"
      },
      "execution_count": 51,
      "outputs": []
    },
    {
      "cell_type": "markdown",
      "source": [
        "**Model Accuracy**"
      ],
      "metadata": {
        "id": "UWV1oJRAIDwk"
      }
    },
    {
      "cell_type": "code",
      "source": [
        "from sklearn.metrics import accuracy_score, confusion_matrix, classification_report"
      ],
      "metadata": {
        "id": "zurkKRaGIGkB"
      },
      "execution_count": 52,
      "outputs": []
    },
    {
      "cell_type": "code",
      "source": [
        "confusion_matrix(y_test, y_pred_svc)"
      ],
      "metadata": {
        "colab": {
          "base_uri": "https://localhost:8080/"
        },
        "id": "l-LLbAQEIJsB",
        "outputId": "518e4f9d-bef3-4b1c-f3fc-82efa1303ac0"
      },
      "execution_count": 53,
      "outputs": [
        {
          "output_type": "execute_result",
          "data": {
            "text/plain": [
              "array([[2375,   39],\n",
              "       [ 401,  185]])"
            ]
          },
          "metadata": {},
          "execution_count": 53
        }
      ]
    },
    {
      "cell_type": "code",
      "source": [
        "print(classification_report(y_test, y_pred_svc))"
      ],
      "metadata": {
        "colab": {
          "base_uri": "https://localhost:8080/"
        },
        "id": "Nazn1kBpIMgu",
        "outputId": "3d2e662f-456b-48da-a26e-e5399a412568"
      },
      "execution_count": 54,
      "outputs": [
        {
          "output_type": "stream",
          "name": "stdout",
          "text": [
            "              precision    recall  f1-score   support\n",
            "\n",
            "           0       0.86      0.98      0.92      2414\n",
            "           1       0.83      0.32      0.46       586\n",
            "\n",
            "    accuracy                           0.85      3000\n",
            "   macro avg       0.84      0.65      0.69      3000\n",
            "weighted avg       0.85      0.85      0.83      3000\n",
            "\n"
          ]
        }
      ]
    },
    {
      "cell_type": "markdown",
      "source": [
        "**HyperParameter Tuning**"
      ],
      "metadata": {
        "id": "uX077Ip8IRMo"
      }
    },
    {
      "cell_type": "code",
      "source": [
        "from sklearn.model_selection import GridSearchCV"
      ],
      "metadata": {
        "id": "sKikhqBRIU_z"
      },
      "execution_count": 55,
      "outputs": []
    },
    {
      "cell_type": "code",
      "source": [
        "param_grid = {'C': [0.1, 1, 10, 100], 'gamma': [1, 0.1, 0.01, 0.001], 'kernel': ['rbf'], 'class_weight': ['balanced']}"
      ],
      "metadata": {
        "id": "g_7HI_MxIXXo"
      },
      "execution_count": 56,
      "outputs": []
    },
    {
      "cell_type": "code",
      "source": [
        "grid = GridSearchCV(SVC(), param_grid, refit=True, verbose=2, cv = 2)\n",
        "grid.fit(X_train, y_train)"
      ],
      "metadata": {
        "colab": {
          "base_uri": "https://localhost:8080/",
          "height": 738
        },
        "id": "4X9vg9vjIbNI",
        "outputId": "a1387988-d086-447f-81b5-bb049e95c567"
      },
      "execution_count": 57,
      "outputs": [
        {
          "output_type": "stream",
          "name": "stdout",
          "text": [
            "Fitting 2 folds for each of 16 candidates, totalling 32 fits\n",
            "[CV] END ..C=0.1, class_weight=balanced, gamma=1, kernel=rbf; total time=   1.9s\n",
            "[CV] END ..C=0.1, class_weight=balanced, gamma=1, kernel=rbf; total time=   1.4s\n",
            "[CV] END C=0.1, class_weight=balanced, gamma=0.1, kernel=rbf; total time=   1.0s\n",
            "[CV] END C=0.1, class_weight=balanced, gamma=0.1, kernel=rbf; total time=   1.1s\n",
            "[CV] END C=0.1, class_weight=balanced, gamma=0.01, kernel=rbf; total time=   1.2s\n",
            "[CV] END C=0.1, class_weight=balanced, gamma=0.01, kernel=rbf; total time=   1.2s\n",
            "[CV] END C=0.1, class_weight=balanced, gamma=0.001, kernel=rbf; total time=   2.2s\n",
            "[CV] END C=0.1, class_weight=balanced, gamma=0.001, kernel=rbf; total time=   2.2s\n",
            "[CV] END ....C=1, class_weight=balanced, gamma=1, kernel=rbf; total time=   1.3s\n",
            "[CV] END ....C=1, class_weight=balanced, gamma=1, kernel=rbf; total time=   1.3s\n",
            "[CV] END ..C=1, class_weight=balanced, gamma=0.1, kernel=rbf; total time=   0.9s\n",
            "[CV] END ..C=1, class_weight=balanced, gamma=0.1, kernel=rbf; total time=   0.9s\n",
            "[CV] END .C=1, class_weight=balanced, gamma=0.01, kernel=rbf; total time=   1.0s\n",
            "[CV] END .C=1, class_weight=balanced, gamma=0.01, kernel=rbf; total time=   1.0s\n",
            "[CV] END C=1, class_weight=balanced, gamma=0.001, kernel=rbf; total time=   1.2s\n",
            "[CV] END C=1, class_weight=balanced, gamma=0.001, kernel=rbf; total time=   1.2s\n",
            "[CV] END ...C=10, class_weight=balanced, gamma=1, kernel=rbf; total time=   1.4s\n",
            "[CV] END ...C=10, class_weight=balanced, gamma=1, kernel=rbf; total time=   2.1s\n",
            "[CV] END .C=10, class_weight=balanced, gamma=0.1, kernel=rbf; total time=   1.3s\n",
            "[CV] END .C=10, class_weight=balanced, gamma=0.1, kernel=rbf; total time=   0.9s\n",
            "[CV] END C=10, class_weight=balanced, gamma=0.01, kernel=rbf; total time=   1.0s\n",
            "[CV] END C=10, class_weight=balanced, gamma=0.01, kernel=rbf; total time=   1.0s\n",
            "[CV] END C=10, class_weight=balanced, gamma=0.001, kernel=rbf; total time=   1.0s\n",
            "[CV] END C=10, class_weight=balanced, gamma=0.001, kernel=rbf; total time=   1.0s\n",
            "[CV] END ..C=100, class_weight=balanced, gamma=1, kernel=rbf; total time=   1.2s\n",
            "[CV] END ..C=100, class_weight=balanced, gamma=1, kernel=rbf; total time=   1.2s\n",
            "[CV] END C=100, class_weight=balanced, gamma=0.1, kernel=rbf; total time=   1.6s\n",
            "[CV] END C=100, class_weight=balanced, gamma=0.1, kernel=rbf; total time=   2.4s\n",
            "[CV] END C=100, class_weight=balanced, gamma=0.01, kernel=rbf; total time=   2.0s\n",
            "[CV] END C=100, class_weight=balanced, gamma=0.01, kernel=rbf; total time=   2.0s\n",
            "[CV] END C=100, class_weight=balanced, gamma=0.001, kernel=rbf; total time=   1.7s\n",
            "[CV] END C=100, class_weight=balanced, gamma=0.001, kernel=rbf; total time=   1.1s\n"
          ]
        },
        {
          "output_type": "execute_result",
          "data": {
            "text/plain": [
              "GridSearchCV(cv=2, estimator=SVC(),\n",
              "             param_grid={'C': [0.1, 1, 10, 100], 'class_weight': ['balanced'],\n",
              "                         'gamma': [1, 0.1, 0.01, 0.001], 'kernel': ['rbf']},\n",
              "             verbose=2)"
            ],
            "text/html": [
              "<style>#sk-container-id-2 {\n",
              "  /* Definition of color scheme common for light and dark mode */\n",
              "  --sklearn-color-text: #000;\n",
              "  --sklearn-color-text-muted: #666;\n",
              "  --sklearn-color-line: gray;\n",
              "  /* Definition of color scheme for unfitted estimators */\n",
              "  --sklearn-color-unfitted-level-0: #fff5e6;\n",
              "  --sklearn-color-unfitted-level-1: #f6e4d2;\n",
              "  --sklearn-color-unfitted-level-2: #ffe0b3;\n",
              "  --sklearn-color-unfitted-level-3: chocolate;\n",
              "  /* Definition of color scheme for fitted estimators */\n",
              "  --sklearn-color-fitted-level-0: #f0f8ff;\n",
              "  --sklearn-color-fitted-level-1: #d4ebff;\n",
              "  --sklearn-color-fitted-level-2: #b3dbfd;\n",
              "  --sklearn-color-fitted-level-3: cornflowerblue;\n",
              "\n",
              "  /* Specific color for light theme */\n",
              "  --sklearn-color-text-on-default-background: var(--sg-text-color, var(--theme-code-foreground, var(--jp-content-font-color1, black)));\n",
              "  --sklearn-color-background: var(--sg-background-color, var(--theme-background, var(--jp-layout-color0, white)));\n",
              "  --sklearn-color-border-box: var(--sg-text-color, var(--theme-code-foreground, var(--jp-content-font-color1, black)));\n",
              "  --sklearn-color-icon: #696969;\n",
              "\n",
              "  @media (prefers-color-scheme: dark) {\n",
              "    /* Redefinition of color scheme for dark theme */\n",
              "    --sklearn-color-text-on-default-background: var(--sg-text-color, var(--theme-code-foreground, var(--jp-content-font-color1, white)));\n",
              "    --sklearn-color-background: var(--sg-background-color, var(--theme-background, var(--jp-layout-color0, #111)));\n",
              "    --sklearn-color-border-box: var(--sg-text-color, var(--theme-code-foreground, var(--jp-content-font-color1, white)));\n",
              "    --sklearn-color-icon: #878787;\n",
              "  }\n",
              "}\n",
              "\n",
              "#sk-container-id-2 {\n",
              "  color: var(--sklearn-color-text);\n",
              "}\n",
              "\n",
              "#sk-container-id-2 pre {\n",
              "  padding: 0;\n",
              "}\n",
              "\n",
              "#sk-container-id-2 input.sk-hidden--visually {\n",
              "  border: 0;\n",
              "  clip: rect(1px 1px 1px 1px);\n",
              "  clip: rect(1px, 1px, 1px, 1px);\n",
              "  height: 1px;\n",
              "  margin: -1px;\n",
              "  overflow: hidden;\n",
              "  padding: 0;\n",
              "  position: absolute;\n",
              "  width: 1px;\n",
              "}\n",
              "\n",
              "#sk-container-id-2 div.sk-dashed-wrapped {\n",
              "  border: 1px dashed var(--sklearn-color-line);\n",
              "  margin: 0 0.4em 0.5em 0.4em;\n",
              "  box-sizing: border-box;\n",
              "  padding-bottom: 0.4em;\n",
              "  background-color: var(--sklearn-color-background);\n",
              "}\n",
              "\n",
              "#sk-container-id-2 div.sk-container {\n",
              "  /* jupyter's `normalize.less` sets `[hidden] { display: none; }`\n",
              "     but bootstrap.min.css set `[hidden] { display: none !important; }`\n",
              "     so we also need the `!important` here to be able to override the\n",
              "     default hidden behavior on the sphinx rendered scikit-learn.org.\n",
              "     See: https://github.com/scikit-learn/scikit-learn/issues/21755 */\n",
              "  display: inline-block !important;\n",
              "  position: relative;\n",
              "}\n",
              "\n",
              "#sk-container-id-2 div.sk-text-repr-fallback {\n",
              "  display: none;\n",
              "}\n",
              "\n",
              "div.sk-parallel-item,\n",
              "div.sk-serial,\n",
              "div.sk-item {\n",
              "  /* draw centered vertical line to link estimators */\n",
              "  background-image: linear-gradient(var(--sklearn-color-text-on-default-background), var(--sklearn-color-text-on-default-background));\n",
              "  background-size: 2px 100%;\n",
              "  background-repeat: no-repeat;\n",
              "  background-position: center center;\n",
              "}\n",
              "\n",
              "/* Parallel-specific style estimator block */\n",
              "\n",
              "#sk-container-id-2 div.sk-parallel-item::after {\n",
              "  content: \"\";\n",
              "  width: 100%;\n",
              "  border-bottom: 2px solid var(--sklearn-color-text-on-default-background);\n",
              "  flex-grow: 1;\n",
              "}\n",
              "\n",
              "#sk-container-id-2 div.sk-parallel {\n",
              "  display: flex;\n",
              "  align-items: stretch;\n",
              "  justify-content: center;\n",
              "  background-color: var(--sklearn-color-background);\n",
              "  position: relative;\n",
              "}\n",
              "\n",
              "#sk-container-id-2 div.sk-parallel-item {\n",
              "  display: flex;\n",
              "  flex-direction: column;\n",
              "}\n",
              "\n",
              "#sk-container-id-2 div.sk-parallel-item:first-child::after {\n",
              "  align-self: flex-end;\n",
              "  width: 50%;\n",
              "}\n",
              "\n",
              "#sk-container-id-2 div.sk-parallel-item:last-child::after {\n",
              "  align-self: flex-start;\n",
              "  width: 50%;\n",
              "}\n",
              "\n",
              "#sk-container-id-2 div.sk-parallel-item:only-child::after {\n",
              "  width: 0;\n",
              "}\n",
              "\n",
              "/* Serial-specific style estimator block */\n",
              "\n",
              "#sk-container-id-2 div.sk-serial {\n",
              "  display: flex;\n",
              "  flex-direction: column;\n",
              "  align-items: center;\n",
              "  background-color: var(--sklearn-color-background);\n",
              "  padding-right: 1em;\n",
              "  padding-left: 1em;\n",
              "}\n",
              "\n",
              "\n",
              "/* Toggleable style: style used for estimator/Pipeline/ColumnTransformer box that is\n",
              "clickable and can be expanded/collapsed.\n",
              "- Pipeline and ColumnTransformer use this feature and define the default style\n",
              "- Estimators will overwrite some part of the style using the `sk-estimator` class\n",
              "*/\n",
              "\n",
              "/* Pipeline and ColumnTransformer style (default) */\n",
              "\n",
              "#sk-container-id-2 div.sk-toggleable {\n",
              "  /* Default theme specific background. It is overwritten whether we have a\n",
              "  specific estimator or a Pipeline/ColumnTransformer */\n",
              "  background-color: var(--sklearn-color-background);\n",
              "}\n",
              "\n",
              "/* Toggleable label */\n",
              "#sk-container-id-2 label.sk-toggleable__label {\n",
              "  cursor: pointer;\n",
              "  display: flex;\n",
              "  width: 100%;\n",
              "  margin-bottom: 0;\n",
              "  padding: 0.5em;\n",
              "  box-sizing: border-box;\n",
              "  text-align: center;\n",
              "  align-items: start;\n",
              "  justify-content: space-between;\n",
              "  gap: 0.5em;\n",
              "}\n",
              "\n",
              "#sk-container-id-2 label.sk-toggleable__label .caption {\n",
              "  font-size: 0.6rem;\n",
              "  font-weight: lighter;\n",
              "  color: var(--sklearn-color-text-muted);\n",
              "}\n",
              "\n",
              "#sk-container-id-2 label.sk-toggleable__label-arrow:before {\n",
              "  /* Arrow on the left of the label */\n",
              "  content: \"▸\";\n",
              "  float: left;\n",
              "  margin-right: 0.25em;\n",
              "  color: var(--sklearn-color-icon);\n",
              "}\n",
              "\n",
              "#sk-container-id-2 label.sk-toggleable__label-arrow:hover:before {\n",
              "  color: var(--sklearn-color-text);\n",
              "}\n",
              "\n",
              "/* Toggleable content - dropdown */\n",
              "\n",
              "#sk-container-id-2 div.sk-toggleable__content {\n",
              "  max-height: 0;\n",
              "  max-width: 0;\n",
              "  overflow: hidden;\n",
              "  text-align: left;\n",
              "  /* unfitted */\n",
              "  background-color: var(--sklearn-color-unfitted-level-0);\n",
              "}\n",
              "\n",
              "#sk-container-id-2 div.sk-toggleable__content.fitted {\n",
              "  /* fitted */\n",
              "  background-color: var(--sklearn-color-fitted-level-0);\n",
              "}\n",
              "\n",
              "#sk-container-id-2 div.sk-toggleable__content pre {\n",
              "  margin: 0.2em;\n",
              "  border-radius: 0.25em;\n",
              "  color: var(--sklearn-color-text);\n",
              "  /* unfitted */\n",
              "  background-color: var(--sklearn-color-unfitted-level-0);\n",
              "}\n",
              "\n",
              "#sk-container-id-2 div.sk-toggleable__content.fitted pre {\n",
              "  /* unfitted */\n",
              "  background-color: var(--sklearn-color-fitted-level-0);\n",
              "}\n",
              "\n",
              "#sk-container-id-2 input.sk-toggleable__control:checked~div.sk-toggleable__content {\n",
              "  /* Expand drop-down */\n",
              "  max-height: 200px;\n",
              "  max-width: 100%;\n",
              "  overflow: auto;\n",
              "}\n",
              "\n",
              "#sk-container-id-2 input.sk-toggleable__control:checked~label.sk-toggleable__label-arrow:before {\n",
              "  content: \"▾\";\n",
              "}\n",
              "\n",
              "/* Pipeline/ColumnTransformer-specific style */\n",
              "\n",
              "#sk-container-id-2 div.sk-label input.sk-toggleable__control:checked~label.sk-toggleable__label {\n",
              "  color: var(--sklearn-color-text);\n",
              "  background-color: var(--sklearn-color-unfitted-level-2);\n",
              "}\n",
              "\n",
              "#sk-container-id-2 div.sk-label.fitted input.sk-toggleable__control:checked~label.sk-toggleable__label {\n",
              "  background-color: var(--sklearn-color-fitted-level-2);\n",
              "}\n",
              "\n",
              "/* Estimator-specific style */\n",
              "\n",
              "/* Colorize estimator box */\n",
              "#sk-container-id-2 div.sk-estimator input.sk-toggleable__control:checked~label.sk-toggleable__label {\n",
              "  /* unfitted */\n",
              "  background-color: var(--sklearn-color-unfitted-level-2);\n",
              "}\n",
              "\n",
              "#sk-container-id-2 div.sk-estimator.fitted input.sk-toggleable__control:checked~label.sk-toggleable__label {\n",
              "  /* fitted */\n",
              "  background-color: var(--sklearn-color-fitted-level-2);\n",
              "}\n",
              "\n",
              "#sk-container-id-2 div.sk-label label.sk-toggleable__label,\n",
              "#sk-container-id-2 div.sk-label label {\n",
              "  /* The background is the default theme color */\n",
              "  color: var(--sklearn-color-text-on-default-background);\n",
              "}\n",
              "\n",
              "/* On hover, darken the color of the background */\n",
              "#sk-container-id-2 div.sk-label:hover label.sk-toggleable__label {\n",
              "  color: var(--sklearn-color-text);\n",
              "  background-color: var(--sklearn-color-unfitted-level-2);\n",
              "}\n",
              "\n",
              "/* Label box, darken color on hover, fitted */\n",
              "#sk-container-id-2 div.sk-label.fitted:hover label.sk-toggleable__label.fitted {\n",
              "  color: var(--sklearn-color-text);\n",
              "  background-color: var(--sklearn-color-fitted-level-2);\n",
              "}\n",
              "\n",
              "/* Estimator label */\n",
              "\n",
              "#sk-container-id-2 div.sk-label label {\n",
              "  font-family: monospace;\n",
              "  font-weight: bold;\n",
              "  display: inline-block;\n",
              "  line-height: 1.2em;\n",
              "}\n",
              "\n",
              "#sk-container-id-2 div.sk-label-container {\n",
              "  text-align: center;\n",
              "}\n",
              "\n",
              "/* Estimator-specific */\n",
              "#sk-container-id-2 div.sk-estimator {\n",
              "  font-family: monospace;\n",
              "  border: 1px dotted var(--sklearn-color-border-box);\n",
              "  border-radius: 0.25em;\n",
              "  box-sizing: border-box;\n",
              "  margin-bottom: 0.5em;\n",
              "  /* unfitted */\n",
              "  background-color: var(--sklearn-color-unfitted-level-0);\n",
              "}\n",
              "\n",
              "#sk-container-id-2 div.sk-estimator.fitted {\n",
              "  /* fitted */\n",
              "  background-color: var(--sklearn-color-fitted-level-0);\n",
              "}\n",
              "\n",
              "/* on hover */\n",
              "#sk-container-id-2 div.sk-estimator:hover {\n",
              "  /* unfitted */\n",
              "  background-color: var(--sklearn-color-unfitted-level-2);\n",
              "}\n",
              "\n",
              "#sk-container-id-2 div.sk-estimator.fitted:hover {\n",
              "  /* fitted */\n",
              "  background-color: var(--sklearn-color-fitted-level-2);\n",
              "}\n",
              "\n",
              "/* Specification for estimator info (e.g. \"i\" and \"?\") */\n",
              "\n",
              "/* Common style for \"i\" and \"?\" */\n",
              "\n",
              ".sk-estimator-doc-link,\n",
              "a:link.sk-estimator-doc-link,\n",
              "a:visited.sk-estimator-doc-link {\n",
              "  float: right;\n",
              "  font-size: smaller;\n",
              "  line-height: 1em;\n",
              "  font-family: monospace;\n",
              "  background-color: var(--sklearn-color-background);\n",
              "  border-radius: 1em;\n",
              "  height: 1em;\n",
              "  width: 1em;\n",
              "  text-decoration: none !important;\n",
              "  margin-left: 0.5em;\n",
              "  text-align: center;\n",
              "  /* unfitted */\n",
              "  border: var(--sklearn-color-unfitted-level-1) 1pt solid;\n",
              "  color: var(--sklearn-color-unfitted-level-1);\n",
              "}\n",
              "\n",
              ".sk-estimator-doc-link.fitted,\n",
              "a:link.sk-estimator-doc-link.fitted,\n",
              "a:visited.sk-estimator-doc-link.fitted {\n",
              "  /* fitted */\n",
              "  border: var(--sklearn-color-fitted-level-1) 1pt solid;\n",
              "  color: var(--sklearn-color-fitted-level-1);\n",
              "}\n",
              "\n",
              "/* On hover */\n",
              "div.sk-estimator:hover .sk-estimator-doc-link:hover,\n",
              ".sk-estimator-doc-link:hover,\n",
              "div.sk-label-container:hover .sk-estimator-doc-link:hover,\n",
              ".sk-estimator-doc-link:hover {\n",
              "  /* unfitted */\n",
              "  background-color: var(--sklearn-color-unfitted-level-3);\n",
              "  color: var(--sklearn-color-background);\n",
              "  text-decoration: none;\n",
              "}\n",
              "\n",
              "div.sk-estimator.fitted:hover .sk-estimator-doc-link.fitted:hover,\n",
              ".sk-estimator-doc-link.fitted:hover,\n",
              "div.sk-label-container:hover .sk-estimator-doc-link.fitted:hover,\n",
              ".sk-estimator-doc-link.fitted:hover {\n",
              "  /* fitted */\n",
              "  background-color: var(--sklearn-color-fitted-level-3);\n",
              "  color: var(--sklearn-color-background);\n",
              "  text-decoration: none;\n",
              "}\n",
              "\n",
              "/* Span, style for the box shown on hovering the info icon */\n",
              ".sk-estimator-doc-link span {\n",
              "  display: none;\n",
              "  z-index: 9999;\n",
              "  position: relative;\n",
              "  font-weight: normal;\n",
              "  right: .2ex;\n",
              "  padding: .5ex;\n",
              "  margin: .5ex;\n",
              "  width: min-content;\n",
              "  min-width: 20ex;\n",
              "  max-width: 50ex;\n",
              "  color: var(--sklearn-color-text);\n",
              "  box-shadow: 2pt 2pt 4pt #999;\n",
              "  /* unfitted */\n",
              "  background: var(--sklearn-color-unfitted-level-0);\n",
              "  border: .5pt solid var(--sklearn-color-unfitted-level-3);\n",
              "}\n",
              "\n",
              ".sk-estimator-doc-link.fitted span {\n",
              "  /* fitted */\n",
              "  background: var(--sklearn-color-fitted-level-0);\n",
              "  border: var(--sklearn-color-fitted-level-3);\n",
              "}\n",
              "\n",
              ".sk-estimator-doc-link:hover span {\n",
              "  display: block;\n",
              "}\n",
              "\n",
              "/* \"?\"-specific style due to the `<a>` HTML tag */\n",
              "\n",
              "#sk-container-id-2 a.estimator_doc_link {\n",
              "  float: right;\n",
              "  font-size: 1rem;\n",
              "  line-height: 1em;\n",
              "  font-family: monospace;\n",
              "  background-color: var(--sklearn-color-background);\n",
              "  border-radius: 1rem;\n",
              "  height: 1rem;\n",
              "  width: 1rem;\n",
              "  text-decoration: none;\n",
              "  /* unfitted */\n",
              "  color: var(--sklearn-color-unfitted-level-1);\n",
              "  border: var(--sklearn-color-unfitted-level-1) 1pt solid;\n",
              "}\n",
              "\n",
              "#sk-container-id-2 a.estimator_doc_link.fitted {\n",
              "  /* fitted */\n",
              "  border: var(--sklearn-color-fitted-level-1) 1pt solid;\n",
              "  color: var(--sklearn-color-fitted-level-1);\n",
              "}\n",
              "\n",
              "/* On hover */\n",
              "#sk-container-id-2 a.estimator_doc_link:hover {\n",
              "  /* unfitted */\n",
              "  background-color: var(--sklearn-color-unfitted-level-3);\n",
              "  color: var(--sklearn-color-background);\n",
              "  text-decoration: none;\n",
              "}\n",
              "\n",
              "#sk-container-id-2 a.estimator_doc_link.fitted:hover {\n",
              "  /* fitted */\n",
              "  background-color: var(--sklearn-color-fitted-level-3);\n",
              "}\n",
              "</style><div id=\"sk-container-id-2\" class=\"sk-top-container\"><div class=\"sk-text-repr-fallback\"><pre>GridSearchCV(cv=2, estimator=SVC(),\n",
              "             param_grid={&#x27;C&#x27;: [0.1, 1, 10, 100], &#x27;class_weight&#x27;: [&#x27;balanced&#x27;],\n",
              "                         &#x27;gamma&#x27;: [1, 0.1, 0.01, 0.001], &#x27;kernel&#x27;: [&#x27;rbf&#x27;]},\n",
              "             verbose=2)</pre><b>In a Jupyter environment, please rerun this cell to show the HTML representation or trust the notebook. <br />On GitHub, the HTML representation is unable to render, please try loading this page with nbviewer.org.</b></div><div class=\"sk-container\" hidden><div class=\"sk-item sk-dashed-wrapped\"><div class=\"sk-label-container\"><div class=\"sk-label fitted sk-toggleable\"><input class=\"sk-toggleable__control sk-hidden--visually\" id=\"sk-estimator-id-2\" type=\"checkbox\" ><label for=\"sk-estimator-id-2\" class=\"sk-toggleable__label fitted sk-toggleable__label-arrow\"><div><div>GridSearchCV</div></div><div><a class=\"sk-estimator-doc-link fitted\" rel=\"noreferrer\" target=\"_blank\" href=\"https://scikit-learn.org/1.6/modules/generated/sklearn.model_selection.GridSearchCV.html\">?<span>Documentation for GridSearchCV</span></a><span class=\"sk-estimator-doc-link fitted\">i<span>Fitted</span></span></div></label><div class=\"sk-toggleable__content fitted\"><pre>GridSearchCV(cv=2, estimator=SVC(),\n",
              "             param_grid={&#x27;C&#x27;: [0.1, 1, 10, 100], &#x27;class_weight&#x27;: [&#x27;balanced&#x27;],\n",
              "                         &#x27;gamma&#x27;: [1, 0.1, 0.01, 0.001], &#x27;kernel&#x27;: [&#x27;rbf&#x27;]},\n",
              "             verbose=2)</pre></div> </div></div><div class=\"sk-parallel\"><div class=\"sk-parallel-item\"><div class=\"sk-item\"><div class=\"sk-label-container\"><div class=\"sk-label fitted sk-toggleable\"><input class=\"sk-toggleable__control sk-hidden--visually\" id=\"sk-estimator-id-3\" type=\"checkbox\" ><label for=\"sk-estimator-id-3\" class=\"sk-toggleable__label fitted sk-toggleable__label-arrow\"><div><div>best_estimator_: SVC</div></div></label><div class=\"sk-toggleable__content fitted\"><pre>SVC(C=1, class_weight=&#x27;balanced&#x27;, gamma=1)</pre></div> </div></div><div class=\"sk-serial\"><div class=\"sk-item\"><div class=\"sk-estimator fitted sk-toggleable\"><input class=\"sk-toggleable__control sk-hidden--visually\" id=\"sk-estimator-id-4\" type=\"checkbox\" ><label for=\"sk-estimator-id-4\" class=\"sk-toggleable__label fitted sk-toggleable__label-arrow\"><div><div>SVC</div></div><div><a class=\"sk-estimator-doc-link fitted\" rel=\"noreferrer\" target=\"_blank\" href=\"https://scikit-learn.org/1.6/modules/generated/sklearn.svm.SVC.html\">?<span>Documentation for SVC</span></a></div></label><div class=\"sk-toggleable__content fitted\"><pre>SVC(C=1, class_weight=&#x27;balanced&#x27;, gamma=1)</pre></div> </div></div></div></div></div></div></div></div></div>"
            ]
          },
          "metadata": {},
          "execution_count": 57
        }
      ]
    },
    {
      "cell_type": "code",
      "source": [
        "print(grid.best_estimator_)"
      ],
      "metadata": {
        "colab": {
          "base_uri": "https://localhost:8080/"
        },
        "id": "I5iCdRynIock",
        "outputId": "735aea99-bf1c-41f8-fb40-256777c9cebc"
      },
      "execution_count": 58,
      "outputs": [
        {
          "output_type": "stream",
          "name": "stdout",
          "text": [
            "SVC(C=1, class_weight='balanced', gamma=1)\n"
          ]
        }
      ]
    },
    {
      "cell_type": "code",
      "source": [
        "grid_prediction = grid.predict(X_test)"
      ],
      "metadata": {
        "id": "xjAI71XjIq3V"
      },
      "execution_count": 59,
      "outputs": []
    },
    {
      "cell_type": "code",
      "source": [
        "confusion_matrix(y_test, grid_prediction)"
      ],
      "metadata": {
        "colab": {
          "base_uri": "https://localhost:8080/"
        },
        "id": "jdPTejEBIuGI",
        "outputId": "6ae9fefb-e9fc-481e-aa3f-ebd25af58a0b"
      },
      "execution_count": 60,
      "outputs": [
        {
          "output_type": "execute_result",
          "data": {
            "text/plain": [
              "array([[2116,  298],\n",
              "       [ 270,  316]])"
            ]
          },
          "metadata": {},
          "execution_count": 60
        }
      ]
    },
    {
      "cell_type": "code",
      "source": [
        "print(classification_report(y_test, grid_prediction))"
      ],
      "metadata": {
        "colab": {
          "base_uri": "https://localhost:8080/"
        },
        "id": "Zpmr77fvIvgG",
        "outputId": "a38051a8-fa5e-4815-f39c-b334ba94cc31"
      },
      "execution_count": 61,
      "outputs": [
        {
          "output_type": "stream",
          "name": "stdout",
          "text": [
            "              precision    recall  f1-score   support\n",
            "\n",
            "           0       0.89      0.88      0.88      2414\n",
            "           1       0.51      0.54      0.53       586\n",
            "\n",
            "    accuracy                           0.81      3000\n",
            "   macro avg       0.70      0.71      0.70      3000\n",
            "weighted avg       0.81      0.81      0.81      3000\n",
            "\n"
          ]
        }
      ]
    },
    {
      "cell_type": "markdown",
      "source": [
        "**Model with Random underSampling**"
      ],
      "metadata": {
        "id": "jMaaHqJVI1vC"
      }
    },
    {
      "cell_type": "code",
      "source": [
        "svc_rus = SVC()"
      ],
      "metadata": {
        "id": "2_nfHMd4I3jq"
      },
      "execution_count": 62,
      "outputs": []
    },
    {
      "cell_type": "code",
      "source": [
        "svc_rus.fit(X_train_rus, y_train_rus)"
      ],
      "metadata": {
        "colab": {
          "base_uri": "https://localhost:8080/",
          "height": 80
        },
        "id": "pxX_rRQxI7Km",
        "outputId": "d261bb68-db67-44b1-9d3e-f1ae43c73d5a"
      },
      "execution_count": 63,
      "outputs": [
        {
          "output_type": "execute_result",
          "data": {
            "text/plain": [
              "SVC()"
            ],
            "text/html": [
              "<style>#sk-container-id-3 {\n",
              "  /* Definition of color scheme common for light and dark mode */\n",
              "  --sklearn-color-text: #000;\n",
              "  --sklearn-color-text-muted: #666;\n",
              "  --sklearn-color-line: gray;\n",
              "  /* Definition of color scheme for unfitted estimators */\n",
              "  --sklearn-color-unfitted-level-0: #fff5e6;\n",
              "  --sklearn-color-unfitted-level-1: #f6e4d2;\n",
              "  --sklearn-color-unfitted-level-2: #ffe0b3;\n",
              "  --sklearn-color-unfitted-level-3: chocolate;\n",
              "  /* Definition of color scheme for fitted estimators */\n",
              "  --sklearn-color-fitted-level-0: #f0f8ff;\n",
              "  --sklearn-color-fitted-level-1: #d4ebff;\n",
              "  --sklearn-color-fitted-level-2: #b3dbfd;\n",
              "  --sklearn-color-fitted-level-3: cornflowerblue;\n",
              "\n",
              "  /* Specific color for light theme */\n",
              "  --sklearn-color-text-on-default-background: var(--sg-text-color, var(--theme-code-foreground, var(--jp-content-font-color1, black)));\n",
              "  --sklearn-color-background: var(--sg-background-color, var(--theme-background, var(--jp-layout-color0, white)));\n",
              "  --sklearn-color-border-box: var(--sg-text-color, var(--theme-code-foreground, var(--jp-content-font-color1, black)));\n",
              "  --sklearn-color-icon: #696969;\n",
              "\n",
              "  @media (prefers-color-scheme: dark) {\n",
              "    /* Redefinition of color scheme for dark theme */\n",
              "    --sklearn-color-text-on-default-background: var(--sg-text-color, var(--theme-code-foreground, var(--jp-content-font-color1, white)));\n",
              "    --sklearn-color-background: var(--sg-background-color, var(--theme-background, var(--jp-layout-color0, #111)));\n",
              "    --sklearn-color-border-box: var(--sg-text-color, var(--theme-code-foreground, var(--jp-content-font-color1, white)));\n",
              "    --sklearn-color-icon: #878787;\n",
              "  }\n",
              "}\n",
              "\n",
              "#sk-container-id-3 {\n",
              "  color: var(--sklearn-color-text);\n",
              "}\n",
              "\n",
              "#sk-container-id-3 pre {\n",
              "  padding: 0;\n",
              "}\n",
              "\n",
              "#sk-container-id-3 input.sk-hidden--visually {\n",
              "  border: 0;\n",
              "  clip: rect(1px 1px 1px 1px);\n",
              "  clip: rect(1px, 1px, 1px, 1px);\n",
              "  height: 1px;\n",
              "  margin: -1px;\n",
              "  overflow: hidden;\n",
              "  padding: 0;\n",
              "  position: absolute;\n",
              "  width: 1px;\n",
              "}\n",
              "\n",
              "#sk-container-id-3 div.sk-dashed-wrapped {\n",
              "  border: 1px dashed var(--sklearn-color-line);\n",
              "  margin: 0 0.4em 0.5em 0.4em;\n",
              "  box-sizing: border-box;\n",
              "  padding-bottom: 0.4em;\n",
              "  background-color: var(--sklearn-color-background);\n",
              "}\n",
              "\n",
              "#sk-container-id-3 div.sk-container {\n",
              "  /* jupyter's `normalize.less` sets `[hidden] { display: none; }`\n",
              "     but bootstrap.min.css set `[hidden] { display: none !important; }`\n",
              "     so we also need the `!important` here to be able to override the\n",
              "     default hidden behavior on the sphinx rendered scikit-learn.org.\n",
              "     See: https://github.com/scikit-learn/scikit-learn/issues/21755 */\n",
              "  display: inline-block !important;\n",
              "  position: relative;\n",
              "}\n",
              "\n",
              "#sk-container-id-3 div.sk-text-repr-fallback {\n",
              "  display: none;\n",
              "}\n",
              "\n",
              "div.sk-parallel-item,\n",
              "div.sk-serial,\n",
              "div.sk-item {\n",
              "  /* draw centered vertical line to link estimators */\n",
              "  background-image: linear-gradient(var(--sklearn-color-text-on-default-background), var(--sklearn-color-text-on-default-background));\n",
              "  background-size: 2px 100%;\n",
              "  background-repeat: no-repeat;\n",
              "  background-position: center center;\n",
              "}\n",
              "\n",
              "/* Parallel-specific style estimator block */\n",
              "\n",
              "#sk-container-id-3 div.sk-parallel-item::after {\n",
              "  content: \"\";\n",
              "  width: 100%;\n",
              "  border-bottom: 2px solid var(--sklearn-color-text-on-default-background);\n",
              "  flex-grow: 1;\n",
              "}\n",
              "\n",
              "#sk-container-id-3 div.sk-parallel {\n",
              "  display: flex;\n",
              "  align-items: stretch;\n",
              "  justify-content: center;\n",
              "  background-color: var(--sklearn-color-background);\n",
              "  position: relative;\n",
              "}\n",
              "\n",
              "#sk-container-id-3 div.sk-parallel-item {\n",
              "  display: flex;\n",
              "  flex-direction: column;\n",
              "}\n",
              "\n",
              "#sk-container-id-3 div.sk-parallel-item:first-child::after {\n",
              "  align-self: flex-end;\n",
              "  width: 50%;\n",
              "}\n",
              "\n",
              "#sk-container-id-3 div.sk-parallel-item:last-child::after {\n",
              "  align-self: flex-start;\n",
              "  width: 50%;\n",
              "}\n",
              "\n",
              "#sk-container-id-3 div.sk-parallel-item:only-child::after {\n",
              "  width: 0;\n",
              "}\n",
              "\n",
              "/* Serial-specific style estimator block */\n",
              "\n",
              "#sk-container-id-3 div.sk-serial {\n",
              "  display: flex;\n",
              "  flex-direction: column;\n",
              "  align-items: center;\n",
              "  background-color: var(--sklearn-color-background);\n",
              "  padding-right: 1em;\n",
              "  padding-left: 1em;\n",
              "}\n",
              "\n",
              "\n",
              "/* Toggleable style: style used for estimator/Pipeline/ColumnTransformer box that is\n",
              "clickable and can be expanded/collapsed.\n",
              "- Pipeline and ColumnTransformer use this feature and define the default style\n",
              "- Estimators will overwrite some part of the style using the `sk-estimator` class\n",
              "*/\n",
              "\n",
              "/* Pipeline and ColumnTransformer style (default) */\n",
              "\n",
              "#sk-container-id-3 div.sk-toggleable {\n",
              "  /* Default theme specific background. It is overwritten whether we have a\n",
              "  specific estimator or a Pipeline/ColumnTransformer */\n",
              "  background-color: var(--sklearn-color-background);\n",
              "}\n",
              "\n",
              "/* Toggleable label */\n",
              "#sk-container-id-3 label.sk-toggleable__label {\n",
              "  cursor: pointer;\n",
              "  display: flex;\n",
              "  width: 100%;\n",
              "  margin-bottom: 0;\n",
              "  padding: 0.5em;\n",
              "  box-sizing: border-box;\n",
              "  text-align: center;\n",
              "  align-items: start;\n",
              "  justify-content: space-between;\n",
              "  gap: 0.5em;\n",
              "}\n",
              "\n",
              "#sk-container-id-3 label.sk-toggleable__label .caption {\n",
              "  font-size: 0.6rem;\n",
              "  font-weight: lighter;\n",
              "  color: var(--sklearn-color-text-muted);\n",
              "}\n",
              "\n",
              "#sk-container-id-3 label.sk-toggleable__label-arrow:before {\n",
              "  /* Arrow on the left of the label */\n",
              "  content: \"▸\";\n",
              "  float: left;\n",
              "  margin-right: 0.25em;\n",
              "  color: var(--sklearn-color-icon);\n",
              "}\n",
              "\n",
              "#sk-container-id-3 label.sk-toggleable__label-arrow:hover:before {\n",
              "  color: var(--sklearn-color-text);\n",
              "}\n",
              "\n",
              "/* Toggleable content - dropdown */\n",
              "\n",
              "#sk-container-id-3 div.sk-toggleable__content {\n",
              "  max-height: 0;\n",
              "  max-width: 0;\n",
              "  overflow: hidden;\n",
              "  text-align: left;\n",
              "  /* unfitted */\n",
              "  background-color: var(--sklearn-color-unfitted-level-0);\n",
              "}\n",
              "\n",
              "#sk-container-id-3 div.sk-toggleable__content.fitted {\n",
              "  /* fitted */\n",
              "  background-color: var(--sklearn-color-fitted-level-0);\n",
              "}\n",
              "\n",
              "#sk-container-id-3 div.sk-toggleable__content pre {\n",
              "  margin: 0.2em;\n",
              "  border-radius: 0.25em;\n",
              "  color: var(--sklearn-color-text);\n",
              "  /* unfitted */\n",
              "  background-color: var(--sklearn-color-unfitted-level-0);\n",
              "}\n",
              "\n",
              "#sk-container-id-3 div.sk-toggleable__content.fitted pre {\n",
              "  /* unfitted */\n",
              "  background-color: var(--sklearn-color-fitted-level-0);\n",
              "}\n",
              "\n",
              "#sk-container-id-3 input.sk-toggleable__control:checked~div.sk-toggleable__content {\n",
              "  /* Expand drop-down */\n",
              "  max-height: 200px;\n",
              "  max-width: 100%;\n",
              "  overflow: auto;\n",
              "}\n",
              "\n",
              "#sk-container-id-3 input.sk-toggleable__control:checked~label.sk-toggleable__label-arrow:before {\n",
              "  content: \"▾\";\n",
              "}\n",
              "\n",
              "/* Pipeline/ColumnTransformer-specific style */\n",
              "\n",
              "#sk-container-id-3 div.sk-label input.sk-toggleable__control:checked~label.sk-toggleable__label {\n",
              "  color: var(--sklearn-color-text);\n",
              "  background-color: var(--sklearn-color-unfitted-level-2);\n",
              "}\n",
              "\n",
              "#sk-container-id-3 div.sk-label.fitted input.sk-toggleable__control:checked~label.sk-toggleable__label {\n",
              "  background-color: var(--sklearn-color-fitted-level-2);\n",
              "}\n",
              "\n",
              "/* Estimator-specific style */\n",
              "\n",
              "/* Colorize estimator box */\n",
              "#sk-container-id-3 div.sk-estimator input.sk-toggleable__control:checked~label.sk-toggleable__label {\n",
              "  /* unfitted */\n",
              "  background-color: var(--sklearn-color-unfitted-level-2);\n",
              "}\n",
              "\n",
              "#sk-container-id-3 div.sk-estimator.fitted input.sk-toggleable__control:checked~label.sk-toggleable__label {\n",
              "  /* fitted */\n",
              "  background-color: var(--sklearn-color-fitted-level-2);\n",
              "}\n",
              "\n",
              "#sk-container-id-3 div.sk-label label.sk-toggleable__label,\n",
              "#sk-container-id-3 div.sk-label label {\n",
              "  /* The background is the default theme color */\n",
              "  color: var(--sklearn-color-text-on-default-background);\n",
              "}\n",
              "\n",
              "/* On hover, darken the color of the background */\n",
              "#sk-container-id-3 div.sk-label:hover label.sk-toggleable__label {\n",
              "  color: var(--sklearn-color-text);\n",
              "  background-color: var(--sklearn-color-unfitted-level-2);\n",
              "}\n",
              "\n",
              "/* Label box, darken color on hover, fitted */\n",
              "#sk-container-id-3 div.sk-label.fitted:hover label.sk-toggleable__label.fitted {\n",
              "  color: var(--sklearn-color-text);\n",
              "  background-color: var(--sklearn-color-fitted-level-2);\n",
              "}\n",
              "\n",
              "/* Estimator label */\n",
              "\n",
              "#sk-container-id-3 div.sk-label label {\n",
              "  font-family: monospace;\n",
              "  font-weight: bold;\n",
              "  display: inline-block;\n",
              "  line-height: 1.2em;\n",
              "}\n",
              "\n",
              "#sk-container-id-3 div.sk-label-container {\n",
              "  text-align: center;\n",
              "}\n",
              "\n",
              "/* Estimator-specific */\n",
              "#sk-container-id-3 div.sk-estimator {\n",
              "  font-family: monospace;\n",
              "  border: 1px dotted var(--sklearn-color-border-box);\n",
              "  border-radius: 0.25em;\n",
              "  box-sizing: border-box;\n",
              "  margin-bottom: 0.5em;\n",
              "  /* unfitted */\n",
              "  background-color: var(--sklearn-color-unfitted-level-0);\n",
              "}\n",
              "\n",
              "#sk-container-id-3 div.sk-estimator.fitted {\n",
              "  /* fitted */\n",
              "  background-color: var(--sklearn-color-fitted-level-0);\n",
              "}\n",
              "\n",
              "/* on hover */\n",
              "#sk-container-id-3 div.sk-estimator:hover {\n",
              "  /* unfitted */\n",
              "  background-color: var(--sklearn-color-unfitted-level-2);\n",
              "}\n",
              "\n",
              "#sk-container-id-3 div.sk-estimator.fitted:hover {\n",
              "  /* fitted */\n",
              "  background-color: var(--sklearn-color-fitted-level-2);\n",
              "}\n",
              "\n",
              "/* Specification for estimator info (e.g. \"i\" and \"?\") */\n",
              "\n",
              "/* Common style for \"i\" and \"?\" */\n",
              "\n",
              ".sk-estimator-doc-link,\n",
              "a:link.sk-estimator-doc-link,\n",
              "a:visited.sk-estimator-doc-link {\n",
              "  float: right;\n",
              "  font-size: smaller;\n",
              "  line-height: 1em;\n",
              "  font-family: monospace;\n",
              "  background-color: var(--sklearn-color-background);\n",
              "  border-radius: 1em;\n",
              "  height: 1em;\n",
              "  width: 1em;\n",
              "  text-decoration: none !important;\n",
              "  margin-left: 0.5em;\n",
              "  text-align: center;\n",
              "  /* unfitted */\n",
              "  border: var(--sklearn-color-unfitted-level-1) 1pt solid;\n",
              "  color: var(--sklearn-color-unfitted-level-1);\n",
              "}\n",
              "\n",
              ".sk-estimator-doc-link.fitted,\n",
              "a:link.sk-estimator-doc-link.fitted,\n",
              "a:visited.sk-estimator-doc-link.fitted {\n",
              "  /* fitted */\n",
              "  border: var(--sklearn-color-fitted-level-1) 1pt solid;\n",
              "  color: var(--sklearn-color-fitted-level-1);\n",
              "}\n",
              "\n",
              "/* On hover */\n",
              "div.sk-estimator:hover .sk-estimator-doc-link:hover,\n",
              ".sk-estimator-doc-link:hover,\n",
              "div.sk-label-container:hover .sk-estimator-doc-link:hover,\n",
              ".sk-estimator-doc-link:hover {\n",
              "  /* unfitted */\n",
              "  background-color: var(--sklearn-color-unfitted-level-3);\n",
              "  color: var(--sklearn-color-background);\n",
              "  text-decoration: none;\n",
              "}\n",
              "\n",
              "div.sk-estimator.fitted:hover .sk-estimator-doc-link.fitted:hover,\n",
              ".sk-estimator-doc-link.fitted:hover,\n",
              "div.sk-label-container:hover .sk-estimator-doc-link.fitted:hover,\n",
              ".sk-estimator-doc-link.fitted:hover {\n",
              "  /* fitted */\n",
              "  background-color: var(--sklearn-color-fitted-level-3);\n",
              "  color: var(--sklearn-color-background);\n",
              "  text-decoration: none;\n",
              "}\n",
              "\n",
              "/* Span, style for the box shown on hovering the info icon */\n",
              ".sk-estimator-doc-link span {\n",
              "  display: none;\n",
              "  z-index: 9999;\n",
              "  position: relative;\n",
              "  font-weight: normal;\n",
              "  right: .2ex;\n",
              "  padding: .5ex;\n",
              "  margin: .5ex;\n",
              "  width: min-content;\n",
              "  min-width: 20ex;\n",
              "  max-width: 50ex;\n",
              "  color: var(--sklearn-color-text);\n",
              "  box-shadow: 2pt 2pt 4pt #999;\n",
              "  /* unfitted */\n",
              "  background: var(--sklearn-color-unfitted-level-0);\n",
              "  border: .5pt solid var(--sklearn-color-unfitted-level-3);\n",
              "}\n",
              "\n",
              ".sk-estimator-doc-link.fitted span {\n",
              "  /* fitted */\n",
              "  background: var(--sklearn-color-fitted-level-0);\n",
              "  border: var(--sklearn-color-fitted-level-3);\n",
              "}\n",
              "\n",
              ".sk-estimator-doc-link:hover span {\n",
              "  display: block;\n",
              "}\n",
              "\n",
              "/* \"?\"-specific style due to the `<a>` HTML tag */\n",
              "\n",
              "#sk-container-id-3 a.estimator_doc_link {\n",
              "  float: right;\n",
              "  font-size: 1rem;\n",
              "  line-height: 1em;\n",
              "  font-family: monospace;\n",
              "  background-color: var(--sklearn-color-background);\n",
              "  border-radius: 1rem;\n",
              "  height: 1rem;\n",
              "  width: 1rem;\n",
              "  text-decoration: none;\n",
              "  /* unfitted */\n",
              "  color: var(--sklearn-color-unfitted-level-1);\n",
              "  border: var(--sklearn-color-unfitted-level-1) 1pt solid;\n",
              "}\n",
              "\n",
              "#sk-container-id-3 a.estimator_doc_link.fitted {\n",
              "  /* fitted */\n",
              "  border: var(--sklearn-color-fitted-level-1) 1pt solid;\n",
              "  color: var(--sklearn-color-fitted-level-1);\n",
              "}\n",
              "\n",
              "/* On hover */\n",
              "#sk-container-id-3 a.estimator_doc_link:hover {\n",
              "  /* unfitted */\n",
              "  background-color: var(--sklearn-color-unfitted-level-3);\n",
              "  color: var(--sklearn-color-background);\n",
              "  text-decoration: none;\n",
              "}\n",
              "\n",
              "#sk-container-id-3 a.estimator_doc_link.fitted:hover {\n",
              "  /* fitted */\n",
              "  background-color: var(--sklearn-color-fitted-level-3);\n",
              "}\n",
              "</style><div id=\"sk-container-id-3\" class=\"sk-top-container\"><div class=\"sk-text-repr-fallback\"><pre>SVC()</pre><b>In a Jupyter environment, please rerun this cell to show the HTML representation or trust the notebook. <br />On GitHub, the HTML representation is unable to render, please try loading this page with nbviewer.org.</b></div><div class=\"sk-container\" hidden><div class=\"sk-item\"><div class=\"sk-estimator fitted sk-toggleable\"><input class=\"sk-toggleable__control sk-hidden--visually\" id=\"sk-estimator-id-5\" type=\"checkbox\" checked><label for=\"sk-estimator-id-5\" class=\"sk-toggleable__label fitted sk-toggleable__label-arrow\"><div><div>SVC</div></div><div><a class=\"sk-estimator-doc-link fitted\" rel=\"noreferrer\" target=\"_blank\" href=\"https://scikit-learn.org/1.6/modules/generated/sklearn.svm.SVC.html\">?<span>Documentation for SVC</span></a><span class=\"sk-estimator-doc-link fitted\">i<span>Fitted</span></span></div></label><div class=\"sk-toggleable__content fitted\"><pre>SVC()</pre></div> </div></div></div></div>"
            ]
          },
          "metadata": {},
          "execution_count": 63
        }
      ]
    },
    {
      "cell_type": "code",
      "source": [
        "y_pred_svc_rus = svc_rus.predict(X_test_rus)\n",
        "confusion_matrix(y_test_rus, y_pred_svc_rus)"
      ],
      "metadata": {
        "colab": {
          "base_uri": "https://localhost:8080/"
        },
        "id": "fJX1uXoiI80d",
        "outputId": "edbdda65-1a48-4f85-b1c9-7a1924b11622"
      },
      "execution_count": 64,
      "outputs": [
        {
          "output_type": "execute_result",
          "data": {
            "text/plain": [
              "array([[492, 135],\n",
              "       [180, 416]])"
            ]
          },
          "metadata": {},
          "execution_count": 64
        }
      ]
    },
    {
      "cell_type": "code",
      "source": [
        "print(classification_report(y_test_rus, y_pred_svc_rus))"
      ],
      "metadata": {
        "colab": {
          "base_uri": "https://localhost:8080/"
        },
        "id": "yUMil3U8JB8g",
        "outputId": "3a1b89df-f53e-4783-8cbc-e289f9b31a7d"
      },
      "execution_count": 65,
      "outputs": [
        {
          "output_type": "stream",
          "name": "stdout",
          "text": [
            "              precision    recall  f1-score   support\n",
            "\n",
            "           0       0.73      0.78      0.76       627\n",
            "           1       0.75      0.70      0.73       596\n",
            "\n",
            "    accuracy                           0.74      1223\n",
            "   macro avg       0.74      0.74      0.74      1223\n",
            "weighted avg       0.74      0.74      0.74      1223\n",
            "\n"
          ]
        }
      ]
    },
    {
      "cell_type": "markdown",
      "source": [
        "**HyperParameter Tuning**"
      ],
      "metadata": {
        "id": "_Qr7UgU4JGJW"
      }
    },
    {
      "cell_type": "code",
      "source": [
        "param_grid = {'C': [0.1, 1, 10, 100], 'gamma': [1, 0.1, 0.01, 0.001], 'kernel': ['rbf'], 'class_weight': ['balanced']}"
      ],
      "metadata": {
        "id": "ZrxI7SCpJIu1"
      },
      "execution_count": 66,
      "outputs": []
    },
    {
      "cell_type": "code",
      "source": [
        "grid_rus = GridSearchCV(SVC(), param_grid, refit=True, verbose=2, cv = 2)\n",
        "grid_rus.fit(X_train_rus, y_train_rus)"
      ],
      "metadata": {
        "colab": {
          "base_uri": "https://localhost:8080/",
          "height": 738
        },
        "id": "Hfa2yOVxJLml",
        "outputId": "f660d9b6-a542-470f-fa4b-a9cc8a9e9072"
      },
      "execution_count": 67,
      "outputs": [
        {
          "output_type": "stream",
          "name": "stdout",
          "text": [
            "Fitting 2 folds for each of 16 candidates, totalling 32 fits\n",
            "[CV] END ..C=0.1, class_weight=balanced, gamma=1, kernel=rbf; total time=   0.8s\n",
            "[CV] END ..C=0.1, class_weight=balanced, gamma=1, kernel=rbf; total time=   0.8s\n",
            "[CV] END C=0.1, class_weight=balanced, gamma=0.1, kernel=rbf; total time=   0.6s\n",
            "[CV] END C=0.1, class_weight=balanced, gamma=0.1, kernel=rbf; total time=   0.7s\n",
            "[CV] END C=0.1, class_weight=balanced, gamma=0.01, kernel=rbf; total time=   0.7s\n",
            "[CV] END C=0.1, class_weight=balanced, gamma=0.01, kernel=rbf; total time=   0.7s\n",
            "[CV] END C=0.1, class_weight=balanced, gamma=0.001, kernel=rbf; total time=   0.4s\n",
            "[CV] END C=0.1, class_weight=balanced, gamma=0.001, kernel=rbf; total time=   0.3s\n",
            "[CV] END ....C=1, class_weight=balanced, gamma=1, kernel=rbf; total time=   0.2s\n",
            "[CV] END ....C=1, class_weight=balanced, gamma=1, kernel=rbf; total time=   0.2s\n",
            "[CV] END ..C=1, class_weight=balanced, gamma=0.1, kernel=rbf; total time=   0.2s\n",
            "[CV] END ..C=1, class_weight=balanced, gamma=0.1, kernel=rbf; total time=   0.2s\n",
            "[CV] END .C=1, class_weight=balanced, gamma=0.01, kernel=rbf; total time=   0.2s\n",
            "[CV] END .C=1, class_weight=balanced, gamma=0.01, kernel=rbf; total time=   0.2s\n",
            "[CV] END C=1, class_weight=balanced, gamma=0.001, kernel=rbf; total time=   0.2s\n",
            "[CV] END C=1, class_weight=balanced, gamma=0.001, kernel=rbf; total time=   0.2s\n",
            "[CV] END ...C=10, class_weight=balanced, gamma=1, kernel=rbf; total time=   0.2s\n",
            "[CV] END ...C=10, class_weight=balanced, gamma=1, kernel=rbf; total time=   0.2s\n",
            "[CV] END .C=10, class_weight=balanced, gamma=0.1, kernel=rbf; total time=   0.1s\n",
            "[CV] END .C=10, class_weight=balanced, gamma=0.1, kernel=rbf; total time=   0.2s\n",
            "[CV] END C=10, class_weight=balanced, gamma=0.01, kernel=rbf; total time=   0.2s\n",
            "[CV] END C=10, class_weight=balanced, gamma=0.01, kernel=rbf; total time=   0.2s\n",
            "[CV] END C=10, class_weight=balanced, gamma=0.001, kernel=rbf; total time=   0.2s\n",
            "[CV] END C=10, class_weight=balanced, gamma=0.001, kernel=rbf; total time=   0.2s\n",
            "[CV] END ..C=100, class_weight=balanced, gamma=1, kernel=rbf; total time=   0.2s\n",
            "[CV] END ..C=100, class_weight=balanced, gamma=1, kernel=rbf; total time=   0.2s\n",
            "[CV] END C=100, class_weight=balanced, gamma=0.1, kernel=rbf; total time=   0.3s\n",
            "[CV] END C=100, class_weight=balanced, gamma=0.1, kernel=rbf; total time=   0.3s\n",
            "[CV] END C=100, class_weight=balanced, gamma=0.01, kernel=rbf; total time=   0.2s\n",
            "[CV] END C=100, class_weight=balanced, gamma=0.01, kernel=rbf; total time=   0.2s\n",
            "[CV] END C=100, class_weight=balanced, gamma=0.001, kernel=rbf; total time=   0.2s\n",
            "[CV] END C=100, class_weight=balanced, gamma=0.001, kernel=rbf; total time=   0.2s\n"
          ]
        },
        {
          "output_type": "execute_result",
          "data": {
            "text/plain": [
              "GridSearchCV(cv=2, estimator=SVC(),\n",
              "             param_grid={'C': [0.1, 1, 10, 100], 'class_weight': ['balanced'],\n",
              "                         'gamma': [1, 0.1, 0.01, 0.001], 'kernel': ['rbf']},\n",
              "             verbose=2)"
            ],
            "text/html": [
              "<style>#sk-container-id-4 {\n",
              "  /* Definition of color scheme common for light and dark mode */\n",
              "  --sklearn-color-text: #000;\n",
              "  --sklearn-color-text-muted: #666;\n",
              "  --sklearn-color-line: gray;\n",
              "  /* Definition of color scheme for unfitted estimators */\n",
              "  --sklearn-color-unfitted-level-0: #fff5e6;\n",
              "  --sklearn-color-unfitted-level-1: #f6e4d2;\n",
              "  --sklearn-color-unfitted-level-2: #ffe0b3;\n",
              "  --sklearn-color-unfitted-level-3: chocolate;\n",
              "  /* Definition of color scheme for fitted estimators */\n",
              "  --sklearn-color-fitted-level-0: #f0f8ff;\n",
              "  --sklearn-color-fitted-level-1: #d4ebff;\n",
              "  --sklearn-color-fitted-level-2: #b3dbfd;\n",
              "  --sklearn-color-fitted-level-3: cornflowerblue;\n",
              "\n",
              "  /* Specific color for light theme */\n",
              "  --sklearn-color-text-on-default-background: var(--sg-text-color, var(--theme-code-foreground, var(--jp-content-font-color1, black)));\n",
              "  --sklearn-color-background: var(--sg-background-color, var(--theme-background, var(--jp-layout-color0, white)));\n",
              "  --sklearn-color-border-box: var(--sg-text-color, var(--theme-code-foreground, var(--jp-content-font-color1, black)));\n",
              "  --sklearn-color-icon: #696969;\n",
              "\n",
              "  @media (prefers-color-scheme: dark) {\n",
              "    /* Redefinition of color scheme for dark theme */\n",
              "    --sklearn-color-text-on-default-background: var(--sg-text-color, var(--theme-code-foreground, var(--jp-content-font-color1, white)));\n",
              "    --sklearn-color-background: var(--sg-background-color, var(--theme-background, var(--jp-layout-color0, #111)));\n",
              "    --sklearn-color-border-box: var(--sg-text-color, var(--theme-code-foreground, var(--jp-content-font-color1, white)));\n",
              "    --sklearn-color-icon: #878787;\n",
              "  }\n",
              "}\n",
              "\n",
              "#sk-container-id-4 {\n",
              "  color: var(--sklearn-color-text);\n",
              "}\n",
              "\n",
              "#sk-container-id-4 pre {\n",
              "  padding: 0;\n",
              "}\n",
              "\n",
              "#sk-container-id-4 input.sk-hidden--visually {\n",
              "  border: 0;\n",
              "  clip: rect(1px 1px 1px 1px);\n",
              "  clip: rect(1px, 1px, 1px, 1px);\n",
              "  height: 1px;\n",
              "  margin: -1px;\n",
              "  overflow: hidden;\n",
              "  padding: 0;\n",
              "  position: absolute;\n",
              "  width: 1px;\n",
              "}\n",
              "\n",
              "#sk-container-id-4 div.sk-dashed-wrapped {\n",
              "  border: 1px dashed var(--sklearn-color-line);\n",
              "  margin: 0 0.4em 0.5em 0.4em;\n",
              "  box-sizing: border-box;\n",
              "  padding-bottom: 0.4em;\n",
              "  background-color: var(--sklearn-color-background);\n",
              "}\n",
              "\n",
              "#sk-container-id-4 div.sk-container {\n",
              "  /* jupyter's `normalize.less` sets `[hidden] { display: none; }`\n",
              "     but bootstrap.min.css set `[hidden] { display: none !important; }`\n",
              "     so we also need the `!important` here to be able to override the\n",
              "     default hidden behavior on the sphinx rendered scikit-learn.org.\n",
              "     See: https://github.com/scikit-learn/scikit-learn/issues/21755 */\n",
              "  display: inline-block !important;\n",
              "  position: relative;\n",
              "}\n",
              "\n",
              "#sk-container-id-4 div.sk-text-repr-fallback {\n",
              "  display: none;\n",
              "}\n",
              "\n",
              "div.sk-parallel-item,\n",
              "div.sk-serial,\n",
              "div.sk-item {\n",
              "  /* draw centered vertical line to link estimators */\n",
              "  background-image: linear-gradient(var(--sklearn-color-text-on-default-background), var(--sklearn-color-text-on-default-background));\n",
              "  background-size: 2px 100%;\n",
              "  background-repeat: no-repeat;\n",
              "  background-position: center center;\n",
              "}\n",
              "\n",
              "/* Parallel-specific style estimator block */\n",
              "\n",
              "#sk-container-id-4 div.sk-parallel-item::after {\n",
              "  content: \"\";\n",
              "  width: 100%;\n",
              "  border-bottom: 2px solid var(--sklearn-color-text-on-default-background);\n",
              "  flex-grow: 1;\n",
              "}\n",
              "\n",
              "#sk-container-id-4 div.sk-parallel {\n",
              "  display: flex;\n",
              "  align-items: stretch;\n",
              "  justify-content: center;\n",
              "  background-color: var(--sklearn-color-background);\n",
              "  position: relative;\n",
              "}\n",
              "\n",
              "#sk-container-id-4 div.sk-parallel-item {\n",
              "  display: flex;\n",
              "  flex-direction: column;\n",
              "}\n",
              "\n",
              "#sk-container-id-4 div.sk-parallel-item:first-child::after {\n",
              "  align-self: flex-end;\n",
              "  width: 50%;\n",
              "}\n",
              "\n",
              "#sk-container-id-4 div.sk-parallel-item:last-child::after {\n",
              "  align-self: flex-start;\n",
              "  width: 50%;\n",
              "}\n",
              "\n",
              "#sk-container-id-4 div.sk-parallel-item:only-child::after {\n",
              "  width: 0;\n",
              "}\n",
              "\n",
              "/* Serial-specific style estimator block */\n",
              "\n",
              "#sk-container-id-4 div.sk-serial {\n",
              "  display: flex;\n",
              "  flex-direction: column;\n",
              "  align-items: center;\n",
              "  background-color: var(--sklearn-color-background);\n",
              "  padding-right: 1em;\n",
              "  padding-left: 1em;\n",
              "}\n",
              "\n",
              "\n",
              "/* Toggleable style: style used for estimator/Pipeline/ColumnTransformer box that is\n",
              "clickable and can be expanded/collapsed.\n",
              "- Pipeline and ColumnTransformer use this feature and define the default style\n",
              "- Estimators will overwrite some part of the style using the `sk-estimator` class\n",
              "*/\n",
              "\n",
              "/* Pipeline and ColumnTransformer style (default) */\n",
              "\n",
              "#sk-container-id-4 div.sk-toggleable {\n",
              "  /* Default theme specific background. It is overwritten whether we have a\n",
              "  specific estimator or a Pipeline/ColumnTransformer */\n",
              "  background-color: var(--sklearn-color-background);\n",
              "}\n",
              "\n",
              "/* Toggleable label */\n",
              "#sk-container-id-4 label.sk-toggleable__label {\n",
              "  cursor: pointer;\n",
              "  display: flex;\n",
              "  width: 100%;\n",
              "  margin-bottom: 0;\n",
              "  padding: 0.5em;\n",
              "  box-sizing: border-box;\n",
              "  text-align: center;\n",
              "  align-items: start;\n",
              "  justify-content: space-between;\n",
              "  gap: 0.5em;\n",
              "}\n",
              "\n",
              "#sk-container-id-4 label.sk-toggleable__label .caption {\n",
              "  font-size: 0.6rem;\n",
              "  font-weight: lighter;\n",
              "  color: var(--sklearn-color-text-muted);\n",
              "}\n",
              "\n",
              "#sk-container-id-4 label.sk-toggleable__label-arrow:before {\n",
              "  /* Arrow on the left of the label */\n",
              "  content: \"▸\";\n",
              "  float: left;\n",
              "  margin-right: 0.25em;\n",
              "  color: var(--sklearn-color-icon);\n",
              "}\n",
              "\n",
              "#sk-container-id-4 label.sk-toggleable__label-arrow:hover:before {\n",
              "  color: var(--sklearn-color-text);\n",
              "}\n",
              "\n",
              "/* Toggleable content - dropdown */\n",
              "\n",
              "#sk-container-id-4 div.sk-toggleable__content {\n",
              "  max-height: 0;\n",
              "  max-width: 0;\n",
              "  overflow: hidden;\n",
              "  text-align: left;\n",
              "  /* unfitted */\n",
              "  background-color: var(--sklearn-color-unfitted-level-0);\n",
              "}\n",
              "\n",
              "#sk-container-id-4 div.sk-toggleable__content.fitted {\n",
              "  /* fitted */\n",
              "  background-color: var(--sklearn-color-fitted-level-0);\n",
              "}\n",
              "\n",
              "#sk-container-id-4 div.sk-toggleable__content pre {\n",
              "  margin: 0.2em;\n",
              "  border-radius: 0.25em;\n",
              "  color: var(--sklearn-color-text);\n",
              "  /* unfitted */\n",
              "  background-color: var(--sklearn-color-unfitted-level-0);\n",
              "}\n",
              "\n",
              "#sk-container-id-4 div.sk-toggleable__content.fitted pre {\n",
              "  /* unfitted */\n",
              "  background-color: var(--sklearn-color-fitted-level-0);\n",
              "}\n",
              "\n",
              "#sk-container-id-4 input.sk-toggleable__control:checked~div.sk-toggleable__content {\n",
              "  /* Expand drop-down */\n",
              "  max-height: 200px;\n",
              "  max-width: 100%;\n",
              "  overflow: auto;\n",
              "}\n",
              "\n",
              "#sk-container-id-4 input.sk-toggleable__control:checked~label.sk-toggleable__label-arrow:before {\n",
              "  content: \"▾\";\n",
              "}\n",
              "\n",
              "/* Pipeline/ColumnTransformer-specific style */\n",
              "\n",
              "#sk-container-id-4 div.sk-label input.sk-toggleable__control:checked~label.sk-toggleable__label {\n",
              "  color: var(--sklearn-color-text);\n",
              "  background-color: var(--sklearn-color-unfitted-level-2);\n",
              "}\n",
              "\n",
              "#sk-container-id-4 div.sk-label.fitted input.sk-toggleable__control:checked~label.sk-toggleable__label {\n",
              "  background-color: var(--sklearn-color-fitted-level-2);\n",
              "}\n",
              "\n",
              "/* Estimator-specific style */\n",
              "\n",
              "/* Colorize estimator box */\n",
              "#sk-container-id-4 div.sk-estimator input.sk-toggleable__control:checked~label.sk-toggleable__label {\n",
              "  /* unfitted */\n",
              "  background-color: var(--sklearn-color-unfitted-level-2);\n",
              "}\n",
              "\n",
              "#sk-container-id-4 div.sk-estimator.fitted input.sk-toggleable__control:checked~label.sk-toggleable__label {\n",
              "  /* fitted */\n",
              "  background-color: var(--sklearn-color-fitted-level-2);\n",
              "}\n",
              "\n",
              "#sk-container-id-4 div.sk-label label.sk-toggleable__label,\n",
              "#sk-container-id-4 div.sk-label label {\n",
              "  /* The background is the default theme color */\n",
              "  color: var(--sklearn-color-text-on-default-background);\n",
              "}\n",
              "\n",
              "/* On hover, darken the color of the background */\n",
              "#sk-container-id-4 div.sk-label:hover label.sk-toggleable__label {\n",
              "  color: var(--sklearn-color-text);\n",
              "  background-color: var(--sklearn-color-unfitted-level-2);\n",
              "}\n",
              "\n",
              "/* Label box, darken color on hover, fitted */\n",
              "#sk-container-id-4 div.sk-label.fitted:hover label.sk-toggleable__label.fitted {\n",
              "  color: var(--sklearn-color-text);\n",
              "  background-color: var(--sklearn-color-fitted-level-2);\n",
              "}\n",
              "\n",
              "/* Estimator label */\n",
              "\n",
              "#sk-container-id-4 div.sk-label label {\n",
              "  font-family: monospace;\n",
              "  font-weight: bold;\n",
              "  display: inline-block;\n",
              "  line-height: 1.2em;\n",
              "}\n",
              "\n",
              "#sk-container-id-4 div.sk-label-container {\n",
              "  text-align: center;\n",
              "}\n",
              "\n",
              "/* Estimator-specific */\n",
              "#sk-container-id-4 div.sk-estimator {\n",
              "  font-family: monospace;\n",
              "  border: 1px dotted var(--sklearn-color-border-box);\n",
              "  border-radius: 0.25em;\n",
              "  box-sizing: border-box;\n",
              "  margin-bottom: 0.5em;\n",
              "  /* unfitted */\n",
              "  background-color: var(--sklearn-color-unfitted-level-0);\n",
              "}\n",
              "\n",
              "#sk-container-id-4 div.sk-estimator.fitted {\n",
              "  /* fitted */\n",
              "  background-color: var(--sklearn-color-fitted-level-0);\n",
              "}\n",
              "\n",
              "/* on hover */\n",
              "#sk-container-id-4 div.sk-estimator:hover {\n",
              "  /* unfitted */\n",
              "  background-color: var(--sklearn-color-unfitted-level-2);\n",
              "}\n",
              "\n",
              "#sk-container-id-4 div.sk-estimator.fitted:hover {\n",
              "  /* fitted */\n",
              "  background-color: var(--sklearn-color-fitted-level-2);\n",
              "}\n",
              "\n",
              "/* Specification for estimator info (e.g. \"i\" and \"?\") */\n",
              "\n",
              "/* Common style for \"i\" and \"?\" */\n",
              "\n",
              ".sk-estimator-doc-link,\n",
              "a:link.sk-estimator-doc-link,\n",
              "a:visited.sk-estimator-doc-link {\n",
              "  float: right;\n",
              "  font-size: smaller;\n",
              "  line-height: 1em;\n",
              "  font-family: monospace;\n",
              "  background-color: var(--sklearn-color-background);\n",
              "  border-radius: 1em;\n",
              "  height: 1em;\n",
              "  width: 1em;\n",
              "  text-decoration: none !important;\n",
              "  margin-left: 0.5em;\n",
              "  text-align: center;\n",
              "  /* unfitted */\n",
              "  border: var(--sklearn-color-unfitted-level-1) 1pt solid;\n",
              "  color: var(--sklearn-color-unfitted-level-1);\n",
              "}\n",
              "\n",
              ".sk-estimator-doc-link.fitted,\n",
              "a:link.sk-estimator-doc-link.fitted,\n",
              "a:visited.sk-estimator-doc-link.fitted {\n",
              "  /* fitted */\n",
              "  border: var(--sklearn-color-fitted-level-1) 1pt solid;\n",
              "  color: var(--sklearn-color-fitted-level-1);\n",
              "}\n",
              "\n",
              "/* On hover */\n",
              "div.sk-estimator:hover .sk-estimator-doc-link:hover,\n",
              ".sk-estimator-doc-link:hover,\n",
              "div.sk-label-container:hover .sk-estimator-doc-link:hover,\n",
              ".sk-estimator-doc-link:hover {\n",
              "  /* unfitted */\n",
              "  background-color: var(--sklearn-color-unfitted-level-3);\n",
              "  color: var(--sklearn-color-background);\n",
              "  text-decoration: none;\n",
              "}\n",
              "\n",
              "div.sk-estimator.fitted:hover .sk-estimator-doc-link.fitted:hover,\n",
              ".sk-estimator-doc-link.fitted:hover,\n",
              "div.sk-label-container:hover .sk-estimator-doc-link.fitted:hover,\n",
              ".sk-estimator-doc-link.fitted:hover {\n",
              "  /* fitted */\n",
              "  background-color: var(--sklearn-color-fitted-level-3);\n",
              "  color: var(--sklearn-color-background);\n",
              "  text-decoration: none;\n",
              "}\n",
              "\n",
              "/* Span, style for the box shown on hovering the info icon */\n",
              ".sk-estimator-doc-link span {\n",
              "  display: none;\n",
              "  z-index: 9999;\n",
              "  position: relative;\n",
              "  font-weight: normal;\n",
              "  right: .2ex;\n",
              "  padding: .5ex;\n",
              "  margin: .5ex;\n",
              "  width: min-content;\n",
              "  min-width: 20ex;\n",
              "  max-width: 50ex;\n",
              "  color: var(--sklearn-color-text);\n",
              "  box-shadow: 2pt 2pt 4pt #999;\n",
              "  /* unfitted */\n",
              "  background: var(--sklearn-color-unfitted-level-0);\n",
              "  border: .5pt solid var(--sklearn-color-unfitted-level-3);\n",
              "}\n",
              "\n",
              ".sk-estimator-doc-link.fitted span {\n",
              "  /* fitted */\n",
              "  background: var(--sklearn-color-fitted-level-0);\n",
              "  border: var(--sklearn-color-fitted-level-3);\n",
              "}\n",
              "\n",
              ".sk-estimator-doc-link:hover span {\n",
              "  display: block;\n",
              "}\n",
              "\n",
              "/* \"?\"-specific style due to the `<a>` HTML tag */\n",
              "\n",
              "#sk-container-id-4 a.estimator_doc_link {\n",
              "  float: right;\n",
              "  font-size: 1rem;\n",
              "  line-height: 1em;\n",
              "  font-family: monospace;\n",
              "  background-color: var(--sklearn-color-background);\n",
              "  border-radius: 1rem;\n",
              "  height: 1rem;\n",
              "  width: 1rem;\n",
              "  text-decoration: none;\n",
              "  /* unfitted */\n",
              "  color: var(--sklearn-color-unfitted-level-1);\n",
              "  border: var(--sklearn-color-unfitted-level-1) 1pt solid;\n",
              "}\n",
              "\n",
              "#sk-container-id-4 a.estimator_doc_link.fitted {\n",
              "  /* fitted */\n",
              "  border: var(--sklearn-color-fitted-level-1) 1pt solid;\n",
              "  color: var(--sklearn-color-fitted-level-1);\n",
              "}\n",
              "\n",
              "/* On hover */\n",
              "#sk-container-id-4 a.estimator_doc_link:hover {\n",
              "  /* unfitted */\n",
              "  background-color: var(--sklearn-color-unfitted-level-3);\n",
              "  color: var(--sklearn-color-background);\n",
              "  text-decoration: none;\n",
              "}\n",
              "\n",
              "#sk-container-id-4 a.estimator_doc_link.fitted:hover {\n",
              "  /* fitted */\n",
              "  background-color: var(--sklearn-color-fitted-level-3);\n",
              "}\n",
              "</style><div id=\"sk-container-id-4\" class=\"sk-top-container\"><div class=\"sk-text-repr-fallback\"><pre>GridSearchCV(cv=2, estimator=SVC(),\n",
              "             param_grid={&#x27;C&#x27;: [0.1, 1, 10, 100], &#x27;class_weight&#x27;: [&#x27;balanced&#x27;],\n",
              "                         &#x27;gamma&#x27;: [1, 0.1, 0.01, 0.001], &#x27;kernel&#x27;: [&#x27;rbf&#x27;]},\n",
              "             verbose=2)</pre><b>In a Jupyter environment, please rerun this cell to show the HTML representation or trust the notebook. <br />On GitHub, the HTML representation is unable to render, please try loading this page with nbviewer.org.</b></div><div class=\"sk-container\" hidden><div class=\"sk-item sk-dashed-wrapped\"><div class=\"sk-label-container\"><div class=\"sk-label fitted sk-toggleable\"><input class=\"sk-toggleable__control sk-hidden--visually\" id=\"sk-estimator-id-6\" type=\"checkbox\" ><label for=\"sk-estimator-id-6\" class=\"sk-toggleable__label fitted sk-toggleable__label-arrow\"><div><div>GridSearchCV</div></div><div><a class=\"sk-estimator-doc-link fitted\" rel=\"noreferrer\" target=\"_blank\" href=\"https://scikit-learn.org/1.6/modules/generated/sklearn.model_selection.GridSearchCV.html\">?<span>Documentation for GridSearchCV</span></a><span class=\"sk-estimator-doc-link fitted\">i<span>Fitted</span></span></div></label><div class=\"sk-toggleable__content fitted\"><pre>GridSearchCV(cv=2, estimator=SVC(),\n",
              "             param_grid={&#x27;C&#x27;: [0.1, 1, 10, 100], &#x27;class_weight&#x27;: [&#x27;balanced&#x27;],\n",
              "                         &#x27;gamma&#x27;: [1, 0.1, 0.01, 0.001], &#x27;kernel&#x27;: [&#x27;rbf&#x27;]},\n",
              "             verbose=2)</pre></div> </div></div><div class=\"sk-parallel\"><div class=\"sk-parallel-item\"><div class=\"sk-item\"><div class=\"sk-label-container\"><div class=\"sk-label fitted sk-toggleable\"><input class=\"sk-toggleable__control sk-hidden--visually\" id=\"sk-estimator-id-7\" type=\"checkbox\" ><label for=\"sk-estimator-id-7\" class=\"sk-toggleable__label fitted sk-toggleable__label-arrow\"><div><div>best_estimator_: SVC</div></div></label><div class=\"sk-toggleable__content fitted\"><pre>SVC(C=100, class_weight=&#x27;balanced&#x27;, gamma=0.01)</pre></div> </div></div><div class=\"sk-serial\"><div class=\"sk-item\"><div class=\"sk-estimator fitted sk-toggleable\"><input class=\"sk-toggleable__control sk-hidden--visually\" id=\"sk-estimator-id-8\" type=\"checkbox\" ><label for=\"sk-estimator-id-8\" class=\"sk-toggleable__label fitted sk-toggleable__label-arrow\"><div><div>SVC</div></div><div><a class=\"sk-estimator-doc-link fitted\" rel=\"noreferrer\" target=\"_blank\" href=\"https://scikit-learn.org/1.6/modules/generated/sklearn.svm.SVC.html\">?<span>Documentation for SVC</span></a></div></label><div class=\"sk-toggleable__content fitted\"><pre>SVC(C=100, class_weight=&#x27;balanced&#x27;, gamma=0.01)</pre></div> </div></div></div></div></div></div></div></div></div>"
            ]
          },
          "metadata": {},
          "execution_count": 67
        }
      ]
    },
    {
      "cell_type": "code",
      "source": [
        "print(grid_rus.best_estimator_)"
      ],
      "metadata": {
        "colab": {
          "base_uri": "https://localhost:8080/"
        },
        "id": "Ezy9h5MaJR54",
        "outputId": "550d50a2-39db-43ca-f50c-f2c43dea8a91"
      },
      "execution_count": 68,
      "outputs": [
        {
          "output_type": "stream",
          "name": "stdout",
          "text": [
            "SVC(C=100, class_weight='balanced', gamma=0.01)\n"
          ]
        }
      ]
    },
    {
      "cell_type": "code",
      "source": [
        "grid_prediction_rus = grid_rus.predict(X_test_rus)"
      ],
      "metadata": {
        "id": "tmkz9P9_JV29"
      },
      "execution_count": 70,
      "outputs": []
    },
    {
      "cell_type": "code",
      "source": [
        "confusion_matrix(y_test_rus, grid_prediction_rus)"
      ],
      "metadata": {
        "colab": {
          "base_uri": "https://localhost:8080/"
        },
        "id": "3sAWolbdJZAh",
        "outputId": "bab549f6-1411-482c-ba8c-97632237e5ed"
      },
      "execution_count": 71,
      "outputs": [
        {
          "output_type": "execute_result",
          "data": {
            "text/plain": [
              "array([[495, 132],\n",
              "       [171, 425]])"
            ]
          },
          "metadata": {},
          "execution_count": 71
        }
      ]
    },
    {
      "cell_type": "code",
      "source": [
        "print(classification_report(y_test_rus, grid_prediction_rus))"
      ],
      "metadata": {
        "colab": {
          "base_uri": "https://localhost:8080/"
        },
        "id": "q_WhIlM-JbdI",
        "outputId": "6241628b-2fb8-4786-a084-2756c713a033"
      },
      "execution_count": 72,
      "outputs": [
        {
          "output_type": "stream",
          "name": "stdout",
          "text": [
            "              precision    recall  f1-score   support\n",
            "\n",
            "           0       0.74      0.79      0.77       627\n",
            "           1       0.76      0.71      0.74       596\n",
            "\n",
            "    accuracy                           0.75      1223\n",
            "   macro avg       0.75      0.75      0.75      1223\n",
            "weighted avg       0.75      0.75      0.75      1223\n",
            "\n"
          ]
        }
      ]
    },
    {
      "cell_type": "markdown",
      "source": [
        "**Model with Random OverSampling**"
      ],
      "metadata": {
        "id": "ka8c5YfHJeNO"
      }
    },
    {
      "cell_type": "code",
      "source": [
        "svc_ros = SVC()"
      ],
      "metadata": {
        "id": "HFu6GAnqJhIX"
      },
      "execution_count": 73,
      "outputs": []
    },
    {
      "cell_type": "code",
      "source": [
        "svc_ros.fit(X_train_ros, y_train_ros)"
      ],
      "metadata": {
        "colab": {
          "base_uri": "https://localhost:8080/",
          "height": 80
        },
        "id": "sJy6J6I-JlHx",
        "outputId": "183a1805-06ac-4e95-8edb-aa4c6df9e73d"
      },
      "execution_count": 74,
      "outputs": [
        {
          "output_type": "execute_result",
          "data": {
            "text/plain": [
              "SVC()"
            ],
            "text/html": [
              "<style>#sk-container-id-5 {\n",
              "  /* Definition of color scheme common for light and dark mode */\n",
              "  --sklearn-color-text: #000;\n",
              "  --sklearn-color-text-muted: #666;\n",
              "  --sklearn-color-line: gray;\n",
              "  /* Definition of color scheme for unfitted estimators */\n",
              "  --sklearn-color-unfitted-level-0: #fff5e6;\n",
              "  --sklearn-color-unfitted-level-1: #f6e4d2;\n",
              "  --sklearn-color-unfitted-level-2: #ffe0b3;\n",
              "  --sklearn-color-unfitted-level-3: chocolate;\n",
              "  /* Definition of color scheme for fitted estimators */\n",
              "  --sklearn-color-fitted-level-0: #f0f8ff;\n",
              "  --sklearn-color-fitted-level-1: #d4ebff;\n",
              "  --sklearn-color-fitted-level-2: #b3dbfd;\n",
              "  --sklearn-color-fitted-level-3: cornflowerblue;\n",
              "\n",
              "  /* Specific color for light theme */\n",
              "  --sklearn-color-text-on-default-background: var(--sg-text-color, var(--theme-code-foreground, var(--jp-content-font-color1, black)));\n",
              "  --sklearn-color-background: var(--sg-background-color, var(--theme-background, var(--jp-layout-color0, white)));\n",
              "  --sklearn-color-border-box: var(--sg-text-color, var(--theme-code-foreground, var(--jp-content-font-color1, black)));\n",
              "  --sklearn-color-icon: #696969;\n",
              "\n",
              "  @media (prefers-color-scheme: dark) {\n",
              "    /* Redefinition of color scheme for dark theme */\n",
              "    --sklearn-color-text-on-default-background: var(--sg-text-color, var(--theme-code-foreground, var(--jp-content-font-color1, white)));\n",
              "    --sklearn-color-background: var(--sg-background-color, var(--theme-background, var(--jp-layout-color0, #111)));\n",
              "    --sklearn-color-border-box: var(--sg-text-color, var(--theme-code-foreground, var(--jp-content-font-color1, white)));\n",
              "    --sklearn-color-icon: #878787;\n",
              "  }\n",
              "}\n",
              "\n",
              "#sk-container-id-5 {\n",
              "  color: var(--sklearn-color-text);\n",
              "}\n",
              "\n",
              "#sk-container-id-5 pre {\n",
              "  padding: 0;\n",
              "}\n",
              "\n",
              "#sk-container-id-5 input.sk-hidden--visually {\n",
              "  border: 0;\n",
              "  clip: rect(1px 1px 1px 1px);\n",
              "  clip: rect(1px, 1px, 1px, 1px);\n",
              "  height: 1px;\n",
              "  margin: -1px;\n",
              "  overflow: hidden;\n",
              "  padding: 0;\n",
              "  position: absolute;\n",
              "  width: 1px;\n",
              "}\n",
              "\n",
              "#sk-container-id-5 div.sk-dashed-wrapped {\n",
              "  border: 1px dashed var(--sklearn-color-line);\n",
              "  margin: 0 0.4em 0.5em 0.4em;\n",
              "  box-sizing: border-box;\n",
              "  padding-bottom: 0.4em;\n",
              "  background-color: var(--sklearn-color-background);\n",
              "}\n",
              "\n",
              "#sk-container-id-5 div.sk-container {\n",
              "  /* jupyter's `normalize.less` sets `[hidden] { display: none; }`\n",
              "     but bootstrap.min.css set `[hidden] { display: none !important; }`\n",
              "     so we also need the `!important` here to be able to override the\n",
              "     default hidden behavior on the sphinx rendered scikit-learn.org.\n",
              "     See: https://github.com/scikit-learn/scikit-learn/issues/21755 */\n",
              "  display: inline-block !important;\n",
              "  position: relative;\n",
              "}\n",
              "\n",
              "#sk-container-id-5 div.sk-text-repr-fallback {\n",
              "  display: none;\n",
              "}\n",
              "\n",
              "div.sk-parallel-item,\n",
              "div.sk-serial,\n",
              "div.sk-item {\n",
              "  /* draw centered vertical line to link estimators */\n",
              "  background-image: linear-gradient(var(--sklearn-color-text-on-default-background), var(--sklearn-color-text-on-default-background));\n",
              "  background-size: 2px 100%;\n",
              "  background-repeat: no-repeat;\n",
              "  background-position: center center;\n",
              "}\n",
              "\n",
              "/* Parallel-specific style estimator block */\n",
              "\n",
              "#sk-container-id-5 div.sk-parallel-item::after {\n",
              "  content: \"\";\n",
              "  width: 100%;\n",
              "  border-bottom: 2px solid var(--sklearn-color-text-on-default-background);\n",
              "  flex-grow: 1;\n",
              "}\n",
              "\n",
              "#sk-container-id-5 div.sk-parallel {\n",
              "  display: flex;\n",
              "  align-items: stretch;\n",
              "  justify-content: center;\n",
              "  background-color: var(--sklearn-color-background);\n",
              "  position: relative;\n",
              "}\n",
              "\n",
              "#sk-container-id-5 div.sk-parallel-item {\n",
              "  display: flex;\n",
              "  flex-direction: column;\n",
              "}\n",
              "\n",
              "#sk-container-id-5 div.sk-parallel-item:first-child::after {\n",
              "  align-self: flex-end;\n",
              "  width: 50%;\n",
              "}\n",
              "\n",
              "#sk-container-id-5 div.sk-parallel-item:last-child::after {\n",
              "  align-self: flex-start;\n",
              "  width: 50%;\n",
              "}\n",
              "\n",
              "#sk-container-id-5 div.sk-parallel-item:only-child::after {\n",
              "  width: 0;\n",
              "}\n",
              "\n",
              "/* Serial-specific style estimator block */\n",
              "\n",
              "#sk-container-id-5 div.sk-serial {\n",
              "  display: flex;\n",
              "  flex-direction: column;\n",
              "  align-items: center;\n",
              "  background-color: var(--sklearn-color-background);\n",
              "  padding-right: 1em;\n",
              "  padding-left: 1em;\n",
              "}\n",
              "\n",
              "\n",
              "/* Toggleable style: style used for estimator/Pipeline/ColumnTransformer box that is\n",
              "clickable and can be expanded/collapsed.\n",
              "- Pipeline and ColumnTransformer use this feature and define the default style\n",
              "- Estimators will overwrite some part of the style using the `sk-estimator` class\n",
              "*/\n",
              "\n",
              "/* Pipeline and ColumnTransformer style (default) */\n",
              "\n",
              "#sk-container-id-5 div.sk-toggleable {\n",
              "  /* Default theme specific background. It is overwritten whether we have a\n",
              "  specific estimator or a Pipeline/ColumnTransformer */\n",
              "  background-color: var(--sklearn-color-background);\n",
              "}\n",
              "\n",
              "/* Toggleable label */\n",
              "#sk-container-id-5 label.sk-toggleable__label {\n",
              "  cursor: pointer;\n",
              "  display: flex;\n",
              "  width: 100%;\n",
              "  margin-bottom: 0;\n",
              "  padding: 0.5em;\n",
              "  box-sizing: border-box;\n",
              "  text-align: center;\n",
              "  align-items: start;\n",
              "  justify-content: space-between;\n",
              "  gap: 0.5em;\n",
              "}\n",
              "\n",
              "#sk-container-id-5 label.sk-toggleable__label .caption {\n",
              "  font-size: 0.6rem;\n",
              "  font-weight: lighter;\n",
              "  color: var(--sklearn-color-text-muted);\n",
              "}\n",
              "\n",
              "#sk-container-id-5 label.sk-toggleable__label-arrow:before {\n",
              "  /* Arrow on the left of the label */\n",
              "  content: \"▸\";\n",
              "  float: left;\n",
              "  margin-right: 0.25em;\n",
              "  color: var(--sklearn-color-icon);\n",
              "}\n",
              "\n",
              "#sk-container-id-5 label.sk-toggleable__label-arrow:hover:before {\n",
              "  color: var(--sklearn-color-text);\n",
              "}\n",
              "\n",
              "/* Toggleable content - dropdown */\n",
              "\n",
              "#sk-container-id-5 div.sk-toggleable__content {\n",
              "  max-height: 0;\n",
              "  max-width: 0;\n",
              "  overflow: hidden;\n",
              "  text-align: left;\n",
              "  /* unfitted */\n",
              "  background-color: var(--sklearn-color-unfitted-level-0);\n",
              "}\n",
              "\n",
              "#sk-container-id-5 div.sk-toggleable__content.fitted {\n",
              "  /* fitted */\n",
              "  background-color: var(--sklearn-color-fitted-level-0);\n",
              "}\n",
              "\n",
              "#sk-container-id-5 div.sk-toggleable__content pre {\n",
              "  margin: 0.2em;\n",
              "  border-radius: 0.25em;\n",
              "  color: var(--sklearn-color-text);\n",
              "  /* unfitted */\n",
              "  background-color: var(--sklearn-color-unfitted-level-0);\n",
              "}\n",
              "\n",
              "#sk-container-id-5 div.sk-toggleable__content.fitted pre {\n",
              "  /* unfitted */\n",
              "  background-color: var(--sklearn-color-fitted-level-0);\n",
              "}\n",
              "\n",
              "#sk-container-id-5 input.sk-toggleable__control:checked~div.sk-toggleable__content {\n",
              "  /* Expand drop-down */\n",
              "  max-height: 200px;\n",
              "  max-width: 100%;\n",
              "  overflow: auto;\n",
              "}\n",
              "\n",
              "#sk-container-id-5 input.sk-toggleable__control:checked~label.sk-toggleable__label-arrow:before {\n",
              "  content: \"▾\";\n",
              "}\n",
              "\n",
              "/* Pipeline/ColumnTransformer-specific style */\n",
              "\n",
              "#sk-container-id-5 div.sk-label input.sk-toggleable__control:checked~label.sk-toggleable__label {\n",
              "  color: var(--sklearn-color-text);\n",
              "  background-color: var(--sklearn-color-unfitted-level-2);\n",
              "}\n",
              "\n",
              "#sk-container-id-5 div.sk-label.fitted input.sk-toggleable__control:checked~label.sk-toggleable__label {\n",
              "  background-color: var(--sklearn-color-fitted-level-2);\n",
              "}\n",
              "\n",
              "/* Estimator-specific style */\n",
              "\n",
              "/* Colorize estimator box */\n",
              "#sk-container-id-5 div.sk-estimator input.sk-toggleable__control:checked~label.sk-toggleable__label {\n",
              "  /* unfitted */\n",
              "  background-color: var(--sklearn-color-unfitted-level-2);\n",
              "}\n",
              "\n",
              "#sk-container-id-5 div.sk-estimator.fitted input.sk-toggleable__control:checked~label.sk-toggleable__label {\n",
              "  /* fitted */\n",
              "  background-color: var(--sklearn-color-fitted-level-2);\n",
              "}\n",
              "\n",
              "#sk-container-id-5 div.sk-label label.sk-toggleable__label,\n",
              "#sk-container-id-5 div.sk-label label {\n",
              "  /* The background is the default theme color */\n",
              "  color: var(--sklearn-color-text-on-default-background);\n",
              "}\n",
              "\n",
              "/* On hover, darken the color of the background */\n",
              "#sk-container-id-5 div.sk-label:hover label.sk-toggleable__label {\n",
              "  color: var(--sklearn-color-text);\n",
              "  background-color: var(--sklearn-color-unfitted-level-2);\n",
              "}\n",
              "\n",
              "/* Label box, darken color on hover, fitted */\n",
              "#sk-container-id-5 div.sk-label.fitted:hover label.sk-toggleable__label.fitted {\n",
              "  color: var(--sklearn-color-text);\n",
              "  background-color: var(--sklearn-color-fitted-level-2);\n",
              "}\n",
              "\n",
              "/* Estimator label */\n",
              "\n",
              "#sk-container-id-5 div.sk-label label {\n",
              "  font-family: monospace;\n",
              "  font-weight: bold;\n",
              "  display: inline-block;\n",
              "  line-height: 1.2em;\n",
              "}\n",
              "\n",
              "#sk-container-id-5 div.sk-label-container {\n",
              "  text-align: center;\n",
              "}\n",
              "\n",
              "/* Estimator-specific */\n",
              "#sk-container-id-5 div.sk-estimator {\n",
              "  font-family: monospace;\n",
              "  border: 1px dotted var(--sklearn-color-border-box);\n",
              "  border-radius: 0.25em;\n",
              "  box-sizing: border-box;\n",
              "  margin-bottom: 0.5em;\n",
              "  /* unfitted */\n",
              "  background-color: var(--sklearn-color-unfitted-level-0);\n",
              "}\n",
              "\n",
              "#sk-container-id-5 div.sk-estimator.fitted {\n",
              "  /* fitted */\n",
              "  background-color: var(--sklearn-color-fitted-level-0);\n",
              "}\n",
              "\n",
              "/* on hover */\n",
              "#sk-container-id-5 div.sk-estimator:hover {\n",
              "  /* unfitted */\n",
              "  background-color: var(--sklearn-color-unfitted-level-2);\n",
              "}\n",
              "\n",
              "#sk-container-id-5 div.sk-estimator.fitted:hover {\n",
              "  /* fitted */\n",
              "  background-color: var(--sklearn-color-fitted-level-2);\n",
              "}\n",
              "\n",
              "/* Specification for estimator info (e.g. \"i\" and \"?\") */\n",
              "\n",
              "/* Common style for \"i\" and \"?\" */\n",
              "\n",
              ".sk-estimator-doc-link,\n",
              "a:link.sk-estimator-doc-link,\n",
              "a:visited.sk-estimator-doc-link {\n",
              "  float: right;\n",
              "  font-size: smaller;\n",
              "  line-height: 1em;\n",
              "  font-family: monospace;\n",
              "  background-color: var(--sklearn-color-background);\n",
              "  border-radius: 1em;\n",
              "  height: 1em;\n",
              "  width: 1em;\n",
              "  text-decoration: none !important;\n",
              "  margin-left: 0.5em;\n",
              "  text-align: center;\n",
              "  /* unfitted */\n",
              "  border: var(--sklearn-color-unfitted-level-1) 1pt solid;\n",
              "  color: var(--sklearn-color-unfitted-level-1);\n",
              "}\n",
              "\n",
              ".sk-estimator-doc-link.fitted,\n",
              "a:link.sk-estimator-doc-link.fitted,\n",
              "a:visited.sk-estimator-doc-link.fitted {\n",
              "  /* fitted */\n",
              "  border: var(--sklearn-color-fitted-level-1) 1pt solid;\n",
              "  color: var(--sklearn-color-fitted-level-1);\n",
              "}\n",
              "\n",
              "/* On hover */\n",
              "div.sk-estimator:hover .sk-estimator-doc-link:hover,\n",
              ".sk-estimator-doc-link:hover,\n",
              "div.sk-label-container:hover .sk-estimator-doc-link:hover,\n",
              ".sk-estimator-doc-link:hover {\n",
              "  /* unfitted */\n",
              "  background-color: var(--sklearn-color-unfitted-level-3);\n",
              "  color: var(--sklearn-color-background);\n",
              "  text-decoration: none;\n",
              "}\n",
              "\n",
              "div.sk-estimator.fitted:hover .sk-estimator-doc-link.fitted:hover,\n",
              ".sk-estimator-doc-link.fitted:hover,\n",
              "div.sk-label-container:hover .sk-estimator-doc-link.fitted:hover,\n",
              ".sk-estimator-doc-link.fitted:hover {\n",
              "  /* fitted */\n",
              "  background-color: var(--sklearn-color-fitted-level-3);\n",
              "  color: var(--sklearn-color-background);\n",
              "  text-decoration: none;\n",
              "}\n",
              "\n",
              "/* Span, style for the box shown on hovering the info icon */\n",
              ".sk-estimator-doc-link span {\n",
              "  display: none;\n",
              "  z-index: 9999;\n",
              "  position: relative;\n",
              "  font-weight: normal;\n",
              "  right: .2ex;\n",
              "  padding: .5ex;\n",
              "  margin: .5ex;\n",
              "  width: min-content;\n",
              "  min-width: 20ex;\n",
              "  max-width: 50ex;\n",
              "  color: var(--sklearn-color-text);\n",
              "  box-shadow: 2pt 2pt 4pt #999;\n",
              "  /* unfitted */\n",
              "  background: var(--sklearn-color-unfitted-level-0);\n",
              "  border: .5pt solid var(--sklearn-color-unfitted-level-3);\n",
              "}\n",
              "\n",
              ".sk-estimator-doc-link.fitted span {\n",
              "  /* fitted */\n",
              "  background: var(--sklearn-color-fitted-level-0);\n",
              "  border: var(--sklearn-color-fitted-level-3);\n",
              "}\n",
              "\n",
              ".sk-estimator-doc-link:hover span {\n",
              "  display: block;\n",
              "}\n",
              "\n",
              "/* \"?\"-specific style due to the `<a>` HTML tag */\n",
              "\n",
              "#sk-container-id-5 a.estimator_doc_link {\n",
              "  float: right;\n",
              "  font-size: 1rem;\n",
              "  line-height: 1em;\n",
              "  font-family: monospace;\n",
              "  background-color: var(--sklearn-color-background);\n",
              "  border-radius: 1rem;\n",
              "  height: 1rem;\n",
              "  width: 1rem;\n",
              "  text-decoration: none;\n",
              "  /* unfitted */\n",
              "  color: var(--sklearn-color-unfitted-level-1);\n",
              "  border: var(--sklearn-color-unfitted-level-1) 1pt solid;\n",
              "}\n",
              "\n",
              "#sk-container-id-5 a.estimator_doc_link.fitted {\n",
              "  /* fitted */\n",
              "  border: var(--sklearn-color-fitted-level-1) 1pt solid;\n",
              "  color: var(--sklearn-color-fitted-level-1);\n",
              "}\n",
              "\n",
              "/* On hover */\n",
              "#sk-container-id-5 a.estimator_doc_link:hover {\n",
              "  /* unfitted */\n",
              "  background-color: var(--sklearn-color-unfitted-level-3);\n",
              "  color: var(--sklearn-color-background);\n",
              "  text-decoration: none;\n",
              "}\n",
              "\n",
              "#sk-container-id-5 a.estimator_doc_link.fitted:hover {\n",
              "  /* fitted */\n",
              "  background-color: var(--sklearn-color-fitted-level-3);\n",
              "}\n",
              "</style><div id=\"sk-container-id-5\" class=\"sk-top-container\"><div class=\"sk-text-repr-fallback\"><pre>SVC()</pre><b>In a Jupyter environment, please rerun this cell to show the HTML representation or trust the notebook. <br />On GitHub, the HTML representation is unable to render, please try loading this page with nbviewer.org.</b></div><div class=\"sk-container\" hidden><div class=\"sk-item\"><div class=\"sk-estimator fitted sk-toggleable\"><input class=\"sk-toggleable__control sk-hidden--visually\" id=\"sk-estimator-id-9\" type=\"checkbox\" checked><label for=\"sk-estimator-id-9\" class=\"sk-toggleable__label fitted sk-toggleable__label-arrow\"><div><div>SVC</div></div><div><a class=\"sk-estimator-doc-link fitted\" rel=\"noreferrer\" target=\"_blank\" href=\"https://scikit-learn.org/1.6/modules/generated/sklearn.svm.SVC.html\">?<span>Documentation for SVC</span></a><span class=\"sk-estimator-doc-link fitted\">i<span>Fitted</span></span></div></label><div class=\"sk-toggleable__content fitted\"><pre>SVC()</pre></div> </div></div></div></div>"
            ]
          },
          "metadata": {},
          "execution_count": 74
        }
      ]
    },
    {
      "cell_type": "code",
      "source": [
        "y_pred_svc_ros = svc_ros.predict(X_test_ros)"
      ],
      "metadata": {
        "id": "ZCaJHy_4Joiw"
      },
      "execution_count": 75,
      "outputs": []
    },
    {
      "cell_type": "markdown",
      "source": [
        "**Model Accuracy**"
      ],
      "metadata": {
        "id": "-kEDrTvAJrlQ"
      }
    },
    {
      "cell_type": "code",
      "source": [
        "confusion_matrix(y_test_ros, y_pred_svc_ros)"
      ],
      "metadata": {
        "colab": {
          "base_uri": "https://localhost:8080/"
        },
        "id": "0r7C6ygwJuFu",
        "outputId": "be1a9b83-0830-4df5-dd96-d018030ea750"
      },
      "execution_count": 76,
      "outputs": [
        {
          "output_type": "execute_result",
          "data": {
            "text/plain": [
              "array([[492, 135],\n",
              "       [180, 416]])"
            ]
          },
          "metadata": {},
          "execution_count": 76
        }
      ]
    },
    {
      "cell_type": "code",
      "source": [
        "print(classification_report(y_test_ros, y_pred_svc_ros))"
      ],
      "metadata": {
        "colab": {
          "base_uri": "https://localhost:8080/"
        },
        "id": "j_fbSSvQJwyl",
        "outputId": "976ed629-bb82-41c9-c95a-b4f05a68efbd"
      },
      "execution_count": 77,
      "outputs": [
        {
          "output_type": "stream",
          "name": "stdout",
          "text": [
            "              precision    recall  f1-score   support\n",
            "\n",
            "           0       0.73      0.78      0.76       627\n",
            "           1       0.75      0.70      0.73       596\n",
            "\n",
            "    accuracy                           0.74      1223\n",
            "   macro avg       0.74      0.74      0.74      1223\n",
            "weighted avg       0.74      0.74      0.74      1223\n",
            "\n"
          ]
        }
      ]
    },
    {
      "cell_type": "markdown",
      "source": [
        "**HyperPrameter Tuning**"
      ],
      "metadata": {
        "id": "H7pdJFYXJz8V"
      }
    },
    {
      "cell_type": "code",
      "source": [
        "param_grid = {'C': [0.1, 1, 10, 100], 'gamma': [1, 0.1, 0.01, 0.001], 'kernel': ['rbf'], 'class_weight': ['balanced']}"
      ],
      "metadata": {
        "id": "q0S3Q7WBJ29B"
      },
      "execution_count": 78,
      "outputs": []
    },
    {
      "cell_type": "code",
      "source": [
        "grid_ros = GridSearchCV(SVC(), param_grid, refit=True, verbose=2, cv = 2)\n",
        "grid_ros.fit(X_train_ros, y_train_ros)"
      ],
      "metadata": {
        "colab": {
          "base_uri": "https://localhost:8080/",
          "height": 738
        },
        "id": "owF1tyOiJ5cK",
        "outputId": "863babd8-cb56-4c7f-b929-e384ef97a233"
      },
      "execution_count": 79,
      "outputs": [
        {
          "output_type": "stream",
          "name": "stdout",
          "text": [
            "Fitting 2 folds for each of 16 candidates, totalling 32 fits\n",
            "[CV] END ..C=0.1, class_weight=balanced, gamma=1, kernel=rbf; total time=   0.2s\n",
            "[CV] END ..C=0.1, class_weight=balanced, gamma=1, kernel=rbf; total time=   0.2s\n",
            "[CV] END C=0.1, class_weight=balanced, gamma=0.1, kernel=rbf; total time=   0.2s\n",
            "[CV] END C=0.1, class_weight=balanced, gamma=0.1, kernel=rbf; total time=   0.2s\n",
            "[CV] END C=0.1, class_weight=balanced, gamma=0.01, kernel=rbf; total time=   0.2s\n",
            "[CV] END C=0.1, class_weight=balanced, gamma=0.01, kernel=rbf; total time=   0.2s\n",
            "[CV] END C=0.1, class_weight=balanced, gamma=0.001, kernel=rbf; total time=   0.2s\n",
            "[CV] END C=0.1, class_weight=balanced, gamma=0.001, kernel=rbf; total time=   0.2s\n",
            "[CV] END ....C=1, class_weight=balanced, gamma=1, kernel=rbf; total time=   0.2s\n",
            "[CV] END ....C=1, class_weight=balanced, gamma=1, kernel=rbf; total time=   0.2s\n",
            "[CV] END ..C=1, class_weight=balanced, gamma=0.1, kernel=rbf; total time=   0.1s\n",
            "[CV] END ..C=1, class_weight=balanced, gamma=0.1, kernel=rbf; total time=   0.2s\n",
            "[CV] END .C=1, class_weight=balanced, gamma=0.01, kernel=rbf; total time=   0.2s\n",
            "[CV] END .C=1, class_weight=balanced, gamma=0.01, kernel=rbf; total time=   0.2s\n",
            "[CV] END C=1, class_weight=balanced, gamma=0.001, kernel=rbf; total time=   0.2s\n",
            "[CV] END C=1, class_weight=balanced, gamma=0.001, kernel=rbf; total time=   0.2s\n",
            "[CV] END ...C=10, class_weight=balanced, gamma=1, kernel=rbf; total time=   0.2s\n",
            "[CV] END ...C=10, class_weight=balanced, gamma=1, kernel=rbf; total time=   0.2s\n",
            "[CV] END .C=10, class_weight=balanced, gamma=0.1, kernel=rbf; total time=   0.1s\n",
            "[CV] END .C=10, class_weight=balanced, gamma=0.1, kernel=rbf; total time=   0.2s\n",
            "[CV] END C=10, class_weight=balanced, gamma=0.01, kernel=rbf; total time=   0.2s\n",
            "[CV] END C=10, class_weight=balanced, gamma=0.01, kernel=rbf; total time=   0.2s\n",
            "[CV] END C=10, class_weight=balanced, gamma=0.001, kernel=rbf; total time=   0.3s\n",
            "[CV] END C=10, class_weight=balanced, gamma=0.001, kernel=rbf; total time=   0.9s\n",
            "[CV] END ..C=100, class_weight=balanced, gamma=1, kernel=rbf; total time=   1.3s\n",
            "[CV] END ..C=100, class_weight=balanced, gamma=1, kernel=rbf; total time=   0.7s\n",
            "[CV] END C=100, class_weight=balanced, gamma=0.1, kernel=rbf; total time=   1.7s\n",
            "[CV] END C=100, class_weight=balanced, gamma=0.1, kernel=rbf; total time=   1.1s\n",
            "[CV] END C=100, class_weight=balanced, gamma=0.01, kernel=rbf; total time=   0.3s\n",
            "[CV] END C=100, class_weight=balanced, gamma=0.01, kernel=rbf; total time=   0.7s\n",
            "[CV] END C=100, class_weight=balanced, gamma=0.001, kernel=rbf; total time=   0.4s\n",
            "[CV] END C=100, class_weight=balanced, gamma=0.001, kernel=rbf; total time=   0.3s\n"
          ]
        },
        {
          "output_type": "execute_result",
          "data": {
            "text/plain": [
              "GridSearchCV(cv=2, estimator=SVC(),\n",
              "             param_grid={'C': [0.1, 1, 10, 100], 'class_weight': ['balanced'],\n",
              "                         'gamma': [1, 0.1, 0.01, 0.001], 'kernel': ['rbf']},\n",
              "             verbose=2)"
            ],
            "text/html": [
              "<style>#sk-container-id-6 {\n",
              "  /* Definition of color scheme common for light and dark mode */\n",
              "  --sklearn-color-text: #000;\n",
              "  --sklearn-color-text-muted: #666;\n",
              "  --sklearn-color-line: gray;\n",
              "  /* Definition of color scheme for unfitted estimators */\n",
              "  --sklearn-color-unfitted-level-0: #fff5e6;\n",
              "  --sklearn-color-unfitted-level-1: #f6e4d2;\n",
              "  --sklearn-color-unfitted-level-2: #ffe0b3;\n",
              "  --sklearn-color-unfitted-level-3: chocolate;\n",
              "  /* Definition of color scheme for fitted estimators */\n",
              "  --sklearn-color-fitted-level-0: #f0f8ff;\n",
              "  --sklearn-color-fitted-level-1: #d4ebff;\n",
              "  --sklearn-color-fitted-level-2: #b3dbfd;\n",
              "  --sklearn-color-fitted-level-3: cornflowerblue;\n",
              "\n",
              "  /* Specific color for light theme */\n",
              "  --sklearn-color-text-on-default-background: var(--sg-text-color, var(--theme-code-foreground, var(--jp-content-font-color1, black)));\n",
              "  --sklearn-color-background: var(--sg-background-color, var(--theme-background, var(--jp-layout-color0, white)));\n",
              "  --sklearn-color-border-box: var(--sg-text-color, var(--theme-code-foreground, var(--jp-content-font-color1, black)));\n",
              "  --sklearn-color-icon: #696969;\n",
              "\n",
              "  @media (prefers-color-scheme: dark) {\n",
              "    /* Redefinition of color scheme for dark theme */\n",
              "    --sklearn-color-text-on-default-background: var(--sg-text-color, var(--theme-code-foreground, var(--jp-content-font-color1, white)));\n",
              "    --sklearn-color-background: var(--sg-background-color, var(--theme-background, var(--jp-layout-color0, #111)));\n",
              "    --sklearn-color-border-box: var(--sg-text-color, var(--theme-code-foreground, var(--jp-content-font-color1, white)));\n",
              "    --sklearn-color-icon: #878787;\n",
              "  }\n",
              "}\n",
              "\n",
              "#sk-container-id-6 {\n",
              "  color: var(--sklearn-color-text);\n",
              "}\n",
              "\n",
              "#sk-container-id-6 pre {\n",
              "  padding: 0;\n",
              "}\n",
              "\n",
              "#sk-container-id-6 input.sk-hidden--visually {\n",
              "  border: 0;\n",
              "  clip: rect(1px 1px 1px 1px);\n",
              "  clip: rect(1px, 1px, 1px, 1px);\n",
              "  height: 1px;\n",
              "  margin: -1px;\n",
              "  overflow: hidden;\n",
              "  padding: 0;\n",
              "  position: absolute;\n",
              "  width: 1px;\n",
              "}\n",
              "\n",
              "#sk-container-id-6 div.sk-dashed-wrapped {\n",
              "  border: 1px dashed var(--sklearn-color-line);\n",
              "  margin: 0 0.4em 0.5em 0.4em;\n",
              "  box-sizing: border-box;\n",
              "  padding-bottom: 0.4em;\n",
              "  background-color: var(--sklearn-color-background);\n",
              "}\n",
              "\n",
              "#sk-container-id-6 div.sk-container {\n",
              "  /* jupyter's `normalize.less` sets `[hidden] { display: none; }`\n",
              "     but bootstrap.min.css set `[hidden] { display: none !important; }`\n",
              "     so we also need the `!important` here to be able to override the\n",
              "     default hidden behavior on the sphinx rendered scikit-learn.org.\n",
              "     See: https://github.com/scikit-learn/scikit-learn/issues/21755 */\n",
              "  display: inline-block !important;\n",
              "  position: relative;\n",
              "}\n",
              "\n",
              "#sk-container-id-6 div.sk-text-repr-fallback {\n",
              "  display: none;\n",
              "}\n",
              "\n",
              "div.sk-parallel-item,\n",
              "div.sk-serial,\n",
              "div.sk-item {\n",
              "  /* draw centered vertical line to link estimators */\n",
              "  background-image: linear-gradient(var(--sklearn-color-text-on-default-background), var(--sklearn-color-text-on-default-background));\n",
              "  background-size: 2px 100%;\n",
              "  background-repeat: no-repeat;\n",
              "  background-position: center center;\n",
              "}\n",
              "\n",
              "/* Parallel-specific style estimator block */\n",
              "\n",
              "#sk-container-id-6 div.sk-parallel-item::after {\n",
              "  content: \"\";\n",
              "  width: 100%;\n",
              "  border-bottom: 2px solid var(--sklearn-color-text-on-default-background);\n",
              "  flex-grow: 1;\n",
              "}\n",
              "\n",
              "#sk-container-id-6 div.sk-parallel {\n",
              "  display: flex;\n",
              "  align-items: stretch;\n",
              "  justify-content: center;\n",
              "  background-color: var(--sklearn-color-background);\n",
              "  position: relative;\n",
              "}\n",
              "\n",
              "#sk-container-id-6 div.sk-parallel-item {\n",
              "  display: flex;\n",
              "  flex-direction: column;\n",
              "}\n",
              "\n",
              "#sk-container-id-6 div.sk-parallel-item:first-child::after {\n",
              "  align-self: flex-end;\n",
              "  width: 50%;\n",
              "}\n",
              "\n",
              "#sk-container-id-6 div.sk-parallel-item:last-child::after {\n",
              "  align-self: flex-start;\n",
              "  width: 50%;\n",
              "}\n",
              "\n",
              "#sk-container-id-6 div.sk-parallel-item:only-child::after {\n",
              "  width: 0;\n",
              "}\n",
              "\n",
              "/* Serial-specific style estimator block */\n",
              "\n",
              "#sk-container-id-6 div.sk-serial {\n",
              "  display: flex;\n",
              "  flex-direction: column;\n",
              "  align-items: center;\n",
              "  background-color: var(--sklearn-color-background);\n",
              "  padding-right: 1em;\n",
              "  padding-left: 1em;\n",
              "}\n",
              "\n",
              "\n",
              "/* Toggleable style: style used for estimator/Pipeline/ColumnTransformer box that is\n",
              "clickable and can be expanded/collapsed.\n",
              "- Pipeline and ColumnTransformer use this feature and define the default style\n",
              "- Estimators will overwrite some part of the style using the `sk-estimator` class\n",
              "*/\n",
              "\n",
              "/* Pipeline and ColumnTransformer style (default) */\n",
              "\n",
              "#sk-container-id-6 div.sk-toggleable {\n",
              "  /* Default theme specific background. It is overwritten whether we have a\n",
              "  specific estimator or a Pipeline/ColumnTransformer */\n",
              "  background-color: var(--sklearn-color-background);\n",
              "}\n",
              "\n",
              "/* Toggleable label */\n",
              "#sk-container-id-6 label.sk-toggleable__label {\n",
              "  cursor: pointer;\n",
              "  display: flex;\n",
              "  width: 100%;\n",
              "  margin-bottom: 0;\n",
              "  padding: 0.5em;\n",
              "  box-sizing: border-box;\n",
              "  text-align: center;\n",
              "  align-items: start;\n",
              "  justify-content: space-between;\n",
              "  gap: 0.5em;\n",
              "}\n",
              "\n",
              "#sk-container-id-6 label.sk-toggleable__label .caption {\n",
              "  font-size: 0.6rem;\n",
              "  font-weight: lighter;\n",
              "  color: var(--sklearn-color-text-muted);\n",
              "}\n",
              "\n",
              "#sk-container-id-6 label.sk-toggleable__label-arrow:before {\n",
              "  /* Arrow on the left of the label */\n",
              "  content: \"▸\";\n",
              "  float: left;\n",
              "  margin-right: 0.25em;\n",
              "  color: var(--sklearn-color-icon);\n",
              "}\n",
              "\n",
              "#sk-container-id-6 label.sk-toggleable__label-arrow:hover:before {\n",
              "  color: var(--sklearn-color-text);\n",
              "}\n",
              "\n",
              "/* Toggleable content - dropdown */\n",
              "\n",
              "#sk-container-id-6 div.sk-toggleable__content {\n",
              "  max-height: 0;\n",
              "  max-width: 0;\n",
              "  overflow: hidden;\n",
              "  text-align: left;\n",
              "  /* unfitted */\n",
              "  background-color: var(--sklearn-color-unfitted-level-0);\n",
              "}\n",
              "\n",
              "#sk-container-id-6 div.sk-toggleable__content.fitted {\n",
              "  /* fitted */\n",
              "  background-color: var(--sklearn-color-fitted-level-0);\n",
              "}\n",
              "\n",
              "#sk-container-id-6 div.sk-toggleable__content pre {\n",
              "  margin: 0.2em;\n",
              "  border-radius: 0.25em;\n",
              "  color: var(--sklearn-color-text);\n",
              "  /* unfitted */\n",
              "  background-color: var(--sklearn-color-unfitted-level-0);\n",
              "}\n",
              "\n",
              "#sk-container-id-6 div.sk-toggleable__content.fitted pre {\n",
              "  /* unfitted */\n",
              "  background-color: var(--sklearn-color-fitted-level-0);\n",
              "}\n",
              "\n",
              "#sk-container-id-6 input.sk-toggleable__control:checked~div.sk-toggleable__content {\n",
              "  /* Expand drop-down */\n",
              "  max-height: 200px;\n",
              "  max-width: 100%;\n",
              "  overflow: auto;\n",
              "}\n",
              "\n",
              "#sk-container-id-6 input.sk-toggleable__control:checked~label.sk-toggleable__label-arrow:before {\n",
              "  content: \"▾\";\n",
              "}\n",
              "\n",
              "/* Pipeline/ColumnTransformer-specific style */\n",
              "\n",
              "#sk-container-id-6 div.sk-label input.sk-toggleable__control:checked~label.sk-toggleable__label {\n",
              "  color: var(--sklearn-color-text);\n",
              "  background-color: var(--sklearn-color-unfitted-level-2);\n",
              "}\n",
              "\n",
              "#sk-container-id-6 div.sk-label.fitted input.sk-toggleable__control:checked~label.sk-toggleable__label {\n",
              "  background-color: var(--sklearn-color-fitted-level-2);\n",
              "}\n",
              "\n",
              "/* Estimator-specific style */\n",
              "\n",
              "/* Colorize estimator box */\n",
              "#sk-container-id-6 div.sk-estimator input.sk-toggleable__control:checked~label.sk-toggleable__label {\n",
              "  /* unfitted */\n",
              "  background-color: var(--sklearn-color-unfitted-level-2);\n",
              "}\n",
              "\n",
              "#sk-container-id-6 div.sk-estimator.fitted input.sk-toggleable__control:checked~label.sk-toggleable__label {\n",
              "  /* fitted */\n",
              "  background-color: var(--sklearn-color-fitted-level-2);\n",
              "}\n",
              "\n",
              "#sk-container-id-6 div.sk-label label.sk-toggleable__label,\n",
              "#sk-container-id-6 div.sk-label label {\n",
              "  /* The background is the default theme color */\n",
              "  color: var(--sklearn-color-text-on-default-background);\n",
              "}\n",
              "\n",
              "/* On hover, darken the color of the background */\n",
              "#sk-container-id-6 div.sk-label:hover label.sk-toggleable__label {\n",
              "  color: var(--sklearn-color-text);\n",
              "  background-color: var(--sklearn-color-unfitted-level-2);\n",
              "}\n",
              "\n",
              "/* Label box, darken color on hover, fitted */\n",
              "#sk-container-id-6 div.sk-label.fitted:hover label.sk-toggleable__label.fitted {\n",
              "  color: var(--sklearn-color-text);\n",
              "  background-color: var(--sklearn-color-fitted-level-2);\n",
              "}\n",
              "\n",
              "/* Estimator label */\n",
              "\n",
              "#sk-container-id-6 div.sk-label label {\n",
              "  font-family: monospace;\n",
              "  font-weight: bold;\n",
              "  display: inline-block;\n",
              "  line-height: 1.2em;\n",
              "}\n",
              "\n",
              "#sk-container-id-6 div.sk-label-container {\n",
              "  text-align: center;\n",
              "}\n",
              "\n",
              "/* Estimator-specific */\n",
              "#sk-container-id-6 div.sk-estimator {\n",
              "  font-family: monospace;\n",
              "  border: 1px dotted var(--sklearn-color-border-box);\n",
              "  border-radius: 0.25em;\n",
              "  box-sizing: border-box;\n",
              "  margin-bottom: 0.5em;\n",
              "  /* unfitted */\n",
              "  background-color: var(--sklearn-color-unfitted-level-0);\n",
              "}\n",
              "\n",
              "#sk-container-id-6 div.sk-estimator.fitted {\n",
              "  /* fitted */\n",
              "  background-color: var(--sklearn-color-fitted-level-0);\n",
              "}\n",
              "\n",
              "/* on hover */\n",
              "#sk-container-id-6 div.sk-estimator:hover {\n",
              "  /* unfitted */\n",
              "  background-color: var(--sklearn-color-unfitted-level-2);\n",
              "}\n",
              "\n",
              "#sk-container-id-6 div.sk-estimator.fitted:hover {\n",
              "  /* fitted */\n",
              "  background-color: var(--sklearn-color-fitted-level-2);\n",
              "}\n",
              "\n",
              "/* Specification for estimator info (e.g. \"i\" and \"?\") */\n",
              "\n",
              "/* Common style for \"i\" and \"?\" */\n",
              "\n",
              ".sk-estimator-doc-link,\n",
              "a:link.sk-estimator-doc-link,\n",
              "a:visited.sk-estimator-doc-link {\n",
              "  float: right;\n",
              "  font-size: smaller;\n",
              "  line-height: 1em;\n",
              "  font-family: monospace;\n",
              "  background-color: var(--sklearn-color-background);\n",
              "  border-radius: 1em;\n",
              "  height: 1em;\n",
              "  width: 1em;\n",
              "  text-decoration: none !important;\n",
              "  margin-left: 0.5em;\n",
              "  text-align: center;\n",
              "  /* unfitted */\n",
              "  border: var(--sklearn-color-unfitted-level-1) 1pt solid;\n",
              "  color: var(--sklearn-color-unfitted-level-1);\n",
              "}\n",
              "\n",
              ".sk-estimator-doc-link.fitted,\n",
              "a:link.sk-estimator-doc-link.fitted,\n",
              "a:visited.sk-estimator-doc-link.fitted {\n",
              "  /* fitted */\n",
              "  border: var(--sklearn-color-fitted-level-1) 1pt solid;\n",
              "  color: var(--sklearn-color-fitted-level-1);\n",
              "}\n",
              "\n",
              "/* On hover */\n",
              "div.sk-estimator:hover .sk-estimator-doc-link:hover,\n",
              ".sk-estimator-doc-link:hover,\n",
              "div.sk-label-container:hover .sk-estimator-doc-link:hover,\n",
              ".sk-estimator-doc-link:hover {\n",
              "  /* unfitted */\n",
              "  background-color: var(--sklearn-color-unfitted-level-3);\n",
              "  color: var(--sklearn-color-background);\n",
              "  text-decoration: none;\n",
              "}\n",
              "\n",
              "div.sk-estimator.fitted:hover .sk-estimator-doc-link.fitted:hover,\n",
              ".sk-estimator-doc-link.fitted:hover,\n",
              "div.sk-label-container:hover .sk-estimator-doc-link.fitted:hover,\n",
              ".sk-estimator-doc-link.fitted:hover {\n",
              "  /* fitted */\n",
              "  background-color: var(--sklearn-color-fitted-level-3);\n",
              "  color: var(--sklearn-color-background);\n",
              "  text-decoration: none;\n",
              "}\n",
              "\n",
              "/* Span, style for the box shown on hovering the info icon */\n",
              ".sk-estimator-doc-link span {\n",
              "  display: none;\n",
              "  z-index: 9999;\n",
              "  position: relative;\n",
              "  font-weight: normal;\n",
              "  right: .2ex;\n",
              "  padding: .5ex;\n",
              "  margin: .5ex;\n",
              "  width: min-content;\n",
              "  min-width: 20ex;\n",
              "  max-width: 50ex;\n",
              "  color: var(--sklearn-color-text);\n",
              "  box-shadow: 2pt 2pt 4pt #999;\n",
              "  /* unfitted */\n",
              "  background: var(--sklearn-color-unfitted-level-0);\n",
              "  border: .5pt solid var(--sklearn-color-unfitted-level-3);\n",
              "}\n",
              "\n",
              ".sk-estimator-doc-link.fitted span {\n",
              "  /* fitted */\n",
              "  background: var(--sklearn-color-fitted-level-0);\n",
              "  border: var(--sklearn-color-fitted-level-3);\n",
              "}\n",
              "\n",
              ".sk-estimator-doc-link:hover span {\n",
              "  display: block;\n",
              "}\n",
              "\n",
              "/* \"?\"-specific style due to the `<a>` HTML tag */\n",
              "\n",
              "#sk-container-id-6 a.estimator_doc_link {\n",
              "  float: right;\n",
              "  font-size: 1rem;\n",
              "  line-height: 1em;\n",
              "  font-family: monospace;\n",
              "  background-color: var(--sklearn-color-background);\n",
              "  border-radius: 1rem;\n",
              "  height: 1rem;\n",
              "  width: 1rem;\n",
              "  text-decoration: none;\n",
              "  /* unfitted */\n",
              "  color: var(--sklearn-color-unfitted-level-1);\n",
              "  border: var(--sklearn-color-unfitted-level-1) 1pt solid;\n",
              "}\n",
              "\n",
              "#sk-container-id-6 a.estimator_doc_link.fitted {\n",
              "  /* fitted */\n",
              "  border: var(--sklearn-color-fitted-level-1) 1pt solid;\n",
              "  color: var(--sklearn-color-fitted-level-1);\n",
              "}\n",
              "\n",
              "/* On hover */\n",
              "#sk-container-id-6 a.estimator_doc_link:hover {\n",
              "  /* unfitted */\n",
              "  background-color: var(--sklearn-color-unfitted-level-3);\n",
              "  color: var(--sklearn-color-background);\n",
              "  text-decoration: none;\n",
              "}\n",
              "\n",
              "#sk-container-id-6 a.estimator_doc_link.fitted:hover {\n",
              "  /* fitted */\n",
              "  background-color: var(--sklearn-color-fitted-level-3);\n",
              "}\n",
              "</style><div id=\"sk-container-id-6\" class=\"sk-top-container\"><div class=\"sk-text-repr-fallback\"><pre>GridSearchCV(cv=2, estimator=SVC(),\n",
              "             param_grid={&#x27;C&#x27;: [0.1, 1, 10, 100], &#x27;class_weight&#x27;: [&#x27;balanced&#x27;],\n",
              "                         &#x27;gamma&#x27;: [1, 0.1, 0.01, 0.001], &#x27;kernel&#x27;: [&#x27;rbf&#x27;]},\n",
              "             verbose=2)</pre><b>In a Jupyter environment, please rerun this cell to show the HTML representation or trust the notebook. <br />On GitHub, the HTML representation is unable to render, please try loading this page with nbviewer.org.</b></div><div class=\"sk-container\" hidden><div class=\"sk-item sk-dashed-wrapped\"><div class=\"sk-label-container\"><div class=\"sk-label fitted sk-toggleable\"><input class=\"sk-toggleable__control sk-hidden--visually\" id=\"sk-estimator-id-10\" type=\"checkbox\" ><label for=\"sk-estimator-id-10\" class=\"sk-toggleable__label fitted sk-toggleable__label-arrow\"><div><div>GridSearchCV</div></div><div><a class=\"sk-estimator-doc-link fitted\" rel=\"noreferrer\" target=\"_blank\" href=\"https://scikit-learn.org/1.6/modules/generated/sklearn.model_selection.GridSearchCV.html\">?<span>Documentation for GridSearchCV</span></a><span class=\"sk-estimator-doc-link fitted\">i<span>Fitted</span></span></div></label><div class=\"sk-toggleable__content fitted\"><pre>GridSearchCV(cv=2, estimator=SVC(),\n",
              "             param_grid={&#x27;C&#x27;: [0.1, 1, 10, 100], &#x27;class_weight&#x27;: [&#x27;balanced&#x27;],\n",
              "                         &#x27;gamma&#x27;: [1, 0.1, 0.01, 0.001], &#x27;kernel&#x27;: [&#x27;rbf&#x27;]},\n",
              "             verbose=2)</pre></div> </div></div><div class=\"sk-parallel\"><div class=\"sk-parallel-item\"><div class=\"sk-item\"><div class=\"sk-label-container\"><div class=\"sk-label fitted sk-toggleable\"><input class=\"sk-toggleable__control sk-hidden--visually\" id=\"sk-estimator-id-11\" type=\"checkbox\" ><label for=\"sk-estimator-id-11\" class=\"sk-toggleable__label fitted sk-toggleable__label-arrow\"><div><div>best_estimator_: SVC</div></div></label><div class=\"sk-toggleable__content fitted\"><pre>SVC(C=100, class_weight=&#x27;balanced&#x27;, gamma=0.01)</pre></div> </div></div><div class=\"sk-serial\"><div class=\"sk-item\"><div class=\"sk-estimator fitted sk-toggleable\"><input class=\"sk-toggleable__control sk-hidden--visually\" id=\"sk-estimator-id-12\" type=\"checkbox\" ><label for=\"sk-estimator-id-12\" class=\"sk-toggleable__label fitted sk-toggleable__label-arrow\"><div><div>SVC</div></div><div><a class=\"sk-estimator-doc-link fitted\" rel=\"noreferrer\" target=\"_blank\" href=\"https://scikit-learn.org/1.6/modules/generated/sklearn.svm.SVC.html\">?<span>Documentation for SVC</span></a></div></label><div class=\"sk-toggleable__content fitted\"><pre>SVC(C=100, class_weight=&#x27;balanced&#x27;, gamma=0.01)</pre></div> </div></div></div></div></div></div></div></div></div>"
            ]
          },
          "metadata": {},
          "execution_count": 79
        }
      ]
    }
  ]
}